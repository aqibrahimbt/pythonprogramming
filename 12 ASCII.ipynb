{
 "cells": [
  {
   "cell_type": "markdown",
   "metadata": {},
   "source": [
    "# Binary and ASCII data"
   ]
  },
  {
   "cell_type": "markdown",
   "metadata": {},
   "source": [
    "1 byte consists of 8 bits. These 8 bits can represent 2^8 = 256 different values. However, ASCII only uses half of them. The following code produces a table of all printable ASCII values. This code uses several advanced concepts and it is okay if you do not understand it completely."
   ]
  },
  {
   "cell_type": "code",
   "execution_count": null,
   "metadata": {
    "collapsed": true,
    "scrolled": true
   },
   "outputs": [],
   "source": [
    "#this is some very technical Python code\n",
    "\n",
    "#first define a FORMAT string. All the {} braces are placeholders.\n",
    "#When you then say `row_string.format( 1, 2, 3 )` it will insert 1, 2 and 3\n",
    "#into the placeholders respectively.\n",
    "#There are also some special commands like `:b` that you can use within\n",
    "#the {} placeholders to perform additional actions. In this case\n",
    "#the :b causes the input to be converted to a binary number\n",
    "#\n",
    "#This string contains HTML code which is not Python-specific\n",
    "#but which can be used together with the Jupyter notebook.\n",
    "#<tr> stands for \"table row\"\n",
    "#<th> stands for a \"table header\" cell\n",
    "#<td> stands for a \"table data\" cell\n",
    "row_string = '<tr><td>{}</td><td>{:b}</td><td>{}</td></tr>'\n",
    "\n",
    "ascii_html_values = []\n",
    "for i in range( 32, 128 ): #almost everything below 32 can not be printed clearly\n",
    "    ascii_html_values.append( row_string.format( i, i, chr( i ) ) )\n",
    "\n",
    "#Put all the HTML together and display it in the notebook\n",
    "from IPython.display import display, HTML\n",
    "display( HTML( '''<table><tr><th>Decimal value</th>\n",
    "                             <th>Binary value</th>\n",
    "                             <th>character</th>\n",
    "                         </tr>'''\n",
    "               + ''.join( ascii_html_values )\n",
    "               + '</table>' ) )"
   ]
  },
  {
   "cell_type": "markdown",
   "metadata": {},
   "source": [
    "The key idea to understand here is: All the values in a row have the same binary value. It depends on the *reader* how to interpret this binary value.\n",
    "\n",
    "<span style=\"color:teal\">Task:</span> Write a program that displays the numbers from 0 to 32 in binary. You can use the `{:b}` format string for this."
   ]
  },
  {
   "cell_type": "code",
   "execution_count": null,
   "metadata": {
    "collapsed": true
   },
   "outputs": [],
   "source": [
    "def get_binary_representation( string ):\n",
    "    numeric_values = []\n",
    "    for letter in string:\n",
    "        #the function `ord` converts a letter to its numeric value\n",
    "        numeric_values.append( ord( letter ) )\n",
    "        \n",
    "    #When you multiply a string with a number, the string\n",
    "    #will be repeated accordingly. This also works with format strings.\n",
    "    #\n",
    "    #The `len` function gives us the length of a string\n",
    "    #You can also use `len` with lists and dictionaries\n",
    "    #\n",
    "    #When you have a list [1,2,3] and a function that expects 3 parameters,\n",
    "    #you can do `function( *my_list )` to fill in the parameters\n",
    "    return ( '{:b} ' * len( string ) ).format( *numeric_values )"
   ]
  },
  {
   "cell_type": "code",
   "execution_count": null,
   "metadata": {
    "collapsed": true
   },
   "outputs": [],
   "source": [
    "get_binary_representation( \"your name here\" )"
   ]
  },
  {
   "cell_type": "markdown",
   "metadata": {},
   "source": [
    "You see how cryptic binary code is? That is why it is important to have a well-defined meaning for your data. If possible, you should use either ASCII or UTF-8 (which contains all of ASCII) to encode your data, because then it is trivial to decode the data again. Both ASCII and UTF-8 are widely accepted and supported by many programs. But not everyone plays by the rules and that makes things more difficult than they need to be."
   ]
  },
  {
   "cell_type": "code",
   "execution_count": null,
   "metadata": {
    "collapsed": true
   },
   "outputs": [],
   "source": [
    "def get_original_representation( binary_code ):\n",
    "    bytes = binary_code.rstrip().split() #rstrip removes any whitespace at the end\n",
    "    result = []\n",
    "    for byte in bytes:\n",
    "        #The `int` function takes two arguments: The value that should be\n",
    "        #converted and the numeric base the original value is from. Binary\n",
    "        #data has base 2\n",
    "        #\n",
    "        #The `chr` function converts a number to its Unicode letter\n",
    "        letter = chr( int( byte, 2 ) )\n",
    "        result.append( letter )\n",
    "    return ''.join( result )"
   ]
  },
  {
   "cell_type": "code",
   "execution_count": null,
   "metadata": {
    "collapsed": true
   },
   "outputs": [],
   "source": [
    "get_original_representation( get_binary_representation( \"Two-Way ticket\" ) )"
   ]
  },
  {
   "cell_type": "markdown",
   "metadata": {},
   "source": [
    "However, there are some situations where it is not a good idea to use ASCII or UTF-8. For example, when you have to store a lot of information, it is probably a better idea to chose a more efficient binary encoding to save space. But this will make it a lot harder to write programs that can read this data.\n",
    "\n",
    "I hope this is clear to you now. The problem is of course, that most people do not know this. And they store their data in file formats that are not easy to write programs for. For example, let's take a look at one Excel file that you have gotten from the experiments in the previous weeks:\n",
    "\n",
    "\n",
    "<code>\n",
    "10010100 11001111 01101110 11000010 00110000 00001100  ..n.0.\n",
    "11000110 11101111 10010011 11110110 00001110 01010101  .....U\n",
    "10101110 01010011 00011011 11100000 00110000 01001101  .S..0M\n",
    "00010011 10000101 11000011 11111110 00011100 00110111  .....7\n",
    "10100100 10110001 00000111 11001000 00011010 01000011  .....C\n",
    "00100011 11010010 00100100 10001010 00001101 10000011  #.$...\n",
    "10110111 10011111 00011011 01100000 10011010 10100110  ...`..\n",
    "00001110 10000100 01000000 11011010 10100101 01010001  ..@..Q\n",
    "00011011 11111011 11111011 01111110 01110001 01100011  ...~qc\n",
    "00001111 11000111 11101011 11000110 01100110 00101011  ....f+\n",
    "10001000 01101000 10111100 00101011 01000101 10111111  .h.+E.\n",
    "11101000 10001001 00001100 01011100 11100101 10110101  ...\\..\n",
    "01110001 11110011 01010010 10111100 01001111 10011111  q.R.O.\n",
    "11110011 00111011 10010001 00100001 00101001 10100111  .;.!).\n",
    "10010101 11110101 00001110 01001010 10110001 00000001  ...J..\n",
    "00010100 11100011 11010001 11110101 11010101 01110000  .....p\n",
    "10111010 00001001 10000000 00011001 01100111 00111011  ....g;\n",
    "00101100 01000101 01001101 00010100 11101110 10100101  ,EM...\n",
    "11000100 10101010 10000110 01000110 01100001 11100001  ...Fa.\n",
    "00000011 00111000 11011110 10011001 11111001 11011000  .8....\n",
    "</code>\n",
    "(More stuff follows)\n",
    "\n",
    "The first 6 columns are the binary values. The last column are the ASCII values if they are valid ASCII values. You see, that this is not a simple file format. Something like this is much nicer:\n",
    "\n",
    "<code>\n",
    "01001101 01100101 01110100 01101000 01101111 01100100  Method\n",
    "00100000 01101110 01100001 01101101 01100101 00111010   name:\n",
    "00100000 01101101 01100001 01110011 01110100 01100101   maste\n",
    "01110010 01101011 01110101 01110010 01110011 00110010  rkurs2\n",
    "00110000 00110001 00111000 01011111 01101110 00110010  018_n2\n",
    "01100001 01011111 01110101 01101110 01100100 01101001  a_undi\n",
    "01100110 01100110 01100101 01110010 01100101 01101110  fferen\n",
    "01110100 01101001 01100001 01110100 01100101 01100100  tiated\n",
    "00001001 00001001 00001001 00001001 00001001 00001001  ......\n",
    "00001001 00001001 00001001 00001001 00001001 00001001  ......\n",
    "00001001 00001001 00001001 00001001 00001001 00001001  ......\n",
    "00001001 00001001 00001001 00001001 00001001 00001001  ......\n",
    "00001001 00001001 00001001 00001001 00001001 00001001  ......\n",
    "00001001 00001001 00001001 00001001 00001001 00001001  ......\n",
    "00001001 00001001 00001001 00001001 00001001 00001001  ......\n",
    "00001001 00001001 00001001 00001001 00001010 01000001  .....A\n",
    "01110000 01110000 01101100 01101001 01100011 01100001  pplica\n",
    "01110100 01101001 01101111 01101110 00111010 00100000  tion: \n",
    "01010011 01110000 01100001 01110010 01101011 01000011  SparkC\n",
    "01101111 01101110 01110100 01110010 01101111 01101100  ontrol\n",
    "00001001 00001001 00001001 00001001 00110001 00101110  ....1.\n",
    "00110001 00001001 00001001 00001001 00001001 00001001  1.....\n",
    "00001001 00001001 00001001 00001001 00001001 00001001  ......\n",
    "00001001 00001001 00001001 00001001 00001001 00001001  ......\n",
    "00001001 00001001 00001001 00001001 00001001 00001001  ......\n",
    "</code>\n",
    "\n",
    "The 00001001 stands for the tab character (\\t) that you can use to separate columns in a file. This format still is far from perfect, because there are so many empty columns, but it is a lot easier to work with than the other example.\n",
    "\n",
    "The two examples are based on the same original file. However, in the second case I saved the file in a different file format, so that it is more readable. The file format is called CSV (for comma separated values). As a separator I chose `tab` and I disabled quoting of values.\n",
    "\n",
    "<span style=\"color:teal\">Task: </span> Download <a href=\"data/masterkurs2018_n2a_differentiated_20180108_20180109.xlsx\">this file</a> and open it with a spreadsheet program. Then save it as a CSV file. Please note that you can only save the active sheet can be saved as a CSV file and you need to create two separate files for each sheet. And as stated previously, it is adviseable to use `tab` as a column separator and to disable quoting.\n",
    "\n",
    "CSV stands for \"comma separated values\". It is a simple file format that is relatively easy to use. And if you use tabs as column separator and disable quoting things get even easier.\n",
    "\n",
    "<span style=\"color:teal\">Task: </span> Open and shortly investigate the newly created CSV files with\n",
    "\n",
    "* Notepad.exe if you are on Windows\n",
    "* TextEdit if you are on MacOS\n",
    "* $EDITOR if you are on Linux or *BSD"
   ]
  },
  {
   "cell_type": "code",
   "execution_count": null,
   "metadata": {
    "collapsed": true
   },
   "outputs": [],
   "source": [
    "from IPython.display import display, HTML\n",
    "link = '''0111100 1100001  100000 1101000 1110010 1100101 1100110  111101\n",
    "           100010  110001  110011  100000 1001001 1001111  101110 1101001\n",
    "          1110000 1111001 1101110 1100010  100010  100000 1110100 1100001\n",
    "          1110010 1100111 1100101 1110100  111101  100010 1011111 1100010\n",
    "          1101100 1100001 1101110 1101011  100010  111110 1001100 1100101\n",
    "          1110100  100000 1110101 1110011  100000 1100110 1101001 1101110\n",
    "          1100001 1101100 1101100 1111001  100000 1110010 1100101 1100001\n",
    "          1100100  100000 1100001 1101110 1100100  100000 1110111 1110010\n",
    "          1101001 1110100 1100101 100000  1110011 1101111 1101101 1100101\n",
    "           100000 1100110 1101001 1101100 1100101 1110011  100001  111100\n",
    "           101111 1100001 111110'''\n",
    "\n",
    "# you know what to do, right? You can use a function we defined earlier in this chapter"
   ]
  }
 ],
 "metadata": {
  "kernelspec": {
   "display_name": "Python 3",
   "language": "python",
   "name": "python3"
  },
  "language_info": {
   "codemirror_mode": {
    "name": "ipython",
    "version": 3
   },
   "file_extension": ".py",
   "mimetype": "text/x-python",
   "name": "python",
   "nbconvert_exporter": "python",
   "pygments_lexer": "ipython3",
   "version": "3.6.4"
  }
 },
 "nbformat": 4,
 "nbformat_minor": 2
}
