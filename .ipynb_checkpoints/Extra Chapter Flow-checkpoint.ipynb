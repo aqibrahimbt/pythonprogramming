{
 "cells": [
  {
   "cell_type": "markdown",
   "metadata": {},
   "source": [
    "# Flow in Python (and most other programming languages)"
   ]
  },
  {
   "cell_type": "markdown",
   "metadata": {},
   "source": [
    "A program is a list of instructions. A program will usually start at a specific line. In the case of Python it is the first line of the program. Python will then run each line consecutively until the end of the file. However, there are some things that make Python go to different *directions*. And we are going to demonstrate this by using the Jupyter notebook debugger which allows you to directly follow the execution of a program!"
   ]
  },
  {
   "cell_type": "code",
   "execution_count": null,
   "metadata": {
    "collapsed": true
   },
   "outputs": [],
   "source": [
    "#this line will give us access to the debugger\n",
    "from IPython.core.debugger import set_trace as debug"
   ]
  },
  {
   "cell_type": "markdown",
   "metadata": {},
   "source": [
    "General advice: Go to `View` and then `Toggle Line Numbers` to enable line numbers."
   ]
  },
  {
   "cell_type": "code",
   "execution_count": null,
   "metadata": {
    "scrolled": true
   },
   "outputs": [],
   "source": [
    "\n",
    "print( \"Usage: Use 'n' to run the next instruction. Use 'q' to quit or c to let the program continue to the end\" )\n",
    "\n",
    "def weekdays_commentary(): #for the debugger to work, we need to wrap this stuff in a function\n",
    "    debug() # start the debugger for this cell\n",
    "\n",
    "    day = 'Wednesday' # remeber: press 'n' to run the next command\n",
    "    \n",
    "    #and if you just press enter without any further input it repeat the previous command (which is probably 'n')\n",
    "\n",
    "    if day == 'Monday':\n",
    "        print( 'I hate Mondays')\n",
    "    elif day == 'Tuesday':\n",
    "        print( \"Ta Ta Tuesdays?\" )\n",
    "    elif day == 'Wednesday':\n",
    "        print( 'Middle of the Week!' )\n",
    "    elif day == 'Thursday':\n",
    "        print( 'Thunderstorms!' )\n",
    "    elif day == 'Friday':\n",
    "        print( 'Yay, almost done!' )\n",
    "    elif day == 'Saturday':\n",
    "        print( 'Completey saturated' )\n",
    "    elif day == 'Sunday':\n",
    "        print( 'Time for Sunbirn' )\n",
    "    else:\n",
    "        print( 'Which planet are you from?' )\n",
    "        \n",
    "    print( \"Time to jump off! Press c\" ) # you should really press c now.\n",
    "        \n",
    "weekdays_commentary()"
   ]
  },
  {
   "cell_type": "markdown",
   "metadata": {},
   "source": [
    "Tip: Check out this nice <a href=\"http://frid.github.io/blog/2014/06/05/python-ipdb-cheatsheet/\" target=\"_blank\">Cheat Sheet</a> for debugger commands.\n",
    "\n",
    "Did you notice that the program skips some lines? First of all, there are the empty lines that Python just ignores. But then there are also the lines that are guarded by (el)if conditions. These lines will only be executed when the corresponding conditions are `True`. Also, once we reach the check for Wednesdays, all the other checks are completely ignored and the program jumps to the end of the if-elif-else section.\n",
    "\n",
    "Let's take a look at loops next:"
   ]
  },
  {
   "cell_type": "code",
   "execution_count": null,
   "metadata": {
    "scrolled": true
   },
   "outputs": [],
   "source": [
    "def sum_to( n ): \n",
    "    debug() #start debug mode\n",
    "    total = 0\n",
    "    for number in range( n + 1 ):\n",
    "        total = total + number # tip: use the `p total` command to see the current value of `total`\n",
    "    # end of for loop\n",
    "    \n",
    "    return total # You should enter c now!\n",
    "\n",
    "sum_to( 2 ) # evaluates to 3"
   ]
  },
  {
   "cell_type": "markdown",
   "metadata": {},
   "source": [
    "Did you notice how Python jumps back from line 5 to line 4? Line 5 is the last line of the `for` loop's body and that is why Python jumps back to the beginning of the loop (which is located in line 4).\n",
    "\n",
    "Let's take another look at a `while` loop:"
   ]
  },
  {
   "cell_type": "code",
   "execution_count": null,
   "metadata": {
    "collapsed": true
   },
   "outputs": [],
   "source": [
    "def take_stock_on_bottles(): #for the debugger to work, we need to wrap this stuff in a function\n",
    "    debug()\n",
    "    bottles_on_the_wall = 4\n",
    "\n",
    "    while bottles_on_the_wall < 9:\n",
    "        print( \"We need more bottles!\" )\n",
    "        bottles_on_the_wall += 3\n",
    "\n",
    "    print( \"That should be enough!\" ) # make sure you press c now!\n",
    "\n",
    "take_stock_on_bottles()"
   ]
  },
  {
   "cell_type": "markdown",
   "metadata": {},
   "source": [
    "Again, did you look at the line numbers, how they changed? It should not be too surprising.\n",
    "\n",
    "But now let us look at something much more complicated: Functions. Functions can make *huge jumps* in the program. When you call a function you make a jump to the place in the code where the function is defined. And once the function is done, the program jumps back to the original point from which the function was called."
   ]
  },
  {
   "cell_type": "code",
   "execution_count": null,
   "metadata": {
    "collapsed": true
   },
   "outputs": [],
   "source": [
    "def zoo():\n",
    "    print( \"Entering the zoo\" )\n",
    "    giraffe()\n",
    "    lion()\n",
    "    print( \"Done with the zoo\" )\n",
    "\n",
    "def botanical_garden():\n",
    "    print( \"Entering the botanical garden\" )\n",
    "    cactus()\n",
    "    palm_tree()\n",
    "    print( \"Done with the botanical garden\" )\n",
    "\n",
    "def giraffe():\n",
    "    print( \"I see a Giraffe!\" )\n",
    "\n",
    "def lion():\n",
    "    print( \"I see a Lion!\" )\n",
    "\n",
    "def palm_tree():\n",
    "    print( \"I see a Palm tree!\" )\n",
    "\n",
    "def cactus():\n",
    "    print( \"I see a Cactus!\" )\n",
    "\n",
    "def trip():\n",
    "    #debug() # I think in this case it should be clear what happens. But feel free to debug() if you want to!\n",
    "\n",
    "    print( \"We go on a trip!\" )\n",
    "    zoo()\n",
    "    botanical_garden()\n",
    "    print( \"Done with the trip!\" )\n",
    "\n",
    "trip()"
   ]
  },
  {
   "cell_type": "markdown",
   "metadata": {},
   "source": [
    "That is a lot of jumping that happens in the above program! We start with the `trip` function and then first go to the zoo but later we also go to the botanical guarden. However, both the zoo and the botanical guarden are full of amazing things to see. The program jumps to the specific functions that exclaim that there is something interesting to see.\n",
    "\n",
    "Note that the ordering in the above program is very different from how the program is actually executed. Also look at how simple the `trip`, `zoo` and `botanical_garden` functions are. They delegate most of their work to other functions.\n",
    "\n",
    "Now, let us look at function (and method) parameters which I consider to be extremely importand and useful in programming. For this part of the excercise please use the `s` instead of the `n` command to execute the next command. When you use `s`, you *step into* the function that is being called."
   ]
  },
  {
   "cell_type": "code",
   "execution_count": null,
   "metadata": {
    "collapsed": true
   },
   "outputs": [],
   "source": [
    "#okay, this is definitely not the best example but it should work for now.\n",
    "#I still need to do some other things for the course\n",
    "\n",
    "def add( a, b ): # a super-simple function\n",
    "    return a + b # run `p a` and `p b` to show the values of a and b\n",
    "\n",
    "def multiply( a, b ): # another super-simple function\n",
    "    return a * b # run `p a` and `p b` to show the values of a and b\n",
    "\n",
    "def my_function():\n",
    "    debug()\n",
    "    \n",
    "    first_sum = add( 3, 7 ) # remember to press `s` instead of `n`\n",
    "    second_sum = add( 4, 2 ) # remember to press `s` instead of `n`\n",
    "    first_product = multiply( first_sum, second_sum ) # remember to press `s` instead of `n`\n",
    "    second_product = multiply( first_product, 5 ) # remember to press `s` instead of `n`\n",
    "    return second_product # press `c` now!\n",
    "\n",
    "my_function()"
   ]
  },
  {
   "cell_type": "markdown",
   "metadata": {},
   "source": [
    "Of course you can also use the debugger in other notebook excercises. But make sure that you only do it within functions because otherwise you will get weird output.\n",
    "\n",
    "Another example that demonstrates how Python substitutes/transforms calls to functions and operators step by step: "
   ]
  },
  {
   "cell_type": "code",
   "execution_count": null,
   "metadata": {
    "collapsed": true
   },
   "outputs": [],
   "source": [
    "def complement( base ): #get DNA complement\n",
    "    bases = 'ACGT'\n",
    "    complementary_bases = 'TGCA'\n",
    "    return complementary_bases[ bases.index( base ) ]\n",
    "\n",
    "#assuming that our initial strand is\n",
    "initial_strand = 'AC'\n",
    "\n",
    "#then we could manually(!) write this:\n",
    "complementary_strand = complement( 'A' ) + complement( 'C' )\n",
    "#which Python will transform to\n",
    "complementary_strand =             'T'   +             'G'    #I put the letters below each other for readability\n",
    "#and then Python will transform this to\n",
    "complementary_strand = 'TG'"
   ]
  },
  {
   "cell_type": "markdown",
   "metadata": {},
   "source": [
    "See how in the above example parts of an expression are calculated and then put together to form one final expression?"
   ]
  },
  {
   "cell_type": "markdown",
   "metadata": {},
   "source": [
    "I hope this makes flow in Python a lot clearer. If you still have questions, feel free to ask!"
   ]
  }
 ],
 "metadata": {
  "kernelspec": {
   "display_name": "Python 3",
   "language": "python",
   "name": "python3"
  },
  "language_info": {
   "codemirror_mode": {
    "name": "ipython",
    "version": 3
   },
   "file_extension": ".py",
   "mimetype": "text/x-python",
   "name": "python",
   "nbconvert_exporter": "python",
   "pygments_lexer": "ipython3",
   "version": "3.6.3"
  }
 },
 "nbformat": 4,
 "nbformat_minor": 2
}
