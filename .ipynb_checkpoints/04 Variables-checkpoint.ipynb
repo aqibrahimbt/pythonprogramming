{
 "cells": [
  {
   "cell_type": "markdown",
   "metadata": {},
   "source": [
    "# Variables"
   ]
  },
  {
   "cell_type": "markdown",
   "metadata": {},
   "source": [
    "When was the last time you picked a name for something? I'm asking, because in this chapter is all about giving names to things!\n",
    "\n",
    "When a program runs, it calculates a lot of values. And many times we need these values for more calculations that will happen later in the program. So we need a place to store these values in the meantime. This is actually rather easy. Let's say we have determined the number of E. coli bacteria in our sample, then we can store that number as follows:"
   ]
  },
  {
   "cell_type": "code",
   "execution_count": null,
   "metadata": {
    "collapsed": true
   },
   "outputs": [],
   "source": [
    "number_of_ecoli = 399204"
   ]
  },
  {
   "cell_type": "markdown",
   "metadata": {},
   "source": [
    "We just defined a *variable* with the name `number_of_ecoli`. When you run the above cell, you will notice, that there is no additional output. But don't worry, this is normal because the above line is a variable assignment and variable assignments do not have a direct result. But there is an indirect result: The number of ecoli bacteria in our sample is safely stored away in a variable and we can ask for the value of the variable any time we want:"
   ]
  },
  {
   "cell_type": "code",
   "execution_count": null,
   "metadata": {
    "collapsed": true
   },
   "outputs": [],
   "source": [
    "number_of_ecoli"
   ]
  },
  {
   "cell_type": "markdown",
   "metadata": {},
   "source": [
    "Everything is still there. And we can also do more things with this variable:"
   ]
  },
  {
   "cell_type": "code",
   "execution_count": null,
   "metadata": {
    "collapsed": true
   },
   "outputs": [],
   "source": [
    "number_of_ecoli + 796"
   ]
  },
  {
   "cell_type": "markdown",
   "metadata": {},
   "source": [
    "So, we added 796 to the number of E. coli. Does this impress our E. coli in any way?"
   ]
  },
  {
   "cell_type": "code",
   "execution_count": null,
   "metadata": {
    "collapsed": true
   },
   "outputs": [],
   "source": [
    "number_of_ecoli"
   ]
  },
  {
   "cell_type": "markdown",
   "metadata": {},
   "source": [
    "Not really, we did not tell python to store the result of the calculation. And even if we stored it, we have to say where it should be stored. If it is stored in a new variable, then the old variable will still be the same:"
   ]
  },
  {
   "cell_type": "code",
   "execution_count": null,
   "metadata": {
    "collapsed": true
   },
   "outputs": [],
   "source": [
    "new_number_of_ecoli = number_of_ecoli + 796"
   ]
  },
  {
   "cell_type": "markdown",
   "metadata": {},
   "source": [
    "Notice (again) that we only use a single `=` symbol for variable assignment. If we used `==` instead, we would have asked whether the new number of E. coli is the same as the (old) number of E. coli plus 796.\n",
    "\n",
    "Anyway, let's see what the value of new_number_of_ecoli is:"
   ]
  },
  {
   "cell_type": "code",
   "execution_count": null,
   "metadata": {
    "collapsed": true
   },
   "outputs": [],
   "source": [
    "new_number_of_ecoli"
   ]
  },
  {
   "cell_type": "code",
   "execution_count": null,
   "metadata": {
    "collapsed": true
   },
   "outputs": [],
   "source": [
    "number_of_ecoli"
   ]
  },
  {
   "cell_type": "markdown",
   "metadata": {},
   "source": [
    "You can use variables *at any place where you can also use direct values*. For example:"
   ]
  },
  {
   "cell_type": "code",
   "execution_count": null,
   "metadata": {
    "collapsed": true
   },
   "outputs": [],
   "source": [
    "number_of_ecoli > 1000"
   ]
  },
  {
   "cell_type": "markdown",
   "metadata": {},
   "source": [
    "Or you can write code that does not have any direct values:"
   ]
  },
  {
   "cell_type": "code",
   "execution_count": null,
   "metadata": {
    "collapsed": true
   },
   "outputs": [],
   "source": [
    "number_of_ecoli < new_number_of_ecoli"
   ]
  },
  {
   "cell_type": "markdown",
   "metadata": {},
   "source": [
    "## Picking variable names"
   ]
  },
  {
   "cell_type": "markdown",
   "metadata": {},
   "source": [
    "There are some restrictions that you have to follow when you pick a variable's name. First of all, it is not possible to have a space in the name. For example,&nbsp;&nbsp; `my rabbit` is not a valid variable name because there is a space between `my` and `rabbit`. But what you can do instead, is to use an underscore: `my_rabbit`.\n",
    "\n",
    "Variable names can only consist of letters, digits and the underscore. A variable's name cannot start with a digit.\n",
    "\n",
    "<span style=\"color:teal\">Task:</span> Assign a new value to `number_of_ecoli` and determine if this has any effect on `new_number_of_ecoli`.\n",
    "\n",
    "<span style=\"color:teal\">Task:</span> Create your own variable. Pick an appropriate name.\n",
    "\n",
    "It is **extremely important** that you choose variable names that are descriptive. If you call your variables `measurement`, `rdx` or `p9` it will be very hard to understand what your program is supposed to do. The computer does actually not care much about the names of the variables. But we humans have to read and understand what the code does and also **why** it does the things it does. Many times it will actually be *you* who will read some old code of yours and then you will scratch your head a lot. Having descriptive variable names like `measurement_of_blood_sugar_level` saves you and your fellow scientists from a lot of headaches and time."
   ]
  },
  {
   "cell_type": "markdown",
   "metadata": {},
   "source": [
    "A nice feature of the Jupyter notebook is that it can do tab-completion for you. That means, you only need to type the beginning of a variable's name, and Jupyter will complete the name for you. If there are several possiblities, Jupyter will give you a list of names that you can choose from."
   ]
  },
  {
   "cell_type": "code",
   "execution_count": null,
   "metadata": {
    "collapsed": true
   },
   "outputs": [],
   "source": [
    "number_"
   ]
  },
  {
   "cell_type": "markdown",
   "metadata": {},
   "source": [
    "<span style=\"color:teal\">Task:</span> Select the cell above and press the `Tab` key on your keyboard.\n",
    "\n",
    "Time for the <a href=\"05 Strings.ipynb\">next chapter</a>"
   ]
  }
 ],
 "metadata": {
  "kernelspec": {
   "display_name": "Python 3",
   "language": "python",
   "name": "python3"
  },
  "language_info": {
   "codemirror_mode": {
    "name": "ipython",
    "version": 3
   },
   "file_extension": ".py",
   "mimetype": "text/x-python",
   "name": "python",
   "nbconvert_exporter": "python",
   "pygments_lexer": "ipython3",
   "version": "3.6.1"
  }
 },
 "nbformat": 4,
 "nbformat_minor": 2
}
