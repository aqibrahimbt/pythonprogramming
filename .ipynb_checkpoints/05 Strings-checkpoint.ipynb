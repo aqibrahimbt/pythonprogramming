{
 "cells": [
  {
   "cell_type": "markdown",
   "metadata": {},
   "source": [
    "# Strings (Text)"
   ]
  },
  {
   "cell_type": "markdown",
   "metadata": {
    "collapsed": true
   },
   "source": [
    "Numbers are certainly something a computer is very comformable with. But for our own human needs there is something else that we usually prefer to bare numbers: Words. And if we combine words, we form sentences. And by combining sentences we get texts. But we can also go the other direction: We can take a word and split it apart into syllables or single letters.\n",
    "\n",
    "So, what is Python's take on words? It actually does not care whether we deal with letters, syllables, words, sentences or longer texts. For Python it is all the same and it calls all of these things *strings*."
   ]
  },
  {
   "cell_type": "markdown",
   "metadata": {},
   "source": [
    "How do we work with strings? You have to keep in mind that Python does not understand human language. Python only understands its own language (Python). So we have to mark text in human language with quotes (\"):"
   ]
  },
  {
   "cell_type": "code",
   "execution_count": null,
   "metadata": {
    "collapsed": true
   },
   "outputs": [],
   "source": [
    "\"This is a an example for a string that is surrounded by double quotes\""
   ]
  },
  {
   "cell_type": "markdown",
   "metadata": {},
   "source": [
    "There are several ways how you can define a string in Python. But in all cases you have to mark the beginning and the end of a string with quoting characters:"
   ]
  },
  {
   "cell_type": "code",
   "execution_count": null,
   "metadata": {
    "collapsed": true
   },
   "outputs": [],
   "source": [
    "'This is a string enclosed by apostrophes'"
   ]
  },
  {
   "cell_type": "markdown",
   "metadata": {},
   "source": [
    "Okay, that is not too exciting. Things get a lot more interesting, when we combine strings with Variables:"
   ]
  },
  {
   "cell_type": "code",
   "execution_count": null,
   "metadata": {
    "collapsed": true
   },
   "outputs": [],
   "source": [
    "dna_sequence = \"ATCTGAGCTAGCTGCGTATGCTAG\""
   ]
  },
  {
   "cell_type": "markdown",
   "metadata": {},
   "source": [
    "There are a few things that you might notice here:\n",
    "\n",
    "* dna_sequence reads like human language, even though it is not enclosed in quotes\n",
    "* ATCTGAGCTAGCTGCGTATGCTAG is not human language, but it is enclosed in strings\n",
    "\n",
    "The explanations for this are as follows:\n",
    "\n",
    "When you define a variable, you extend the Python language (at least for the current program). The name of a variable can (and should) be something that a human can understand. But the name of a variable can also be complete nonsense.\n",
    "\n",
    "Strings can contain any information, not just human text, even though this is the main purpose for strings.\n",
    "\n",
    "So, even though variables and strings might look similar on the surface, they serve totally different purposes: Variables store values for later retrieval and strings are values (which can be stored in variables). Remember that there are also other types of values like numbers and truth values:"
   ]
  },
  {
   "cell_type": "code",
   "execution_count": null,
   "metadata": {
    "collapsed": true
   },
   "outputs": [],
   "source": [
    "variable_for_a_number = 42"
   ]
  },
  {
   "cell_type": "code",
   "execution_count": null,
   "metadata": {
    "collapsed": true
   },
   "outputs": [],
   "source": [
    "variable_for_a_truth_value = False"
   ]
  },
  {
   "cell_type": "code",
   "execution_count": null,
   "metadata": {
    "collapsed": true
   },
   "outputs": [],
   "source": [
    "variable_for_a_string = \"your ad here!\""
   ]
  },
  {
   "cell_type": "markdown",
   "metadata": {},
   "source": [
    "And we can display all of these values together by putting a comma inbetween them:"
   ]
  },
  {
   "cell_type": "code",
   "execution_count": null,
   "metadata": {
    "collapsed": true,
    "scrolled": true
   },
   "outputs": [],
   "source": [
    "variable_for_a_number, variable_for_a_truth_value, variable_for_a_string"
   ]
  },
  {
   "cell_type": "markdown",
   "metadata": {},
   "source": [
    "Anyway, why should we care about strings? Well, data often contains text for various things: sample labels, DNA sequences, the names of the experimenters, comments with regard to the sample and many more things. Most programs need some type of text processing and that is why we need to work with them.\n",
    "\n",
    "But let us stick to simple examples for now. We will do more difficult things on day 2.\n",
    "\n",
    "<span style=\"color:teal\">Task:</span> Complete the contents of the next two cells with your first and last name as a string."
   ]
  },
  {
   "cell_type": "code",
   "execution_count": null,
   "metadata": {
    "collapsed": true
   },
   "outputs": [],
   "source": [
    "first_name = ???"
   ]
  },
  {
   "cell_type": "code",
   "execution_count": null,
   "metadata": {
    "collapsed": true
   },
   "outputs": [],
   "source": [
    "last_name = ???"
   ]
  },
  {
   "cell_type": "markdown",
   "metadata": {},
   "source": [
    "Just like with numbers, you can also do \"calculations\" with strings. For example, if you add several strings together you get a new string that is the combination of all of these strings!"
   ]
  },
  {
   "cell_type": "code",
   "execution_count": null,
   "metadata": {
    "collapsed": true
   },
   "outputs": [],
   "source": [
    "first_name + \" \" + last_name"
   ]
  },
  {
   "cell_type": "markdown",
   "metadata": {},
   "source": [
    "(Note the string with the space in the middle in the previous cell)\n",
    "\n",
    "So you can just add strings together with plus:"
   ]
  },
  {
   "cell_type": "code",
   "execution_count": null,
   "metadata": {
    "collapsed": true
   },
   "outputs": [],
   "source": [
    "\"bio\" + \"logy\""
   ]
  },
  {
   "cell_type": "markdown",
   "metadata": {},
   "source": [
    "<span style=\"color:teal\">Task:</span> Replace the plus in the above cell with a minus and see if Python likes that."
   ]
  },
  {
   "cell_type": "markdown",
   "metadata": {},
   "source": [
    "Multiplication is also something you can do with strings. For example:"
   ]
  },
  {
   "cell_type": "code",
   "execution_count": null,
   "metadata": {
    "collapsed": true,
    "scrolled": true
   },
   "outputs": [],
   "source": [
    "\"bla \" * 1000"
   ]
  },
  {
   "cell_type": "markdown",
   "metadata": {},
   "source": [
    "When you multiply a string with a number, the string will be repeated accordingly.\n",
    "\n",
    "<span style=\"color:teal\">Task:</span> Create the string \"banana\" using string addition *and* string multiplication without using any variables."
   ]
  },
  {
   "cell_type": "markdown",
   "metadata": {},
   "source": [
    "There is more magic you can do with strings. For example, to see if one string is contained in another, you can do"
   ]
  },
  {
   "cell_type": "code",
   "execution_count": null,
   "metadata": {
    "collapsed": true
   },
   "outputs": [],
   "source": [
    "\"chest\" in \"The cell cycle is a highly orchestrated procedure\""
   ]
  },
  {
   "cell_type": "markdown",
   "metadata": {},
   "source": [
    "You see, Python does not care much about human language. So it assures us that \"chest\" is in this string even though \"orchestrated\" is a different word. So we need to be more precise in what we ask for:"
   ]
  },
  {
   "cell_type": "code",
   "execution_count": null,
   "metadata": {
    "collapsed": true
   },
   "outputs": [],
   "source": [
    "\" chest \" in \"The cell cycle is a highly orchestrated procedure\""
   ]
  },
  {
   "cell_type": "markdown",
   "metadata": {},
   "source": [
    "Which is a bit better, but there are actually more precise tools to work with word endings and strings. However, this is not something that we will cover in this course because the topic is rather advanced. But if you want to learn more, you can check out <a href=\"https://docs.python.org/3/library/re.html\">regular expressions</a>."
   ]
  },
  {
   "cell_type": "markdown",
   "metadata": {},
   "source": [
    "Sometimes we do not care about whether something is somewhere in the string, but we want to ensure that something is either at the beginning or at the end of a string. We can easily do that:"
   ]
  },
  {
   "cell_type": "code",
   "execution_count": null,
   "metadata": {
    "collapsed": true
   },
   "outputs": [],
   "source": [
    "\"E. coli\".startswith( \"E.\" )"
   ]
  },
  {
   "cell_type": "code",
   "execution_count": null,
   "metadata": {
    "collapsed": true
   },
   "outputs": [],
   "source": [
    "\"M. bovis\".endswith( \"bovis\" )"
   ]
  },
  {
   "cell_type": "markdown",
   "metadata": {},
   "source": [
    "Notice the dot after the string? Strings have several build-in *methods* that you can use. For example, `startswith` and `endswith` are methods and they only work with strings. Some methods expect further *parameters* so that they know what to do. In this case we have to tell the methods that we are looking for the substrings \"E.\" and \"bovis\" respectively. But there are also methods that take no parameters:"
   ]
  },
  {
   "cell_type": "code",
   "execution_count": null,
   "metadata": {
    "collapsed": true
   },
   "outputs": [],
   "source": [
    "dna_sequence.lower()"
   ]
  },
  {
   "cell_type": "markdown",
   "metadata": {},
   "source": [
    "See how we just converted the `dna_sequence` from earlier into small letters? And we did not have to pass any parameters to `lower` because it is obvious what `lower` needs to do. But in any case, you always have to write parentheses after the method name. These parentheses are needed for the method to do anything.\n",
    "\n",
    "<span style=\"color:teal\">Task:</span> There are more methods that you can use with strings. Try to figure out what the following methods do: `capitalize`, `count`, `replace`, `title`, `upper` and what kind of parameters they need."
   ]
  },
  {
   "cell_type": "markdown",
   "metadata": {},
   "source": [
    "## Comments"
   ]
  },
  {
   "cell_type": "markdown",
   "metadata": {},
   "source": [
    "There is another element of the Python that is primarily meant for humans and not for machines: Comments. Comments, like strings are something where Python does not care much about what they contain. But unlike strings, comments are not something you can interact with. They serve as documentation *in* the program code to describe why the code is the way it is. For example:"
   ]
  },
  {
   "cell_type": "code",
   "execution_count": null,
   "metadata": {
    "collapsed": true
   },
   "outputs": [],
   "source": [
    "concentration_beta_blocker = 0.535 #this concentration has been recommended by Edwards et al for patients with headaches"
   ]
  },
  {
   "cell_type": "markdown",
   "metadata": {},
   "source": [
    "Comments starts with the hash (#) symbol and then continue until the end of the line. They are solely meant for humans to read and to understand the code better. Comments have absolutely *no* effect on the program itself. A program without comments behaves exactly like a program with comments. But for us humans it is very helpful to have comments. Just imagine you find a program with a variable `concentration_beta_blocker` but there is no explanation why the programmer chose the value of 0.535. What if you want to change the program, but you do not understand if it would be a good idea to change the value? Comments can be incredibly helpful here.\n",
    "\n",
    "<span style=\"color:teal\">Task:</span> What does the following piece of code mean?"
   ]
  },
  {
   "cell_type": "code",
   "execution_count": null,
   "metadata": {
    "collapsed": true
   },
   "outputs": [],
   "source": [
    "biology = \"biology\" # biology"
   ]
  },
  {
   "cell_type": "markdown",
   "metadata": {},
   "source": [
    "Time for the next level! Let us proceed to <a href=\"06 Conditions.ipynb\">conditions</a>!"
   ]
  }
 ],
 "metadata": {
  "kernelspec": {
   "display_name": "Python 3",
   "language": "python",
   "name": "python3"
  },
  "language_info": {
   "codemirror_mode": {
    "name": "ipython",
    "version": 3
   },
   "file_extension": ".py",
   "mimetype": "text/x-python",
   "name": "python",
   "nbconvert_exporter": "python",
   "pygments_lexer": "ipython3",
   "version": "3.6.1"
  }
 },
 "nbformat": 4,
 "nbformat_minor": 2
}
