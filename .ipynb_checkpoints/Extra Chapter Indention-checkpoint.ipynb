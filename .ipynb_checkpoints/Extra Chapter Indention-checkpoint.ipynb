{
 "cells": [
  {
   "cell_type": "markdown",
   "metadata": {},
   "source": [
    "# Indention in Python (and what it means)"
   ]
  },
  {
   "cell_type": "markdown",
   "metadata": {},
   "source": [
    "Any code that is written directly at the left of a cell (or in a file) will be executed directly. For example:"
   ]
  },
  {
   "cell_type": "code",
   "execution_count": null,
   "metadata": {
    "collapsed": true
   },
   "outputs": [],
   "source": [
    "print( 'This print is all the way to the left.')\n",
    "print( 'This one is too' )\n",
    "print( 'In other words: There are no spaces or tabs in front of these prints' )"
   ]
  },
  {
   "cell_type": "markdown",
   "metadata": {},
   "source": [
    "Code that is indented to the right (using spaces or tabs) is only excuted under specific conditions. For example:"
   ]
  },
  {
   "cell_type": "code",
   "execution_count": null,
   "metadata": {
    "collapsed": true
   },
   "outputs": [],
   "source": [
    "if sum([1,2,3]) == 6: #this line is always executed because it is at the very left\n",
    "    print( 'This line is only executed if `sum([1,2,3]) == 6' ) #this line is conditionally executed!\n",
    "    print( 'Another print just for illustration' ) #this line is conditionally executed\n",
    "\n",
    "i = 0 #always executed\n",
    "while i < 5: #always executed\n",
    "    print( 'i currently is ', i ) #conditional\n",
    "    i = i + 1 #conditional\n",
    "\n",
    "    \n",
    "if False: #always executed (Python takes `False` and checks if it is either `True` or `False`)\n",
    "    print( 'If you replace the False with True I will be printed!' ) #conditional\n",
    "else: #This one is a bit odd. It is always executed but just this line by itself has no effect irregardless of whether the `if` before it is True or False\n",
    "    print( 'I am only executed when the if condition is False') #conditional\n",
    "    print( 'Me too!' ) #conditional\n",
    "\n",
    "for i in range( 5 ): #always executed. That means Python always calculates `range( 5 )`\n",
    "    print( \"The i in the for loop is\", i ) #conditionally executed, for as long as there are values left from `range( 5 )`\n",
    "    \n",
    "for j in range( 0 ): #always executed\n",
    "    print( \"This is j!\" ) #conditionally executed. In this case this line will not be executed because range( 0 ) results in an empty sequence so that there are no elements to process "
   ]
  },
  {
   "cell_type": "markdown",
   "metadata": {},
   "source": [
    "These principles also apply to functions and methods (we have not learned how to define methods yet in this tutorial). For example:"
   ]
  },
  {
   "cell_type": "code",
   "execution_count": null,
   "metadata": {
    "collapsed": true
   },
   "outputs": [],
   "source": [
    "def my_function( a, b, c ): #this line is always executed. It will define the function `my_function` and make it available to Python\n",
    "    print( 'The values are', a, b, c ) #conditionally executed. This is only run when the function is called from some OTHER place\n",
    "    print( 'Just wanted to say Hi!') #conditionally executed\n",
    "\n",
    "my_function( 1, 2, 3) #always executed because it is at the left\n",
    "\n",
    "def my_other_function(): #always executed\n",
    "    print( 'No one likes me' ) #conditionally executed. In this specific case this line will never be executed because the function is not called anywhere"
   ]
  },
  {
   "cell_type": "markdown",
   "metadata": {},
   "source": [
    "These principles also apply to nested indentions:"
   ]
  },
  {
   "cell_type": "code",
   "execution_count": null,
   "metadata": {
    "collapsed": true
   },
   "outputs": [],
   "source": [
    "n = 100\n",
    "\n",
    "if n > 10: #always executed\n",
    "    print( \"n is greather than 10!\") #conditionally executed\n",
    "    if n > 50: #conditionally executed\n",
    "        print( \"n is greather than 50!\" ) #conditionally executed\n",
    "        if n > 90: #conditionally executed\n",
    "            print( \"n is greather than 90!\" ) #conditionally executed\n",
    "            if n > 100: #conditionally executed\n",
    "                print( \"n is greather than 100!\" ) #conditionally executed. In this specific case it will not run"
   ]
  },
  {
   "cell_type": "markdown",
   "metadata": {},
   "source": [
    "Whenever you have conditionally executed lines, you will *always* have a colon in the line that comes before the conditionally executed lines:"
   ]
  },
  {
   "cell_type": "code",
   "execution_count": null,
   "metadata": {
    "collapsed": true
   },
   "outputs": [],
   "source": [
    "if True: # <-- colon\n",
    "    print( 'conditionally executed' )\n",
    "    print( 'Me too!' )\n",
    "    \n",
    "def the_other_function(): # <-- colon\n",
    "    print( 'Whatever' )\n",
    "    \n",
    "while False: # <-- colon\n",
    "    print( 'Bla' )\n",
    "    \n",
    "if True: # <-- colon\n",
    "    if True: # <-- colon\n",
    "        if True: # <-- colon\n",
    "            print( 'somewhere on top of nested ifs' )"
   ]
  },
  {
   "cell_type": "markdown",
   "metadata": {},
   "source": [
    "Sometimes you introduce a conditional block but you do not want to define any actions for it right now. You can use the `pass` statement in these cases:"
   ]
  },
  {
   "cell_type": "code",
   "execution_count": null,
   "metadata": {
    "collapsed": true
   },
   "outputs": [],
   "source": [
    "if True:\n",
    "    pass #do nothing\n",
    "elif False:\n",
    "    pass #do nothing\n",
    "else:\n",
    "    pass #do nothing\n",
    "\n",
    "while False:\n",
    "    pass #do nothing\n",
    "\n",
    "for i in range( 5 ):\n",
    "    pass\n",
    "\n",
    "def some_other_function():\n",
    "    pass #do nothing"
   ]
  },
  {
   "cell_type": "markdown",
   "metadata": {},
   "source": [
    "Python always requires you to have at least one indented line after a colon. If you do not want to write any code right now you can always use `pass`"
   ]
  }
 ],
 "metadata": {
  "kernelspec": {
   "display_name": "Python 3",
   "language": "python",
   "name": "python3"
  },
  "language_info": {
   "codemirror_mode": {
    "name": "ipython",
    "version": 3
   },
   "file_extension": ".py",
   "mimetype": "text/x-python",
   "name": "python",
   "nbconvert_exporter": "python",
   "pygments_lexer": "ipython3",
   "version": "3.6.3"
  }
 },
 "nbformat": 4,
 "nbformat_minor": 2
}
