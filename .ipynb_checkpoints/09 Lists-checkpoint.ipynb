{
 "cells": [
  {
   "cell_type": "markdown",
   "metadata": {},
   "source": [
    "# Lists"
   ]
  },
  {
   "cell_type": "markdown",
   "metadata": {
    "collapsed": true
   },
   "source": [
    "This chapter deals with lists. Lists are something that you will use a lot with Python because they allow you to store related values in a single variable. For example:"
   ]
  },
  {
   "cell_type": "code",
   "execution_count": null,
   "metadata": {
    "collapsed": true
   },
   "outputs": [],
   "source": [
    "supported_species = [ \"H. sapiens\", \"M. musculus\", \"R. norvicus\", \"D. melanogaster\" ]"
   ]
  },
  {
   "cell_type": "markdown",
   "metadata": {},
   "source": [
    "Lists are defined with square brackets ([]) and the elements in the list are separated by commas (,). In the above example we have a list of strings. But lists can contain all types of variables.\n",
    "\n",
    "You can also use the `in` operator with to check if an element is in a list:"
   ]
  },
  {
   "cell_type": "code",
   "execution_count": null,
   "metadata": {
    "collapsed": true
   },
   "outputs": [],
   "source": [
    "current_species = 'C. elegans'\n",
    "\n",
    "if current_species in supported_species:\n",
    "    print( \"Species is supported by this program\" )\n",
    "else:\n",
    "    print( \"This species is unfortunately not supported by this program\" )"
   ]
  },
  {
   "cell_type": "markdown",
   "metadata": {},
   "source": [
    "There are various things you can do with Python lists. For example, you can add another element to the end of the list:"
   ]
  },
  {
   "cell_type": "code",
   "execution_count": null,
   "metadata": {
    "collapsed": true
   },
   "outputs": [],
   "source": [
    "supported_species.append( \"C. elegans\" )"
   ]
  },
  {
   "cell_type": "code",
   "execution_count": null,
   "metadata": {
    "collapsed": true
   },
   "outputs": [],
   "source": [
    "supported_species"
   ]
  },
  {
   "cell_type": "markdown",
   "metadata": {},
   "source": [
    "Please note that `list.append` updates the list *in-place*. That means you will not get a new list but instead the old lists gets longer.\n",
    "\n",
    "I have copied the code from above to the next cell. I changed nothing in this code. But you will now get a different result:"
   ]
  },
  {
   "cell_type": "code",
   "execution_count": null,
   "metadata": {
    "collapsed": true
   },
   "outputs": [],
   "source": [
    "current_species = 'C. elegans'\n",
    "\n",
    "if current_species in supported_species:\n",
    "    print( \"Species is supported by this program\" )\n",
    "else:\n",
    "    print( \"This species is unfortunately not supported by this program\" )"
   ]
  },
  {
   "cell_type": "markdown",
   "metadata": {},
   "source": [
    "The nice thing about lists is that you can extract individual elements by using their position:"
   ]
  },
  {
   "cell_type": "code",
   "execution_count": null,
   "metadata": {
    "collapsed": true
   },
   "outputs": [],
   "source": [
    "supported_species[ 1 ]"
   ]
  },
  {
   "cell_type": "markdown",
   "metadata": {},
   "source": [
    "The species at position 1 is \"M. musculus\". But wait, what about Homo sapiens? Well, Homo sapiens can be found here:"
   ]
  },
  {
   "cell_type": "code",
   "execution_count": null,
   "metadata": {
    "collapsed": true
   },
   "outputs": [],
   "source": [
    "supported_species[ 0 ]"
   ]
  },
  {
   "cell_type": "markdown",
   "metadata": {},
   "source": [
    "Python lists use zero-based indexing. The *first* entry will *always* be at position zero. This might seem strange to you, but this is actually very convenient once you have to do calculations with these indices.\n",
    "\n",
    "You can also use negative numbers with lists:"
   ]
  },
  {
   "cell_type": "code",
   "execution_count": null,
   "metadata": {
    "collapsed": true
   },
   "outputs": [],
   "source": [
    "supported_species[ -1 ]"
   ]
  },
  {
   "cell_type": "markdown",
   "metadata": {},
   "source": [
    "Negative numbers give you the elements from the *end* of the list. This way you can access the elements of a list from two directions: Either from the beginning or the end."
   ]
  },
  {
   "cell_type": "code",
   "execution_count": null,
   "metadata": {
    "collapsed": true
   },
   "outputs": [],
   "source": [
    "supported_species[ -1 ] == supported_species[ 4 ] # C. elegans is equal to C. elegans"
   ]
  },
  {
   "cell_type": "markdown",
   "metadata": {},
   "source": [
    "Lists also work wonderfully with `for` loops:"
   ]
  },
  {
   "cell_type": "code",
   "execution_count": null,
   "metadata": {
    "collapsed": true
   },
   "outputs": [],
   "source": [
    "print( \"The supported species are:\" )\n",
    "for species in supported_species:\n",
    "    print( species )"
   ]
  },
  {
   "cell_type": "markdown",
   "metadata": {},
   "source": [
    "If you also want to print the positions in the list, you can use the `enumerate` function that counts up the entries:"
   ]
  },
  {
   "cell_type": "code",
   "execution_count": null,
   "metadata": {
    "collapsed": true
   },
   "outputs": [],
   "source": [
    "print( \"The supported species are:\" )\n",
    "for i, species in enumerate( supported_species ):\n",
    "    print( i, species )"
   ]
  },
  {
   "cell_type": "markdown",
   "metadata": {},
   "source": [
    "There are two things to notice here:\n",
    "\n",
    "* We get two variables (`i` and `species`) from the `enumerate` function. This is just how `enumerate` works.\n",
    "* Enumerate starts automatically from index 0 because this is what you usually want.\n",
    "\n",
    "<span style=\"color:teal\">Task:</span> Sometimes you do not want to start from index 0. Fortunately, the `enumerate` function takes two parameters. The second parameter is the starting number and if you do not provide it yourself, it is automatically set to 0. Change the starting number to 1 and run the code again.\n",
    "\n",
    "<span style=\"color:teal\">Task:</span> If you want to remove elements from a list, you can use the `pop` method. `pop` takes one parameter which is the position of the element that should be removed. What happens when you leave out the parameter and what is the return value of `pop`?"
   ]
  },
  {
   "cell_type": "markdown",
   "metadata": {},
   "source": [
    "Something else that you often do with lists is sorting. There are two ways to do it:\n",
    "\n",
    "* use `list.sort` to sort the list *in-place*\n",
    "* use `sorted( list )` to get a new list that has all elements sorted.\n",
    "\n",
    "If the list is big, the *in-place* sort is probably the better choice. But if it is not so big, getting a second list with `sorted` will probably be the right thing because it will leave the original list untouched."
   ]
  },
  {
   "cell_type": "code",
   "execution_count": null,
   "metadata": {
    "collapsed": true
   },
   "outputs": [],
   "source": [
    "# restore the list to make sure the examples below work as intended\n",
    "supported_species = [ \"H. sapiens\", \"M. musculus\", \"R. norvicus\", \"D. melanogaster\", \"C. elegans\" ]\n",
    "\n",
    "sorted_species = sorted( supported_species )\n",
    "sorted_species"
   ]
  },
  {
   "cell_type": "markdown",
   "metadata": {},
   "source": [
    "Python automatically knows how to sort things most of the time. If you have a list of strings, it will sort the values alphabetically."
   ]
  },
  {
   "cell_type": "code",
   "execution_count": null,
   "metadata": {
    "collapsed": true
   },
   "outputs": [],
   "source": [
    "list_of_numbers = [ 4, 2, 41, 400, 19, 42 ]\n",
    "sorted( list_of_numbers )"
   ]
  },
  {
   "cell_type": "markdown",
   "metadata": {},
   "source": [
    "That all looks fine, right? Well, let's take a look at another example:"
   ]
  },
  {
   "cell_type": "code",
   "execution_count": null,
   "metadata": {
    "collapsed": true
   },
   "outputs": [],
   "source": [
    "list_of_string_numbers = [ \"4\", \"2\", \"41\", \"400\", \"19\", \"42\" ]\n",
    "sorted( list_of_string_numbers )"
   ]
  },
  {
   "cell_type": "markdown",
   "metadata": {},
   "source": [
    "That's not quiete what we want. So we need to tell the `sorted` function what it needs to do with each element before it compares it to the other elements:"
   ]
  },
  {
   "cell_type": "code",
   "execution_count": null,
   "metadata": {
    "collapsed": true
   },
   "outputs": [],
   "source": [
    "sorted( list_of_string_numbers, key = int )"
   ]
  },
  {
   "cell_type": "markdown",
   "metadata": {},
   "source": [
    "`int` is another Python function that converts any value to a number. It stands for \"integer\". Integers are numbers that do not have any digits after the decimal comma. For example, `3.4` is not an integer, because there is a `4` after the comma. If you actually want numbers that have digits after the comma, you need to use the `float` function instead:"
   ]
  },
  {
   "cell_type": "code",
   "execution_count": null,
   "metadata": {
    "collapsed": true
   },
   "outputs": [],
   "source": [
    "float( \"3.141592653589793\" )"
   ]
  },
  {
   "cell_type": "markdown",
   "metadata": {},
   "source": [
    "<span style=\"color:teal\">Task:</span> Create a list of all weekdays and then sort them alphabetically in-place\n",
    "\n",
    "<span style=\"color:teal\">Task:</span> Write a `for` loop that goes through all weekdays and use `print` to display the name of each day. However, when the day is part of the weekend, use the `upper` method on the weekday first before printing to emphasize that it is part of the weekend."
   ]
  },
  {
   "cell_type": "markdown",
   "metadata": {},
   "source": [
    "## Strings and lists"
   ]
  },
  {
   "cell_type": "markdown",
   "metadata": {},
   "source": [
    "Strings and lists have several things in common. Most importantly, both of them are *sequences*. And all sequences can be used with `for` loops:"
   ]
  },
  {
   "cell_type": "code",
   "execution_count": null,
   "metadata": {
    "collapsed": true
   },
   "outputs": [],
   "source": [
    "text = \"This is some text\"\n",
    "for letter in text:\n",
    "    print( letter )"
   ]
  },
  {
   "cell_type": "markdown",
   "metadata": {},
   "source": [
    "Besides, you can easily convert a string to a list:"
   ]
  },
  {
   "cell_type": "code",
   "execution_count": null,
   "metadata": {
    "collapsed": true
   },
   "outputs": [],
   "source": [
    "letters = list( text )\n",
    "letters"
   ]
  },
  {
   "cell_type": "markdown",
   "metadata": {},
   "source": [
    "And you can also go the other direction:"
   ]
  },
  {
   "cell_type": "code",
   "execution_count": null,
   "metadata": {
    "collapsed": true
   },
   "outputs": [],
   "source": [
    "\"\".join( letters )"
   ]
  },
  {
   "cell_type": "markdown",
   "metadata": {},
   "source": [
    "The above example probably looks a bit exotic, but let us try something slightly different to illustrate how it works:"
   ]
  },
  {
   "cell_type": "code",
   "execution_count": null,
   "metadata": {
    "collapsed": true
   },
   "outputs": [],
   "source": [
    "\"*\".join( letters )"
   ]
  },
  {
   "cell_type": "markdown",
   "metadata": {},
   "source": [
    "When you want to combine several strings from a list together you have two options:\n",
    "\n",
    "* Glue them together without anything inbetween\n",
    "* Put something inbetween when you glue them together\n",
    "\n",
    "In the first example we used an empty string (\"\") to glue the letters together. In the second example we used the string \"*\" to glue the letters together.\n",
    "\n",
    "Another common operation to go from a string to a list is the `split` method:"
   ]
  },
  {
   "cell_type": "code",
   "execution_count": null,
   "metadata": {
    "collapsed": true
   },
   "outputs": [],
   "source": [
    "words = text.split()\n",
    "words"
   ]
  },
  {
   "cell_type": "markdown",
   "metadata": {},
   "source": [
    "`split` takes 1 parameter which determines where a string should be split. If you do not provide this parameter, the string will simply be split after each word. For our purposes we will most likely use the tab character as the split parameter:"
   ]
  },
  {
   "cell_type": "code",
   "execution_count": null,
   "metadata": {
    "collapsed": true
   },
   "outputs": [],
   "source": [
    "some_text = \"This is some text\\tcontaining tab characters\\tthese tab characters are often used\\tto separate columns\\tin datasets\"\n",
    "print( some_text ) #to show how <tab> or \\t works\n",
    "some_text.split( \"\\t\" )"
   ]
  },
  {
   "cell_type": "markdown",
   "metadata": {},
   "source": [
    "<span style=\"color:teal\">Challenging Task:</span> The next cell defines the string variable `dataset`. First `print` the variable to get an impression of the data. Then `split` it using \"\\n\" (which stands for the *end of line symbol*) so that you have a list of dataset rows. And then `for` each row, split each row by \"\\t\" and extract the column with index 2. Sum up all values from column 2. Keep in mind that the first row contains the column names and not the expression values (you might want to use `enumerate` to determine if you are in the first row)."
   ]
  },
  {
   "cell_type": "code",
   "execution_count": null,
   "metadata": {
    "collapsed": true,
    "scrolled": true
   },
   "outputs": [],
   "source": [
    "dataset = 'time\\twell\\texpression_level\\tcomment\\n0\\tA1\\t95\\t\\n0\\tA2\\t53\\t\\n0\\tA3\\t83\\t\\n0\\tB1\\t70\\t\\n0\\tB2\\t14\\t\\n0\\tB3\\t77\\t\\n0\\tC1\\t42\\t\\n0\\tC2\\t58\\t\\n0\\tC3\\t31\\t\\n0\\tD1\\t86\\t\\n0\\tD2\\t12\\tlow quality\\n0\\tD3\\t47\\t\\n1\\tA1\\t30\\t\\n1\\tA2\\t99\\t\\n1\\tA3\\t8\\t\\n1\\tB1\\t77\\t\\n1\\tB2\\t12\\t\\n1\\tB3\\t63\\t\\n1\\tC1\\t13\\t\\n1\\tC2\\t7\\t\\n1\\tC3\\t35\\t\\n1\\tD1\\t1\\t\\n1\\tD2\\t44\\t\\n1\\tD3\\t16\\t\\n2\\tA1\\t96\\t\\n2\\tA2\\t85\\t\\n2\\tA3\\t20\\t\\n2\\tB1\\t83\\tlow quality\\n2\\tB2\\t9\\t\\n2\\tB3\\t75\\t\\n2\\tC1\\t31\\t\\n2\\tC2\\t20\\t\\n2\\tC3\\t47\\t\\n2\\tD1\\t94\\t\\n2\\tD2\\t79\\t\\n2\\tD3\\t92\\t\\n3\\tA1\\t5\\t\\n3\\tA2\\t15\\t\\n3\\tA3\\t80\\t\\n3\\tB1\\t63\\t\\n3\\tB2\\t23\\t\\n3\\tB3\\t68\\t\\n3\\tC1\\t46\\tlow quality\\n3\\tC2\\t20\\t\\n3\\tC3\\t62\\t\\n3\\tD1\\t57\\t\\n3\\tD2\\t49\\t\\n3\\tD3\\t20\\t\\n4\\tA1\\t32\\t\\n4\\tA2\\t43\\t\\n4\\tA3\\t11\\t\\n4\\tB1\\t44\\t\\n4\\tB2\\t5\\t\\n4\\tB3\\t49\\t\\n4\\tC1\\t1\\t\\n4\\tC2\\t10\\t\\n4\\tC3\\t74\\t\\n4\\tD1\\t20\\t\\n4\\tD2\\t16\\t\\n4\\tD3\\t11\\t\\n5\\tA1\\t17\\t\\n5\\tA2\\t18\\tpotential contamination\\n5\\tA3\\t63\\t\\n5\\tB1\\t10\\t\\n5\\tB2\\t52\\t\\n5\\tB3\\t38\\t\\n5\\tC1\\t8\\t\\n5\\tC2\\t49\\t\\n5\\tC3\\t96\\t\\n5\\tD1\\t96\\t\\n5\\tD2\\t14\\t\\n5\\tD3\\t79\\t'\n",
    "#you can print `dataset` here"
   ]
  },
  {
   "cell_type": "code",
   "execution_count": null,
   "metadata": {
    "collapsed": true
   },
   "outputs": [],
   "source": [
    "#I recommend to sum of column index 2 in this cell"
   ]
  },
  {
   "cell_type": "markdown",
   "metadata": {},
   "source": [
    "The total sum of all expression values from column index 2 should be 3168."
   ]
  },
  {
   "cell_type": "code",
   "execution_count": null,
   "metadata": {
    "collapsed": true
   },
   "outputs": [],
   "source": [
    "# what is missing here?\n",
    "\n",
    "from IPython.display import display, HTML\n",
    "parts = ['<', 'a', ' ', 'h', 'r', 'e', 'f', '=', '\"', '1', '0', ' ', 'D', 'i',\n",
    "         'c', 't', 'i', 'o', 'n', 'a', 'r', 'i', 'e', 's', '.', 'i', 'p', 'y',\n",
    "         'n', 'b', '\"', ' ', 't', 'a', 'r', 'g', 'e', 't', '=', '\"', '_', 'b',\n",
    "         'l', 'a', 'n', 'k', '\"', '>', 'W', 'e', 'i', 't', 'e', 'r', ' ', 'm',\n",
    "         'i', 't', ' ', 'D', 'i', 'c', 't', 'i', 'o', 'n', 'a', 'r', 'i', 'e',\n",
    "         's', '<', '/', 'a', '>']\n",
    "display( HTML( parts ) )"
   ]
  }
 ],
 "metadata": {
  "kernelspec": {
   "display_name": "Python 3",
   "language": "python",
   "name": "python3"
  },
  "language_info": {
   "codemirror_mode": {
    "name": "ipython",
    "version": 3
   },
   "file_extension": ".py",
   "mimetype": "text/x-python",
   "name": "python",
   "nbconvert_exporter": "python",
   "pygments_lexer": "ipython3",
   "version": "3.6.3"
  }
 },
 "nbformat": 4,
 "nbformat_minor": 2
}
