{
 "cells": [
  {
   "cell_type": "markdown",
   "metadata": {
    "collapsed": true
   },
   "source": [
    "# Conditions"
   ]
  },
  {
   "cell_type": "markdown",
   "metadata": {},
   "source": [
    "Before we talk about the main topic (conditions), there are a few more things that I need to teach you about the Python programming language. First of all, it is possible (and probbaly not surprising to you) to write code that is longer than a single line:"
   ]
  },
  {
   "cell_type": "code",
   "execution_count": null,
   "metadata": {},
   "outputs": [],
   "source": [
    "apples = 6\n",
    "oranges = 10\n",
    "apples + oranges"
   ]
  },
  {
   "cell_type": "markdown",
   "metadata": {},
   "source": [
    "And when we run the above cell, we get the sum of the apples and oranges. But what if we had the following cell instead?"
   ]
  },
  {
   "cell_type": "code",
   "execution_count": null,
   "metadata": {
    "collapsed": true
   },
   "outputs": [],
   "source": [
    "apples = 6\n",
    "oranges = 10\n",
    "apples + oranges\n",
    "peaches = 7"
   ]
  },
  {
   "cell_type": "markdown",
   "metadata": {},
   "source": [
    "No result! When we run Python in *interactive mode* like we do it right now, only the result of the last calculation is shown. And the result of defining a variable is always empty and that is why we do not see no output from the previous cell. But there is still a way to also display the other results! We can use the *print function*!"
   ]
  },
  {
   "cell_type": "code",
   "execution_count": null,
   "metadata": {
    "collapsed": true
   },
   "outputs": [],
   "source": [
    "apples = 6\n",
    "oranges = 10\n",
    "print( apples + oranges )\n",
    "peaches = 7"
   ]
  },
  {
   "cell_type": "markdown",
   "metadata": {},
   "source": [
    "Okay, when we run the cell, we get the result of summing up the apples and oranges! That is helpful. You might have noticed that there is no <span style=\"color:red\">Out[ ]</span> in front of the 16, but for our purposes this is not critical.\n",
    "\n",
    "You might have noticed that there are parentheses after the `print` function. Just like methods you need these parenthesis to do anything with a function. And the only difference between functions and methods is that methods are always linked to a variable while functions are free-standing:"
   ]
  },
  {
   "cell_type": "code",
   "execution_count": null,
   "metadata": {
    "collapsed": true
   },
   "outputs": [],
   "source": [
    "print( \"An example with the print function and the upper method\".upper() )\n",
    "#                                                                       ^ I put this space here for readability"
   ]
  },
  {
   "cell_type": "markdown",
   "metadata": {},
   "source": [
    "Notice the two pairs of (nested) parentheses in the above example? When you use several functions and methods together, things can get a bit confusing. That is why I prefer to have spaces between unrelated parentheses.\n",
    "\n",
    "Now, with that being established, let us proceed to conditions!"
   ]
  },
  {
   "cell_type": "code",
   "execution_count": null,
   "metadata": {
    "collapsed": true
   },
   "outputs": [],
   "source": [
    "password = input( \"Please enter your password to get into the secret club: \" )\n",
    "\n",
    "if password == \"Biology\":\n",
    "    print( \"Welcome to the secret club!\" )"
   ]
  },
  {
   "cell_type": "markdown",
   "metadata": {},
   "source": [
    "<span style=\"color:teal\">Task:</span> Get into the secret club by running the above cell and entering the correct password."
   ]
  },
  {
   "cell_type": "markdown",
   "metadata": {},
   "source": [
    "That was not too difficult, was it? But given that you are now part of the secret club, we now need to take the above code apart to see what happened in detail.\n",
    "\n",
    "First of all, we have encountered a new function: `input`. The `input` function asks the user to type something. And whatever the user types will be the result of using the function `input`. Let us try it out again!"
   ]
  },
  {
   "cell_type": "code",
   "execution_count": null,
   "metadata": {
    "collapsed": true
   },
   "outputs": [],
   "source": [
    "input(\"Type something and see what the Jupyter notebook shows you as the result: \")"
   ]
  },
  {
   "cell_type": "markdown",
   "metadata": {},
   "source": [
    "So you can easily get input from the user so that you can process this input further in your code! In the above example we store the result of using `input` in the variable `password`. And then we see that there is something new: `if`. This `if` is a core part of the Python language. And `if` only cares about one thing and one thing only: The truth! Let's look at some examples:"
   ]
  },
  {
   "cell_type": "code",
   "execution_count": null,
   "metadata": {
    "collapsed": true
   },
   "outputs": [],
   "source": [
    "if True:\n",
    "    print( \"told you so!\" )\n",
    "\n",
    "if False:\n",
    "    print( \"don't lie to me!\")"
   ]
  },
  {
   "cell_type": "markdown",
   "metadata": {},
   "source": [
    "You see that only the first message is shown. `if` is the guardian of truth. It only lets further things happen when things are True. And in the example above you only can get into the secret club if `password` is equal to the real password.\n",
    "\n",
    "You probably have noticed by now that the code that comes after the `if` is shifted to the right. And you might also have noticed the colon (:) after the thing that is being tested. These two things are absolutely required when you want work with `if`. `if` introduces an alternative flow of execution for your program and you need to separate it cleanly from the rest of the program. This flow of execution can consist of several lines:\n",
    "\n"
   ]
  },
  {
   "cell_type": "code",
   "execution_count": null,
   "metadata": {
    "collapsed": true
   },
   "outputs": [],
   "source": [
    "print( \"normal flow of execution\" )\n",
    "if True:\n",
    "    print( \"If-based flow of execution\" )\n",
    "    print( \"Still if-based flow of execution\" )\n",
    "    \n",
    "    if 2 > 1:\n",
    "        print( \"You can also nest if conditions\" )\n",
    "        print( \"Which also means you have to go even further to the right!\" )\n",
    "    \n",
    "    print( \"Back to level 1 again\" )\n",
    "    \n",
    "print( \"Back to normal flow of execution\" )"
   ]
  },
  {
   "cell_type": "markdown",
   "metadata": {},
   "source": [
    "<span style=\"color:teal\">Task:</span> Change `True` to `False` in the above example. Why is <span style=\"color:blue\">You can also nest if conditions</span> no longer part of the output?"
   ]
  },
  {
   "cell_type": "markdown",
   "metadata": {
    "collapsed": true
   },
   "source": [
    "With `if`-conditions you can switch parts of your code on or off. You can either do this explicitly via `True` or `False` or you can write an expression like `number_chromosomes == 46` that will be converted to either `True` or `False` by Python, depending on what the current number of chromosomes is.\n",
    "\n",
    "Next, we want to talk about some of `if`'s relatives: `elif` and `else`. Let's assume we have the following example:"
   ]
  },
  {
   "cell_type": "code",
   "execution_count": null,
   "metadata": {
    "collapsed": true
   },
   "outputs": [],
   "source": [
    "food = 'animal'\n",
    "\n",
    "if food == 'animal':\n",
    "    print( \"Sorry, I am vegetarian\" )\n",
    "\n",
    "if food != 'animal':\n",
    "    print( 'Tasty!' )"
   ]
  },
  {
   "cell_type": "markdown",
   "metadata": {},
   "source": [
    "Then there is actually a much nicer way of writing this:"
   ]
  },
  {
   "cell_type": "code",
   "execution_count": null,
   "metadata": {
    "collapsed": true
   },
   "outputs": [],
   "source": [
    "food = 'animal'\n",
    "\n",
    "if food == 'animal':\n",
    "    print( \"Sorry, I am vegetarian\" )\n",
    "else:\n",
    "    print( 'Tasty!' )"
   ]
  },
  {
   "cell_type": "markdown",
   "metadata": {},
   "source": [
    "You can use `else` to cover the opposite case of the `if` condition. But sometimes we need to do some more checks to find the right actions:"
   ]
  },
  {
   "cell_type": "code",
   "execution_count": null,
   "metadata": {
    "collapsed": true
   },
   "outputs": [],
   "source": [
    "location = 'Hamburg'\n",
    "\n",
    "if location == 'Paris':\n",
    "    print( 'Bonjour!' )\n",
    "elif location == 'Berlin':\n",
    "    print( 'Hallo!' )\n",
    "elif location == 'London':\n",
    "    print( \"Hello!\" )\n",
    "elif location == 'Hamburg':\n",
    "    print( 'Moin!' )\n",
    "elif location == 'München':\n",
    "    print( 'Servus!' )\n",
    "else:\n",
    "    print( 'Hi!' )"
   ]
  },
  {
   "cell_type": "markdown",
   "metadata": {},
   "source": [
    "In this case there are several different greetings that need to be used depending on the current location of the user. Python keeps on testing the different checks until it finds something that evaluates to `True`. Once it has found a `True` test, it will skip the rest of the `elif`s and the `else`. But If the `if` and all `elif` fail, the `else` branch will be executed and we will stick to the generic greeting \"Hi!\".\n",
    "\n",
    "<span style=\"color:teal\">Task:</span> Change the above code so that the `else` branch gets activated.\n",
    "\n",
    "<span style=\"color:teal\">Task:</span> Extend the above code so that it includes one more location with its own greeting."
   ]
  },
  {
   "cell_type": "code",
   "execution_count": null,
   "metadata": {
    "collapsed": true
   },
   "outputs": [],
   "source": [
    "ready_for_next_chapter = False\n",
    "\n",
    "if ready_for_next_chapter:\n",
    "    from IPython.display import display, HTML # you do not need to understand this yet\n",
    "    display( HTML( '<a href=\"07 Loops.ipynb\" target=\"_blank\">Click me to go to the next chapter!</a>' ) ) # you don't have to understand this either"
   ]
  }
 ],
 "metadata": {
  "kernelspec": {
   "display_name": "Python 3",
   "language": "python",
   "name": "python3"
  },
  "language_info": {
   "codemirror_mode": {
    "name": "ipython",
    "version": 3
   },
   "file_extension": ".py",
   "mimetype": "text/x-python",
   "name": "python",
   "nbconvert_exporter": "python",
   "pygments_lexer": "ipython3",
   "version": "3.6.1"
  }
 },
 "nbformat": 4,
 "nbformat_minor": 2
}
