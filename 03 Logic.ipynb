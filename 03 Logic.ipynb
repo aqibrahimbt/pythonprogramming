{
 "cells": [
  {
   "cell_type": "markdown",
   "metadata": {
    "collapsed": true
   },
   "source": [
    "# Logic in the computer"
   ]
  },
  {
   "cell_type": "markdown",
   "metadata": {},
   "source": [
    "In the last chapter we dealt with numbers. In this chapter we also deal with a something very fundamental: The truth! Because truth (or the absence of truth) is what computers use to make decisions.\n",
    "\n",
    "So, let us state the obvious. If we have two numbers, 1 and 2, then 1 is smaller than 2?"
   ]
  },
  {
   "cell_type": "code",
   "execution_count": null,
   "metadata": {
    "collapsed": true
   },
   "outputs": [],
   "source": [
    "1 < 2"
   ]
  },
  {
   "cell_type": "markdown",
   "metadata": {},
   "source": [
    "<span style=\"color:teal\">Task:</span> Run the previous code cell and see what Python has to say about 1 being less than 2.\n",
    "\n",
    "Alright, Python has answered our question and stated that this statement is True! And that is True with a captial T! But let us make sure that Python is also not easily fooled. Let us confront it with something that is obviously not True!"
   ]
  },
  {
   "cell_type": "code",
   "execution_count": null,
   "metadata": {
    "collapsed": true
   },
   "outputs": [],
   "source": [
    "1 > 2"
   ]
  },
  {
   "cell_type": "markdown",
   "metadata": {},
   "source": [
    "Python is fully aware of the fact that this is a False statement (again, with a captial F). These examples might seem obvious, but let us take a look at something slightly more obscure:"
   ]
  },
  {
   "cell_type": "code",
   "execution_count": null,
   "metadata": {
    "collapsed": true
   },
   "outputs": [],
   "source": [
    "29 / 4 * 49 > 82 + 33 / 8"
   ]
  },
  {
   "cell_type": "markdown",
   "metadata": {},
   "source": [
    "<span style=\"color:teal\">Task:</span> Run the above cell and convince yourself *why* the result is either True or False"
   ]
  },
  {
   "cell_type": "markdown",
   "metadata": {},
   "source": [
    "Now, what is your guess about the following?"
   ]
  },
  {
   "cell_type": "code",
   "execution_count": null,
   "metadata": {
    "collapsed": true
   },
   "outputs": [],
   "source": [
    "2 < 2"
   ]
  },
  {
   "cell_type": "markdown",
   "metadata": {},
   "source": [
    "Well, depending on the situation this might or might not be what you want. But luckily, there are more options in Python! For example, to see if a number is smaller *or* equal than another number, we can use the `<=` operator:"
   ]
  },
  {
   "cell_type": "code",
   "execution_count": null,
   "metadata": {
    "collapsed": true
   },
   "outputs": [],
   "source": [
    "2 <= 2"
   ]
  },
  {
   "cell_type": "markdown",
   "metadata": {},
   "source": [
    "And conversely, there is also the greather-equal operator:"
   ]
  },
  {
   "cell_type": "code",
   "execution_count": null,
   "metadata": {
    "collapsed": true
   },
   "outputs": [],
   "source": [
    "2 >= 2"
   ]
  },
  {
   "cell_type": "markdown",
   "metadata": {},
   "source": [
    "Note that the `<` and `>` symbols always come before the `=` symbol. You can memorize this by keeping in mind that it is always \"greater-equal\" and \"lesser-equal\" and *not* \"equal-greater\" or \"equal-lesser\".\n",
    "\n",
    "But there is more! Many times we actually need to know if two values are the same! In this case we can use the double-equals operator (==). And it works like this:"
   ]
  },
  {
   "cell_type": "code",
   "execution_count": null,
   "metadata": {
    "collapsed": true
   },
   "outputs": [],
   "source": [
    "2 == 2"
   ]
  },
  {
   "cell_type": "code",
   "execution_count": null,
   "metadata": {
    "collapsed": true
   },
   "outputs": [],
   "source": [
    "2 == 3"
   ]
  },
  {
   "cell_type": "markdown",
   "metadata": {},
   "source": [
    "It is really important to write two `=` equals symbols because otherwise Python will complain loudly:"
   ]
  },
  {
   "cell_type": "code",
   "execution_count": null,
   "metadata": {
    "collapsed": true
   },
   "outputs": [],
   "source": [
    "2 = 2"
   ]
  },
  {
   "cell_type": "markdown",
   "metadata": {},
   "source": [
    "There is another case that we need to cover: Unequality! To test if two values are not the same, use the not-equal operator (!=)."
   ]
  },
  {
   "cell_type": "code",
   "execution_count": null,
   "metadata": {
    "collapsed": true
   },
   "outputs": [],
   "source": [
    "2 != 2"
   ]
  },
  {
   "cell_type": "code",
   "execution_count": null,
   "metadata": {
    "collapsed": true
   },
   "outputs": [],
   "source": [
    "2 != 3"
   ]
  },
  {
   "cell_type": "markdown",
   "metadata": {},
   "source": [
    "<span style=\"color:teal\">Task:</span> Ask Python about 12 + 48 being equal to 60.\n",
    "\n",
    "<span style=\"color:teal\">Task:</span> Ask Python about 45 multiplied by 20 being greater or equal than 1000\n",
    "\n",
    "<span style=\"color:teal\">Task:</span> Ask Python about 1 + 2 + 3 being equal to 3 + 2 + 1\n",
    "\n",
    "<span style=\"color:teal\">Task:</span> Ask Python about 123 being not equal to 321"
   ]
  },
  {
   "cell_type": "markdown",
   "metadata": {},
   "source": [
    "## Fill in the gaps"
   ]
  },
  {
   "cell_type": "markdown",
   "metadata": {},
   "source": [
    "<span style=\"color:teal\">Task:</span> Complete the cells below so that each cell evaluates to True (replace the `???`)"
   ]
  },
  {
   "cell_type": "code",
   "execution_count": null,
   "metadata": {
    "collapsed": true
   },
   "outputs": [],
   "source": [
    "29 - 3 ??? 20"
   ]
  },
  {
   "cell_type": "code",
   "execution_count": null,
   "metadata": {
    "collapsed": true
   },
   "outputs": [],
   "source": [
    "20 + 30 * 40 ??? 140"
   ]
  },
  {
   "cell_type": "code",
   "execution_count": null,
   "metadata": {
    "collapsed": true
   },
   "outputs": [],
   "source": [
    "4.00 ??? 4"
   ]
  },
  {
   "cell_type": "code",
   "execution_count": null,
   "metadata": {
    "collapsed": true
   },
   "outputs": [],
   "source": [
    "-20 ??? 20"
   ]
  },
  {
   "cell_type": "markdown",
   "metadata": {},
   "source": [
    "And after that you can proceed to the <a href=\"04 Variables.ipynb\">next chapter</a>."
   ]
  }
 ],
 "metadata": {
  "kernelspec": {
   "display_name": "Python 3",
   "language": "python",
   "name": "python3"
  },
  "language_info": {
   "codemirror_mode": {
    "name": "ipython",
    "version": 3
   },
   "file_extension": ".py",
   "mimetype": "text/x-python",
   "name": "python",
   "nbconvert_exporter": "python",
   "pygments_lexer": "ipython3",
   "version": "3.6.1"
  }
 },
 "nbformat": 4,
 "nbformat_minor": 2
}
