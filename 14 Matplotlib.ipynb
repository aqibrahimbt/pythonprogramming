{
 "cells": [
  {
   "cell_type": "markdown",
   "metadata": {},
   "source": [
    "# Matplotlib"
   ]
  },
  {
   "cell_type": "markdown",
   "metadata": {},
   "source": [
    "Matplotlib is a popular Python library. It is inspired by Matlab's plotting commands. To use matplotlib with Jupyter notebooks you need the following two lines:"
   ]
  },
  {
   "cell_type": "code",
   "execution_count": null,
   "metadata": {
    "collapsed": true
   },
   "outputs": [],
   "source": [
    "%matplotlib inline\n",
    "import matplotlib.pyplot as plt"
   ]
  },
  {
   "cell_type": "markdown",
   "metadata": {},
   "source": [
    "The `%matplotlib inline` makes sure that all plots that you create are shown directly in the notebook. The `import matplotlib.pyplot as plt` imports the matplotlib plotting package and makes it availabe under the name `plt`.\n",
    "\n",
    "Plotting with Matplotlib is fairly straightforward for simple cases:"
   ]
  },
  {
   "cell_type": "code",
   "execution_count": null,
   "metadata": {},
   "outputs": [],
   "source": [
    "plt.plot( [ 1, 7, 3, 8, 2, 2, 4 ] ) # create a line plot with y coordinates 1, 7, 3, 8, 2, 2, 4\n",
    "plt.show() #display the plot in the Jupyter notebook"
   ]
  },
  {
   "cell_type": "markdown",
   "metadata": {},
   "source": [
    "When you only provide a single argument then this argument is treated as y-coordinates. If you also want to provide the x-coordinates you have to provide them like so:"
   ]
  },
  {
   "cell_type": "code",
   "execution_count": null,
   "metadata": {},
   "outputs": [],
   "source": [
    "x = [1,2,3]\n",
    "y = [4, 8, 16]\n",
    "plt.plot( x, y )\n",
    "plt.show()"
   ]
  },
  {
   "cell_type": "markdown",
   "metadata": {},
   "source": [
    "Customizing the line can be done with format codes. For example:"
   ]
  },
  {
   "cell_type": "code",
   "execution_count": null,
   "metadata": {},
   "outputs": [],
   "source": [
    "x1 = [1,2,3]\n",
    "y1 = [4, 8, 16]\n",
    "x2 = [1.5, 2.5, 3.5]\n",
    "y2 = [ 7, 9, 7 ]\n",
    "plt.plot( x1, y1, 'r*' ) # use red stars for plotting\n",
    "plt.plot( x2, y2, 'b--' ) # use dashed blue lines\n",
    "plt.show()"
   ]
  },
  {
   "cell_type": "markdown",
   "metadata": {},
   "source": [
    "The third parameter to `plt.plot` is always the format code. You can compose it from several different elements:\n",
    "\n",
    "* A color. The following color identifiers are available: 'b', 'g', 'r', 'c', 'm', 'y', 'k', 'w'\n",
    "* A line style. The following line styles are available: '-', '--', '-.', ':' <a href=\"https://matplotlib.org/2.1.1/api/_as_gen/matplotlib.lines.Line2D.html#matplotlib.lines.Line2D.set_linestyle\" target=\"_blank\">and some more</a>\n",
    "* A marker style for marking the points on the line. Check out <a href=\"https://matplotlib.org/2.1.1/api/markers_api.html#module-matplotlib.markers\" target=\"_blank\">this overview</a>."
   ]
  },
  {
   "cell_type": "markdown",
   "metadata": {},
   "source": [
    "Every good plot has a title and x and y labels as well as a legend for the lines themselves:"
   ]
  },
  {
   "cell_type": "code",
   "execution_count": null,
   "metadata": {},
   "outputs": [],
   "source": [
    "plt.plot( x1, y1, 'r*', label = 'starfish sightings' ) #the label parameter is for the legend\n",
    "plt.plot( x2, y2, 'b--', label = 'A badly constructed roof' )\n",
    "plt.title( 'Coincidence?' )\n",
    "plt.xlabel( 'Time' )\n",
    "plt.ylabel( 'Space' )\n",
    "plt.legend() #display the line labels\n",
    "plt.show()"
   ]
  },
  {
   "cell_type": "markdown",
   "metadata": {},
   "source": [
    "And sometimes you need to limit the plotting area because things get too big:"
   ]
  },
  {
   "cell_type": "code",
   "execution_count": null,
   "metadata": {},
   "outputs": [],
   "source": [
    "x_min = 0\n",
    "x_max = 15 #far too big but this is for demonstration purposes\n",
    "y_min = 0\n",
    "y_max = 42 # no higher than 42\n",
    "\n",
    "plt.plot(\n",
    "    [1,2,3,4,5,6,7,8],\n",
    "    [1,4,9,16,25,36,49,64])\n",
    "plt.axis( [ x_min, x_max, y_min, y_max ] )\n",
    "plt.title( 'Restricting the plotting area' )\n",
    "plt.xlabel( 'The overly long x axis' )\n",
    "plt.ylabel( 'the shortened y axis' )\n",
    "plt.show()"
   ]
  },
  {
   "cell_type": "markdown",
   "metadata": {},
   "source": [
    "But not everything can or should be plotted as lines. Matplotlib also offers other plot types. For example, histograms:"
   ]
  },
  {
   "cell_type": "code",
   "execution_count": null,
   "metadata": {},
   "outputs": [],
   "source": [
    "from random import random\n",
    "oxytocin_expression_in_different_cells = []\n",
    "\n",
    "for i in range( 20 ):\n",
    "    oxytocin_expression_in_different_cells.append( random() * 100 )\n",
    "\n",
    "number_of_splits = 20 # the more splits, the better the plot looks\n",
    "\n",
    "plt.hist( oxytocin_expression_in_different_cells, number_of_splits ) #the second parameter is actually optional\n",
    "plt.xlabel( \"Expression level\" )\n",
    "plt.ylabel( \"Frequency\" )\n",
    "plt.title( \"Oxytocin expression across different cells\" )\n",
    "plt.text( 20, 0.5, \"based on completely made-up data\", color = \"red\", weight = 'bold' )\n",
    "plt.show()"
   ]
  },
  {
   "cell_type": "markdown",
   "metadata": {
    "collapsed": true
   },
   "source": [
    "A histogram draws nice bars that represent how frequent a value is. But sometimes you already know how big your bars should be. Then you can directly reach for a barplot:"
   ]
  },
  {
   "cell_type": "code",
   "execution_count": null,
   "metadata": {},
   "outputs": [],
   "source": [
    "x_coordinates_of_bars = [1,2,3,4,5]\n",
    "heights_of_bars = [10, 20, 30, 20, 10]\n",
    "widths_of_bars = [0.5] * 5 #create a list of length 5 with each element being 0.5\n",
    "colors = 'rgbmy'\n",
    "#or more verbose:\n",
    "#colors = ['red', 'green', 'blue', 'magenta', 'yellow']\n",
    "plt.bar(\n",
    "    x_coordinates_of_bars,\n",
    "    heights_of_bars,\n",
    "    widths_of_bars,\n",
    "    color = colors\n",
    ")\n",
    "plt.title( \"A few bars\\nAnother line\" ) #use \\n to create a title with several lines\n",
    "plt.show()"
   ]
  },
  {
   "cell_type": "markdown",
   "metadata": {},
   "source": [
    "And finally we shall have some pie!"
   ]
  },
  {
   "cell_type": "code",
   "execution_count": null,
   "metadata": {},
   "outputs": [],
   "source": [
    "numbers = [1,2,3,4,5]\n",
    "plt.pie(numbers, labels = numbers)\n",
    "plt.title( \"sizes of increasing numbers\" )\n",
    "plt.show()"
   ]
  },
  {
   "cell_type": "markdown",
   "metadata": {},
   "source": [
    "There is a lot more to matplotlib. If you need to look something up you can check out the <a href=\"https://matplotlib.org/2.1.1/users/index.html\" target=\"_blank\">official documentation</a>. But most of the time it is actually more efficient to browse the <a href=\"https://matplotlib.org/2.1.1/gallery/index.html\" target=\"_blank\">examples gallery</a> to find the type of plot that you could use right now.\n",
    "\n",
    "Finally we need to talk about saving of plots as files. This is also easily accomplished. Just use `plt.savefig` instead of `plt.show`:"
   ]
  },
  {
   "cell_type": "code",
   "execution_count": null,
   "metadata": {},
   "outputs": [],
   "source": [
    "#Let's first increase the size of the plot\n",
    "#IMPORTANT: The size is in inches!\n",
    "plt.figure( figsize = ( 10, 10 ) ) #this will be a 10 by 10 inches image\n",
    "\n",
    "#and now the regular plotting stuff\n",
    "plt.pie(numbers, labels = numbers)\n",
    "plt.title( \"sizes of increasing numbers\" )\n",
    "\n",
    "#this stores the image as the file my_pie_chart.png. It will also display the image\n",
    "plt.savefig( \"my_pie_chart.png\" ) "
   ]
  },
  {
   "cell_type": "markdown",
   "metadata": {},
   "source": [
    "To download your creation, simply follow <a href=\"my_pie_chart.png\" target=\"_blank\">this link</a>."
   ]
  },
  {
   "cell_type": "markdown",
   "metadata": {},
   "source": [
    "And that's it for the matplotlib chapter. And also for this tutorial for today!"
   ]
  }
 ],
 "metadata": {
  "kernelspec": {
   "display_name": "Python 3",
   "language": "python",
   "name": "python3"
  },
  "language_info": {
   "codemirror_mode": {
    "name": "ipython",
    "version": 3
   },
   "file_extension": ".py",
   "mimetype": "text/x-python",
   "name": "python",
   "nbconvert_exporter": "python",
   "pygments_lexer": "ipython3",
   "version": "3.6.4"
  }
 },
 "nbformat": 4,
 "nbformat_minor": 2
}
