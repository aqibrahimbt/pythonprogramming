{
 "cells": [
  {
   "cell_type": "markdown",
   "metadata": {
    "collapsed": true
   },
   "source": [
    "# Computing with the computer"
   ]
  },
  {
   "cell_type": "markdown",
   "metadata": {},
   "source": [
    "Computers are calculators. That's what they do on a fundamental level: Calculations and logic. The funny thing is, you can do a lot with just calculations and logic. Everything the computer does, is based on it (well, and physics).\n",
    "\n",
    "So, what we will do next, is to do some calculations. Or rather, we let the computer calculate stuff for us, because the computer is there to make our lives easier, right? Let's start from first principles. The most basic calculation is:"
   ]
  },
  {
   "cell_type": "code",
   "execution_count": null,
   "metadata": {
    "collapsed": true
   },
   "outputs": [],
   "source": [
    "1 + 1"
   ]
  },
  {
   "cell_type": "markdown",
   "metadata": {},
   "source": [
    "Notice the <tt style=\"color:blue\">In [ ]</tt> in front of the previous cell? That is a code cell! This is our first example of Python code. Looks pretty intuitive, doesn't it?\n",
    "\n",
    "The cool thing about Jupyter notebooks is that you can run code in the notebook itself. So, let's do just that!\n",
    "\n",
    "<span style=\"color:teal\">Task:</span> Run the code cell by selecting it and then pressing ctrl+Enter."
   ]
  },
  {
   "cell_type": "markdown",
   "metadata": {},
   "source": [
    "Once you have run the cell, you should have seen several things change: The part before the cell says <tt style=\"color:blue\">In [1]</tt> and there is also an output field: <tt style=\"color:red\">Out[1]:</tt> 2\n",
    "\n",
    "The <tt>[1]</tt> refers to the first code execution of this notebook. Every time, a code cell is executed, the number goes up so that you can later see in which order things have been executed. In general it is a good idea to keep things tidy and to run the cells in the order in which they are defined in the notebook.\n",
    "\n",
    "<span style=\"color:teal\">Task:</span> Change the above code cell so that it contains different numbers and run it again."
   ]
  },
  {
   "cell_type": "markdown",
   "metadata": {},
   "source": [
    "Of course, there is more than plus. There is also the other tools that mathematics provides to us:\n",
    "\n",
    "```\n",
    "- Substractions (minus)\n",
    "* Multiplication (times)\n",
    "/ division (dividing)\n",
    "```"
   ]
  },
  {
   "cell_type": "code",
   "execution_count": null,
   "metadata": {
    "collapsed": true
   },
   "outputs": [],
   "source": [
    "5 - 3"
   ]
  },
  {
   "cell_type": "code",
   "execution_count": null,
   "metadata": {
    "collapsed": true
   },
   "outputs": [],
   "source": [
    "2 * 3"
   ]
  },
  {
   "cell_type": "code",
   "execution_count": null,
   "metadata": {
    "collapsed": true
   },
   "outputs": [],
   "source": [
    "10 / 2"
   ]
  },
  {
   "cell_type": "markdown",
   "metadata": {},
   "source": [
    "<span style=\"color:teal\">Task:</span> Run the code cells above. And also change the numbers. When you do division, what do you notice?"
   ]
  },
  {
   "cell_type": "markdown",
   "metadata": {},
   "source": [
    "Many programming languages use the dot (.) to symbolize a comma in a number. For instance, five-comma-3 is written as 5.3 in Python. If you would write 5,3 instead, it has a different meaning to Python. In fact, let's try that out right now!\n",
    "\n",
    "<span style=\"color:teal\">Task:</span> Create a new code cell and run the code `5,3`. What do you see?"
   ]
  },
  {
   "cell_type": "markdown",
   "metadata": {},
   "source": [
    "This might seem odd to you, but there is a system behind this madness which you will understand once you have worked more with Python."
   ]
  },
  {
   "cell_type": "markdown",
   "metadata": {},
   "source": [
    "## Modulo"
   ]
  },
  {
   "cell_type": "markdown",
   "metadata": {},
   "source": [
    "What happens when you distribute 13 cookies to 5 people?"
   ]
  },
  {
   "cell_type": "code",
   "execution_count": null,
   "metadata": {
    "collapsed": true
   },
   "outputs": [],
   "source": [
    "13 / 5"
   ]
  },
  {
   "cell_type": "markdown",
   "metadata": {},
   "source": [
    "Would everyone get 2.6 cookies? Of course not! Everyone would get 2 cookies and there would be 3 cookies that no one gets. But how would you calculate that? There is one more operator for divisions in Python that will be able to answer this question: The modulo operator (%). With the modulo operator you can determine what the remainder of a division is. If we want to know how many cookies will be left over, we can simply calculate:"
   ]
  },
  {
   "cell_type": "code",
   "execution_count": null,
   "metadata": {
    "collapsed": true
   },
   "outputs": [],
   "source": [
    "13 % 5"
   ]
  },
  {
   "cell_type": "markdown",
   "metadata": {},
   "source": [
    "And we can even go one step further! Let's make sure that the devision will always yield a clean result:"
   ]
  },
  {
   "cell_type": "code",
   "execution_count": null,
   "metadata": {
    "collapsed": true
   },
   "outputs": [],
   "source": [
    "( 13 - 13 % 5 ) / 5"
   ]
  },
  {
   "cell_type": "markdown",
   "metadata": {},
   "source": [
    "Python follows the basic rules of math when it comes to the order of calculation. Multiplication and divisions always take precendece over plus and minus. But if there are parentheses, the order changes.\n",
    "\n",
    "<span style=\"color:teal\">Task:</span> Play around with the numbers and change them. Also add some more parentheses.\n",
    "\n",
    "<span style=\"color:teal\">Task:</span> What is the remainder of 1234 divided by 123?"
   ]
  },
  {
   "cell_type": "markdown",
   "metadata": {},
   "source": [
    "There is actually another way to do division in Python: The integer-division-operator (//). This operator will always round down the result of the division."
   ]
  },
  {
   "cell_type": "code",
   "execution_count": null,
   "metadata": {
    "collapsed": true
   },
   "outputs": [],
   "source": [
    "13 // 5"
   ]
  },
  {
   "cell_type": "markdown",
   "metadata": {},
   "source": [
    "<span style=\"color:teal\">Task:</span> Execute the above cell. What do you notice?\n",
    "\n",
    "<span style=\"color:teal\">Task:</span> What is the result of `6 + 34 * 8.2 - ( 44 % 7 ) // 2`\n",
    "\n",
    "<span style=\"color:teal\">Task:</span> The calculation in the previous Task uses the `//` operator. Why does the result have digits after the comma?\n",
    "\n",
    "With that we have enough Python math knowledge under our belt! Time to proceed to the <a href=\"03 Logic.ipynb\">next chapter!</a>."
   ]
  },
  {
   "cell_type": "code",
   "execution_count": null,
   "metadata": {
    "collapsed": true
   },
   "outputs": [],
   "source": []
  }
 ],
 "metadata": {
  "kernelspec": {
   "display_name": "Python 3",
   "language": "python",
   "name": "python3"
  },
  "language_info": {
   "codemirror_mode": {
    "name": "ipython",
    "version": 3
   },
   "file_extension": ".py",
   "mimetype": "text/x-python",
   "name": "python",
   "nbconvert_exporter": "python",
   "pygments_lexer": "ipython3",
   "version": "3.6.5"
  }
 },
 "nbformat": 4,
 "nbformat_minor": 2
}
