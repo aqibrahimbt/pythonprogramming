{
 "cells": [
  {
   "cell_type": "markdown",
   "metadata": {},
   "source": [
    "# Loops"
   ]
  },
  {
   "cell_type": "markdown",
   "metadata": {
    "collapsed": true
   },
   "source": [
    "Computers are excellent when you have work that needs to be done again and again. They never get tired and will do whatever you ask them to do. But therein lies a danger: They will never question your commands as long as they are formulated in correct Python. If you tell the computer to count to infinity, it will do that:"
   ]
  },
  {
   "cell_type": "code",
   "execution_count": null,
   "metadata": {
    "collapsed": true
   },
   "outputs": [],
   "source": [
    "number = 1\n",
    "\n",
    "while True:\n",
    "    number = number + 1\n",
    "    \n",
    "print( \"This line will never be reached because the computer is too busy with counting to infinity\" )"
   ]
  },
  {
   "cell_type": "markdown",
   "metadata": {},
   "source": [
    "<span style=\"color:red\">*Please use the stop button in the toolbar above before you proceed with the Tutorial. Otherwise you will waste a lot of energy*</span>\n",
    "\n",
    "(After that a KeyboardInterrupt error will be shown. But that is fine)"
   ]
  },
  {
   "cell_type": "markdown",
   "metadata": {},
   "source": [
    "The `while` keyword is like the big brother of `if`. Just like `if` it takes something that can be interpreted as either `True` or `False` and it will activate the branch that follows the colon (:). But unlike `if` the `while` activates the branch again and again for as long as the condition is `True`."
   ]
  },
  {
   "cell_type": "code",
   "execution_count": 1,
   "metadata": {},
   "outputs": [
    {
     "name": "stdout",
     "output_type": "stream",
     "text": [
      "10 bottles of beer on the wall. 10 bottles of beer.\n",
      "Take one down, pass it around. 9 bottles of beer on the wall.\n",
      "9 bottles of beer on the wall. 9 bottles of beer.\n",
      "Take one down, pass it around. 8 bottles of beer on the wall.\n",
      "8 bottles of beer on the wall. 8 bottles of beer.\n",
      "Take one down, pass it around. 7 bottles of beer on the wall.\n",
      "7 bottles of beer on the wall. 7 bottles of beer.\n",
      "Take one down, pass it around. 6 bottles of beer on the wall.\n",
      "6 bottles of beer on the wall. 6 bottles of beer.\n",
      "Take one down, pass it around. 5 bottles of beer on the wall.\n",
      "5 bottles of beer on the wall. 5 bottles of beer.\n",
      "Take one down, pass it around. 4 bottles of beer on the wall.\n",
      "4 bottles of beer on the wall. 4 bottles of beer.\n",
      "Take one down, pass it around. 3 bottles of beer on the wall.\n",
      "3 bottles of beer on the wall. 3 bottles of beer.\n",
      "Take one down, pass it around. 2 bottles of beer on the wall.\n",
      "2 bottles of beer on the wall. 2 bottles of beer.\n",
      "Take one down, pass it around. 1 bottles of beer on the wall.\n",
      "1 bottles of beer on the wall. 1 bottles of beer.\n",
      "Take one down, pass it around. 0 bottles of beer on the wall.\n",
      "No more beer, time to go home\n"
     ]
    }
   ],
   "source": [
    "number_bottles_of_beer = 10\n",
    "\n",
    "while number_bottles_of_beer > 0:\n",
    "    print( number_bottles_of_beer, \"bottles of beer on the wall.\", number_bottles_of_beer, \"bottles of beer.\" )\n",
    "    number_bottles_of_beer = number_bottles_of_beer - 1\n",
    "    print( \"Take one down, pass it around.\", number_bottles_of_beer, \"bottles of beer on the wall.\" )\n",
    "\n",
    "print( 'No more beer, time to go home')"
   ]
  },
  {
   "cell_type": "markdown",
   "metadata": {},
   "source": [
    "<span style=\"color:teal\">(Difficult) Task:</span> Add `if` conditions and `print` functions in the above code so that when only one bottle of beer is left, the program displays \"1 bottle of beer\" instead of \"1 bottles of beer\".\n",
    "\n",
    "<span style=\"color:teal\">Task:</span> Once you have solved the previous task, check out <a href=\"http://www.99-bottles-of-beer.net/\" target=\"_blank\">this website</a>."
   ]
  },
  {
   "cell_type": "markdown",
   "metadata": {},
   "source": [
    "There is also another type of loop in Python that is very important: The `for` loop. The `for` loop looks a lot different than the `while` loop and it is a bit tricky to get started with it. But in principle it is fairly easy to deal with."
   ]
  },
  {
   "cell_type": "code",
   "execution_count": null,
   "metadata": {
    "collapsed": true
   },
   "outputs": [],
   "source": [
    "secret_pin = 3202\n",
    "\n",
    "for pin in range( 10000 ): # go through all numbers that are smaller than 10000\n",
    "    if pin == secret_pin: # trying to see if we have found the right PIN\n",
    "        print( \"Time to break into your bank account\" )"
   ]
  },
  {
   "cell_type": "markdown",
   "metadata": {},
   "source": [
    "Let's first take a look at `range( 10000 )`. The `range` function gives you all the numbers from 0 to 9999 which corresponds to all possible bank PINs from 0000 to 9999. And the computer is more than happy to test them all in less than one second. This is exactly why you should have good passwords for your accounts ...\n",
    "\n",
    "So, how does the `for` loop work? You have to use the following form:\n",
    "\n",
    "```\n",
    "for variable_name in some_sequence_of_values:\n",
    "```\n",
    "\n",
    "Whenever you have a `for` you also need to have `in`. They always go together. The `variable_name` is a *new* variable name that you create for the loop. This variable will always contain one element out of `some_sequence_of_values`."
   ]
  },
  {
   "cell_type": "markdown",
   "metadata": {},
   "source": [
    "<span style=\"color:teal\">Task:</span> Dislay all positive numbers that are divisible by 3 or 5 and that are smaller than 100. Remember that you can test divisibility by 3 with `number % 3 == 0`. Make sure that you do not print any number twice.\n",
    "\n",
    "(For our purposes 0 is a positive number)"
   ]
  },
  {
   "cell_type": "code",
   "execution_count": null,
   "metadata": {
    "collapsed": true
   },
   "outputs": [],
   "source": [
    "#try to figure out what is wrong here\n",
    "\n",
    "for x in range( 10 ):\n",
    "    for y in range( 10 ):\n",
    "        if x * y == 100:\n",
    "            from IPython.display import display, HTML\n",
    "            display( HTML( '<a href=\"08 Functions.ipynb\" target=\"_blank\">Time for the next level!</a>' ) )"
   ]
  }
 ],
 "metadata": {
  "kernelspec": {
   "display_name": "Python 3",
   "language": "python",
   "name": "python3"
  },
  "language_info": {
   "codemirror_mode": {
    "name": "ipython",
    "version": 3
   },
   "file_extension": ".py",
   "mimetype": "text/x-python",
   "name": "python",
   "nbconvert_exporter": "python",
   "pygments_lexer": "ipython3",
   "version": "3.6.5"
  }
 },
 "nbformat": 4,
 "nbformat_minor": 2
}
