{
 "cells": [
  {
   "cell_type": "markdown",
   "metadata": {},
   "source": [
    "# The Jupyter Notebook"
   ]
  },
  {
   "cell_type": "markdown",
   "metadata": {},
   "source": [
    "Welcome to your own copy of the Jupyter notebook! This notebook is interactive and you are free to change and add things!  You can try this out right now! Click on the title \"The Jupyter Notebook\" and change it to \"My Notebook\" because it is just for you.\n",
    "\n",
    "You can do this with any element of the notebook. You are encouraged to change it in any way you like."
   ]
  },
  {
   "cell_type": "markdown",
   "metadata": {},
   "source": [
    "The Jupyter notebook consists of several *notebook cells*. You can create a new cell by using the **Insert menu** above. Click on *Insert* and then on *Insert Cell Below* to get a new cell.\n",
    "\n",
    "<span style=\"color:teal\">Task:</span> Create a new cell below this cell."
   ]
  },
  {
   "cell_type": "markdown",
   "metadata": {},
   "source": [
    "But not all cells are the same. Try to enter something and then press shift+Enter. You will most likely see an error message! That is because, all new cells are *code* cells and not normal *text* cells. To turn a code cell into a normal text cell, select it and then you can do one of the following:\n",
    "\n",
    "* Press ctrl+m m (that means: First hold down the control and m key, then lift your fingers and press only m again)\n",
    "* Use the toolbar below the menu bar and change the dropdown menu from *Code* to *Markdown*\n",
    "\n",
    "Markdown is a special type of text. For the most part, it is identical to normal text. But there are some additional conventions that make it possible to turn text into more special contructs like lists.\n",
    "\n",
    "You can easily see that a cell is a code cell because it has something like <tt style=\"color:blue\">In [ ]:</tt> in front of it.\n",
    "\n",
    "<span style=\"color:teal\">Task:</span> Turn the new cell into a markdown cell (normal text cell)."
   ]
  },
  {
   "cell_type": "markdown",
   "metadata": {},
   "source": [
    "\n",
    "\n"
   ]
  },
  {
   "cell_type": "markdown",
   "metadata": {},
   "source": [
    "To turn a markdown cell into a code cell, select it and then do one of the following:\n",
    "\n",
    "* Press ctrl+m y\n",
    "* Use the toolbar below the menu bar and change the drowpdown menu from *Markdown* to *Code*\n",
    "\n",
    "<span style=\"color:teal\">Task:</span> Turn some cells into code cells (and ignore any error messages that might be shown as a consequence of that)"
   ]
  },
  {
   "cell_type": "markdown",
   "metadata": {},
   "source": [
    "There is also another type of cells: Heading cells. You can turn a *markdown cell* into a *heading cell* by inserting the hash symbol and a space (# ) at the very beginning of the cell."
   ]
  },
  {
   "cell_type": "markdown",
   "metadata": {},
   "source": [
    "<span style=\"color:teal\">Task:</span> Turn the previous cell into a heading cell."
   ]
  },
  {
   "cell_type": "markdown",
   "metadata": {},
   "source": [
    "You can also create headings of different importance. For example the following heading is a level 3 heading, because it was defined with 3 hash symbols."
   ]
  },
  {
   "cell_type": "markdown",
   "metadata": {},
   "source": [
    "### A level 3 heading"
   ]
  },
  {
   "cell_type": "markdown",
   "metadata": {},
   "source": [
    "<span style=\"color:teal\">Task:</span> Turn the heading in the previous cell into a level 5 heading."
   ]
  },
  {
   "cell_type": "markdown",
   "metadata": {},
   "source": [
    "## Deleting cells"
   ]
  },
  {
   "cell_type": "markdown",
   "metadata": {},
   "source": [
    "Sometimes you want to tidy up your notebook. In this case you can simply select the cell and press ctrl+m d d (that is: *ctrl+m*, then lift your fingers, press *d* and then press *d* again)."
   ]
  },
  {
   "cell_type": "markdown",
   "metadata": {},
   "source": [
    "<span style=\"color:teal\">Task:</span> Delete this cell."
   ]
  },
  {
   "cell_type": "markdown",
   "metadata": {},
   "source": [
    "Alternatively, you can also use the *cut* tool from the toolbar to get rid of a cell."
   ]
  },
  {
   "cell_type": "markdown",
   "metadata": {},
   "source": [
    "## Keyboard shortcuts"
   ]
  },
  {
   "cell_type": "markdown",
   "metadata": {},
   "source": [
    "There is a list of keyboard shortcuts that might come in handy when want to learn how to do some things faster. You can access this list by clicking on *Help* in the menu bar and then selecting *Keyboard Shortcuts*. While you are at it, you might also want to check out the \"User Interface Tour\"."
   ]
  },
  {
   "cell_type": "markdown",
   "metadata": {},
   "source": [
    "## Renaming Notebooks"
   ]
  },
  {
   "cell_type": "markdown",
   "metadata": {},
   "source": [
    "At the very top of the page there is the name of the notebook file. Right now it should be *01 How to work with the notebook*. It is possible to change this name, but for this course please *do not change the titles* because the titles are also the names of the notebooks. We will be using several notebooks for this course and it is important that the notebooks keep their names."
   ]
  },
  {
   "cell_type": "markdown",
   "metadata": {},
   "source": [
    "## Saving a notebook"
   ]
  },
  {
   "cell_type": "markdown",
   "metadata": {},
   "source": [
    "You can save the contents of a notebook by\n",
    "\n",
    "* Pressing ctrl+s on your keyboard\n",
    "* Clicking on the save icon (floppy disk) in the menu bar.\n",
    "\n",
    "Saving is important when you want to switch from one notebook to the next.\n",
    "\n",
    "<span style=\"color:teal\">Task: Save the notebook</span>.\n",
    "\n",
    "Speaking of switching notebooks... This is what we will do next! Simply follow <a href=\"02 Calculations.ipynb\">this link</a>."
   ]
  }
 ],
 "metadata": {
  "kernelspec": {
   "display_name": "Python 3",
   "language": "python",
   "name": "python3"
  },
  "language_info": {
   "codemirror_mode": {
    "name": "ipython",
    "version": 3
   },
   "file_extension": ".py",
   "mimetype": "text/x-python",
   "name": "python",
   "nbconvert_exporter": "python",
   "pygments_lexer": "ipython3",
   "version": "3.6.5"
  }
 },
 "nbformat": 4,
 "nbformat_minor": 2
}
