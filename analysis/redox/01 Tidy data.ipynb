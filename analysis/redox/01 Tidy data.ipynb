{
 "cells": [
  {
   "cell_type": "markdown",
   "metadata": {},
   "source": [
    "# Restructuring the redox data"
   ]
  },
  {
   "cell_type": "markdown",
   "metadata": {},
   "source": [
    "We basically have 3 types of data:\n",
    "    \n",
    "1. The well map that describes which well contains which experiments\n",
    "2. The Metadata of the redox measurements (Date, intended temperature, gas control, ....)\n",
    "3. The redox mesurements themselves\n",
    "\n",
    "We need to keep these data in separate files.\n",
    "\n",
    "I have already converted the files to CSV files for you (again, with tab as column delimiter).\n",
    "\n",
    "We have the following files:"
   ]
  },
  {
   "cell_type": "code",
   "execution_count": 1,
   "metadata": {},
   "outputs": [
    {
     "data": {
      "text/plain": [
       "['01_INIMS_ExiCyToxAssay_RTG_Lars_Binkle_C01_C02__20170620_101455.csv',\n",
       " '02_INIMS_ExiCyToxAssay_RTG_Lars_Binkle_C01_C02__20170621_102938.csv',\n",
       " '03_INIMS_ExiCyToxAssay_RTG_Lars_Binkle_C01_C02__20170622_103210.csv',\n",
       " '04_INIMS_ExiCyToxAssay_RTG_Lars_Binkle_C01_C02_20170623_103550.csv',\n",
       " '05_INIMS_ExiCyToxAssay_RTG_Lars_Binkle_C01_C02_20170627_105726.csv',\n",
       " '06_INIMS_ExiCyToxAssay_RTG_Lars_Binkle_C01_C02_20170629_095649.csv',\n",
       " '07_INIMS_ExiCyToxAssay_RTG_Lars_Binkle_C01_C02_20170630_102212.csv',\n",
       " 'Plate_Map_INIMS_ExiCyToxAssay_RTG_Lars_Binkle_C01_C02_joern.csv',\n",
       " 'masterkurs2018_n2a_differentiated_20180108_20180109_day1.csv',\n",
       " 'masterkurs2018_n2a_differentiated_20180108_20180109_day2.csv']"
      ]
     },
     "execution_count": 1,
     "metadata": {},
     "output_type": "execute_result"
    }
   ],
   "source": [
    "from os import listdir\n",
    "sorted( listdir( 'measurements/' ) )"
   ]
  },
  {
   "cell_type": "markdown",
   "metadata": {},
   "source": [
    "The plate map is in the file Plate_Map_INIMS_ExiCyToxAssay_RTG_Lars_Binkle_C01_C02_joern.csv.\n",
    "After talking to Lars I now now how to decode this matric.\n",
    "\n",
    "Planned structure:\n",
    "\n",
    "<table>\n",
    "<thead>\n",
    "<tr><th>well</th><th>label</th></tr>\n",
    "</thead>\n",
    "<tbody>\n",
    "<tr><td>A2</td><td>Supernatant</td></tr>\n",
    "<tr><td>F3</td><td>APV [ 50 μM + Glu [ 50 μM ]</td></tr>\n",
    "</tbody>\n",
    "</table>\n",
    "\n",
    "And each well should be its own line because each well is a single observation."
   ]
  },
  {
   "cell_type": "code",
   "execution_count": 2,
   "metadata": {
    "collapsed": true
   },
   "outputs": [],
   "source": [
    "#helper function\n",
    "def determine_wells( wells_definition ):\n",
    "    #we assume that wells are numbered from A-H and from 1 to 12\n",
    "    #furthermore we assume that the well definition is a string\n",
    "    #of the form A1:H12 where the label before the colon is the\n",
    "    #top-left corner and the label after the colon is the bottom-left\n",
    "    #corner of the area.\n",
    "    corners = wells_definition.split( ':' )\n",
    "    assert len( corners ) == 2, 'Definition of well range is invalid'\n",
    "    letter1 = corners[ 0 ][ 0 ] #first corner name and then first letter in the string: A12 -> A\n",
    "    letter2 = corners[ 1 ][ 0 ]\n",
    "    number1 = int( corners[ 0 ][ 1: ] ) #first corner name and then all all letters after the first letter: A12 -> 12\n",
    "    number2 = int( corners[ 1 ][ 1: ] )\n",
    "    \n",
    "    result = []\n",
    "    while letter1 <= letter2:\n",
    "        while number1 <= number2:\n",
    "            result.append( letter1 + str( number1 ) )\n",
    "            number1 += 1\n",
    "        letter1 = chr( ord( letter1 ) + 1 ) #counting one letter up by using the UTF-8 representation\n",
    "        number1 = int( corners[ 0 ][ 1: ] ) #restore the old number for the inner loop\n",
    "    return result\n",
    "\n",
    "#main tidy function for well labels\n",
    "def tidy_well_data( filename, outfile_name ):\n",
    "    labels = {} # well -> label\n",
    "    with open( filename ) as f:\n",
    "        for line in f:\n",
    "            tokens = line.rstrip( '\\n' ).split( '\\t' ) #always do .rstrip('\\n') to get rid of the newline marker\n",
    "            if tokens[ 0 ] == 'Wells': #check for header line\n",
    "                continue #ignore header\n",
    "            wells = determine_wells( tokens[ 0 ] ) #convert ranges of wells into individual well names\n",
    "            label = tokens[ 1 ].replace( '\\\\mu', 'μ' ) # I prefer to have the real μ character instead of \\mu\n",
    "            for well in wells:\n",
    "                labels[ well ] = label\n",
    "    \n",
    "    with open( outfile_name, 'w' ) as out:\n",
    "        out.write( 'well\\tlabel\\n' ) #header\n",
    "        for well, label in labels.items():\n",
    "            out.write( '{}\\t{}\\n'.format( well, label ) )"
   ]
  },
  {
   "cell_type": "code",
   "execution_count": 3,
   "metadata": {
    "collapsed": true
   },
   "outputs": [],
   "source": [
    "tidy_well_data( 'measurements/Plate_Map_INIMS_ExiCyToxAssay_RTG_Lars_Binkle_C01_C02_joern.csv', 'measurements/plate_map.csv' )"
   ]
  },
  {
   "cell_type": "markdown",
   "metadata": {},
   "source": [
    "Next, let's extract the metadata from the measurements. The output format will be very straightforward:\n",
    "\n",
    "<table>\n",
    "<thead>\n",
    "<tr><th>key</th><th>value</th></tr>\n",
    "</thead>\n",
    "<tbody>\n",
    "<tr><td>Target temperature</td><td>37°C</td></tr>\n",
    "<tr><td>Date</td><td>2018-01-08</td></tr>\n",
    "</tbody>\n",
    "</table>"
   ]
  },
  {
   "cell_type": "code",
   "execution_count": 4,
   "metadata": {
    "collapsed": true
   },
   "outputs": [],
   "source": [
    "#helper function\n",
    "def extract_metadata( filename ):\n",
    "    result = {}\n",
    "    \n",
    "    #these keys have their values in column [4]\n",
    "    #it is common practise in data cleaning that you explicitly state these details\n",
    "    #because otherwise it is a lot of work to write code that detects these structures\n",
    "    #automatically. So it is perfectly fine to use human intelligence here.\n",
    "    long_distance_key_value_names = [ 'Date', 'Time', 'System', 'User', 'Plate', 'Lid lifter',\n",
    "                                      'Humidity Casette', 'Name', 'Firmware' ]\n",
    "    with open( filename ) as f:\n",
    "        for line in f:\n",
    "            parts = line.rstrip( '\\n' ).split( '\\t' )\n",
    "            if parts[ 0 ] == 'RTG': #this is where the measurements start\n",
    "                #we need to fast-forward till the entry with the End time\n",
    "                while not line.startswith( 'End Time' ):\n",
    "                    line = f.readline() #we now do the line fetching ourselves\n",
    "                    \n",
    "                end_time = line.split( '\\t' )[ 4 ]\n",
    "                result[ 'End Time' ] = end_time\n",
    "                return result # we only care about the metadata\n",
    "\n",
    "            key, some_value, unit = parts[ 0 ], parts[ 4 ], parts[ 5 ]\n",
    "            if ':' in key: #check if there is some relationship that is marked with ':'\n",
    "                key2, value = key.split( ':' )\n",
    "                if key2 in long_distance_key_value_names: #check if we need to look for the value far to the right\n",
    "                    result[ key2 ] = some_value + \" \" + unit\n",
    "                else:\n",
    "                    result[ key2 ] = value\n",
    "            elif some_value != '':\n",
    "                result[ key ] = some_value + unit\n",
    "                \n",
    "    assert False, 'We should never reach this line.' #we should exit after we read the 'End Time' entry\n",
    "\n",
    "def tidy_metadata( filename, outfile_name ):\n",
    "    with open( outfile_name, 'w' ) as out:\n",
    "        out.write( 'key\\tvalue\\n' )\n",
    "        for key, value in extract_metadata( filename ).items():\n",
    "            out.write( '{}\\t{}\\n'.format( key, value ) )"
   ]
  },
  {
   "cell_type": "code",
   "execution_count": 5,
   "metadata": {
    "collapsed": true
   },
   "outputs": [],
   "source": [
    "tidy_metadata( 'measurements/masterkurs2018_n2a_differentiated_20180108_20180109_day1.csv', 'measurements/tidy_metadata_day1.csv' )\n",
    "tidy_metadata( 'measurements/masterkurs2018_n2a_differentiated_20180108_20180109_day2.csv', 'measurements/tidy_metadata_day2.csv' )"
   ]
  },
  {
   "cell_type": "markdown",
   "metadata": {
    "collapsed": true
   },
   "source": [
    "And let us finally proceed to the actual measurements. EI suggest that each file should represent one day. Each row will be one time point. Then we will have the followin structure:\n",
    "\n",
    "<table>\n",
    "<thead>\n",
    "<tr>\n",
    " <th>cycle number</th>\n",
    " <th>Time [s]</th>\n",
    " <th>CO2 %</th>\n",
    " <th>O2 %</th>\n",
    " <th>Temp [°C]</th>\n",
    " <th>A1</th>\n",
    " <th>A2</th>\n",
    " <th>...</th>\n",
    " <th>H12</th>\n",
    " </tr>\n",
    "</thead>\n",
    "<tbody>\n",
    "<tr>\n",
    " <td>1</td>\n",
    " <td>0</td>\n",
    " <td>4.8</td>\n",
    " <td>19.7</td>\n",
    " <td>37.03</td>\n",
    " <td>1667</td>\n",
    " <td>2480</td>\n",
    " <td>2656</td>\n",
    " <td>2676</td>\n",
    "</tr>\n",
    "<tr>\n",
    " <td>2</td>\n",
    " <td>1799</td>\n",
    " <td>5.0</td>\n",
    " <td>19.7</td>\n",
    " <td>37.1</td>\n",
    " <td>34782</td>\n",
    " <td>51977</td>\n",
    " <td>50725</td>\n",
    " <td>50916</td>\n",
    "\n",
    "</tr>\n",
    "</tbody>\n",
    "</table>"
   ]
  },
  {
   "cell_type": "code",
   "execution_count": 6,
   "metadata": {
    "collapsed": true
   },
   "outputs": [],
   "source": [
    "from collections import defaultdict\n",
    "\n",
    "def tidy_data( filename, output_filename ):\n",
    "    with open( filename ) as f:\n",
    "        for line in f:\n",
    "            if line.startswith( 'RTG' ):\n",
    "                break #okay, we can now proceed with the actual measurements\n",
    "                \n",
    "        cycle_numbers = f.readline().rstrip( '\\n' ).split( '\\t' )\n",
    "        assert cycle_numbers[ 0 ] == 'Cycle Nr.', 'First field after RTG is not Cycle Nr.'\n",
    "        assert int( cycle_numbers[ -1 ] ) == len( cycle_numbers ) - 1, 'Cycle numbers are not 1,2,3,...'\n",
    "        \n",
    "        times = f.readline().rstrip( '\\n' ).split( '\\t' )\n",
    "        assert times[ 0 ] == 'Time [s]', 'Second field after RTG is not Time [s]'\n",
    "        \n",
    "        co2 = f.readline().rstrip( '\\n' ).split( '\\t' )\n",
    "        assert co2[ 0 ] == 'CO2 %', 'Third field after RTG is not CO2 %'\n",
    "        \n",
    "        o2 = f.readline().rstrip( '\\n' ).split( '\\t' )\n",
    "        assert o2[ 0 ] == 'O2 %', 'Fourth field after RTG is not O2 %'\n",
    "        \n",
    "        temperature = f.readline().rstrip( '\\n' ).split( '\\t' )\n",
    "        assert temperature[ 0 ] == 'Temp. [°C]', 'Fifth field after RTG is not Temperature'\n",
    "        \n",
    "        well_measurements = []\n",
    "        for line in f: #proceed with the remaining lines\n",
    "            tokens = line.rstrip( '\\n' ).split( '\\t' )\n",
    "            if tokens[ 0 ] == '':\n",
    "                continue #ignore empty lines\n",
    "            elif tokens[ 0 ] == 'End Time':\n",
    "                break #time for a output\n",
    "            \n",
    "            well_measurements.append( tokens )\n",
    "\n",
    "        else:\n",
    "            assert False, 'Expected \"End Time\" field in file'\n",
    "        \n",
    "    #output\n",
    "    with open( output_filename, 'w' ) as out:\n",
    "        out.write( 'cycle number\\tTime [s]\\tCO2 %\\tO2 %\\tTemp [°C]' )\n",
    "        for well in well_measurements:\n",
    "            out.write( \"\\t\" + well[ 0 ] ) #this is the name of the well\n",
    "        out.write( \"\\n\" )\n",
    "        for i in range( 1, len( cycle_numbers ) ):\n",
    "            out.write( '{}\\t{}\\t{}\\t{}\\t{}'.format( i, times[ i ], co2[ i ], o2[ i ], temperature[ i ] ) )\n",
    "            for well in well_measurements:\n",
    "                out.write( \"\\t\" + well[ i ] )\n",
    "            out.write( '\\n' )"
   ]
  },
  {
   "cell_type": "code",
   "execution_count": 7,
   "metadata": {
    "collapsed": true
   },
   "outputs": [],
   "source": [
    "tidy_data( 'measurements/masterkurs2018_n2a_differentiated_20180108_20180109_day1.csv', 'measurements/tidy_data_day1.csv' )\n",
    "tidy_data( 'measurements/masterkurs2018_n2a_differentiated_20180108_20180109_day2.csv', 'measurements/tidy_data_day2.csv')"
   ]
  },
  {
   "cell_type": "markdown",
   "metadata": {},
   "source": [
    "And now we can analyse the data!"
   ]
  }
 ],
 "metadata": {
  "kernelspec": {
   "display_name": "Python 3",
   "language": "python",
   "name": "python3"
  },
  "language_info": {
   "codemirror_mode": {
    "name": "ipython",
    "version": 3
   },
   "file_extension": ".py",
   "mimetype": "text/x-python",
   "name": "python",
   "nbconvert_exporter": "python",
   "pygments_lexer": "ipython3",
   "version": "3.6.5"
  }
 },
 "nbformat": 4,
 "nbformat_minor": 2
}
