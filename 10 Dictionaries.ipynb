{
 "cells": [
  {
   "cell_type": "markdown",
   "metadata": {},
   "source": [
    "# Dictionaries"
   ]
  },
  {
   "cell_type": "markdown",
   "metadata": {
    "collapsed": true
   },
   "source": [
    "In the previous chapter we talked about lists. Lists can contain any value and if you want to extract a specific value from a list you need to know at which position in the list it is located. There is another *container* type in Python that I want to introduce in this chapter which is also capable of storing values: Dictionaries. A dictionary stores each value with a so-called *key*. This key can also be any Python value, but usually it is a string. Let's take a look at an example: "
   ]
  },
  {
   "cell_type": "code",
   "execution_count": null,
   "metadata": {
    "collapsed": true
   },
   "outputs": [],
   "source": [
    "capitals = { 'Germany': 'Berlin', 'France': 'Paris', 'England': 'London' }"
   ]
  },
  {
   "cell_type": "markdown",
   "metadata": {},
   "source": [
    "When you want to define a dictionary, you use curly braces ({}) to surround the values within that dictionary. In the above example the *values* are:"
   ]
  },
  {
   "cell_type": "code",
   "execution_count": null,
   "metadata": {
    "collapsed": true
   },
   "outputs": [],
   "source": [
    "capitals.values()"
   ]
  },
  {
   "cell_type": "markdown",
   "metadata": {},
   "source": [
    "And the *keys* are:"
   ]
  },
  {
   "cell_type": "code",
   "execution_count": null,
   "metadata": {
    "collapsed": true
   },
   "outputs": [],
   "source": [
    "capitals.keys()"
   ]
  },
  {
   "cell_type": "markdown",
   "metadata": {},
   "source": [
    "If you want to know what the capitol of Germany is, you can use the string \"Germany\" as a key:"
   ]
  },
  {
   "cell_type": "code",
   "execution_count": null,
   "metadata": {
    "collapsed": true
   },
   "outputs": [],
   "source": [
    "capitals[ 'Germany' ]"
   ]
  },
  {
   "cell_type": "markdown",
   "metadata": {},
   "source": [
    "Just like with lists, you access the elements contained in a dictionary by using square brackets ([]). You can also use the `in` operator to check if a *key* is in a dictionary:"
   ]
  },
  {
   "cell_type": "code",
   "execution_count": null,
   "metadata": {
    "collapsed": true
   },
   "outputs": [],
   "source": [
    "'Spain' in capitals"
   ]
  },
  {
   "cell_type": "markdown",
   "metadata": {},
   "source": [
    "Conversely, to check if a value is contained in a dictionary, you have to access the values first:"
   ]
  },
  {
   "cell_type": "code",
   "execution_count": null,
   "metadata": {
    "collapsed": true
   },
   "outputs": [],
   "source": [
    "'Paris' in capitals.values()"
   ]
  },
  {
   "cell_type": "markdown",
   "metadata": {},
   "source": [
    "Why are dictionaries important for us? One common use case for biological data analysis is mapping of identifiers from one type to another:"
   ]
  },
  {
   "cell_type": "code",
   "execution_count": null,
   "metadata": {
    "collapsed": true
   },
   "outputs": [],
   "source": [
    "human_gene_to_protein = { 'ENSG00000180914': 'OXYR_HUMAN',\n",
    "                          'ENSG00000163914': 'OPSD_HUMAN',\n",
    "                          'ENSG00000184845': 'DRD1_HUMAN'\n",
    "                        }\n",
    "\n",
    "human_gene_to_protein[ 'ENSG00000163914' ]"
   ]
  },
  {
   "cell_type": "markdown",
   "metadata": {},
   "source": [
    "And sometimes you even want to chain together mappings because you do not have a direct mapping:"
   ]
  },
  {
   "cell_type": "code",
   "execution_count": null,
   "metadata": {
    "collapsed": true
   },
   "outputs": [],
   "source": [
    "human_protein_to_readable_name = {\n",
    "    'DRD1_HUMAN': 'D(1A) dopamine receptor',\n",
    "    'OXYR_HUMAN': 'Oxytocin receptor',\n",
    "    'OPSD_HUMAN': 'Rhodopsin'\n",
    "} #note that the order of the entries does not matter\n",
    "\n",
    "human_protein_to_readable_name[ human_gene_to_protein[ 'ENSG00000163914' ] ] #note the nested dictionaries"
   ]
  },
  {
   "cell_type": "markdown",
   "metadata": {},
   "source": [
    "Obviously, if a direct mapping is not available, you can create it yourself:"
   ]
  },
  {
   "cell_type": "code",
   "execution_count": null,
   "metadata": {
    "collapsed": true
   },
   "outputs": [],
   "source": [
    "human_gene_to_readable_name = {} #start with an empty dictionary\n",
    "\n",
    "for key, value in human_gene_to_protein.items(): # the method `items` gives us each key-value pair\n",
    "    human_gene_to_readable_name[ key ] = human_protein_to_readable_name[ value ] # insert new key-value pair\n",
    "\n",
    "human_gene_to_readable_name"
   ]
  },
  {
   "cell_type": "markdown",
   "metadata": {},
   "source": [
    "To insert a value into a dictionary, you can simply say `dictionary[ key ] = value`.\n",
    "\n",
    "<span style=\"color:teal\">Task:</span> The above example uses the method `items` to get the key-value pairs. Your task is to create a new cell with a `for` loop that goes over `human_gene_to_readable_name`. This time do not use the `items` method (or any other method). Which values do you get from the for loop?"
   ]
  },
  {
   "cell_type": "markdown",
   "metadata": {},
   "source": [
    "Another common use case of dictionaries with biological data is joining datasets together. Let's say you have two tables:\n",
    "\n",
    "<table>\n",
    " <thead>\n",
    "  <tr><th>RNA molecule</th><th>expression</th></tr>\n",
    " </thead>\n",
    " <tbody>\n",
    "  <tr><td>hsa-miR-3200-3p</td><td>12</td></tr>\n",
    "  <tr><td>hsa-let-7f-5p</td><td>0</td></tr>\n",
    "  <tr><td>hsa-miR-4781-3p</td><td>7</td></tr>\n",
    " </tbody>\n",
    "</table>\n",
    "\n",
    "<table>\n",
    " <thead>\n",
    "  <tr><th>RNA molecule</th><th>position</th><th>sequence</th></tr>\n",
    " </thead>\n",
    " <tbody>\n",
    "  <tr><td>hsa-miR-3200-3p</td><td>chr22:30731610-30731631</td><td>CACCUUGCGCUACUCAGGUCUG</td></tr>\n",
    "  <tr><td>hsa-let-7f-5p</td><td>chrX:53557246-53557267</td><td>UGAGGUAGUAGAUUGUAUAGUU</td></tr>\n",
    "  <tr><td>hsa-miR-4781-3p</td><td>chr1:54054124-54054145</td><td>AAUGUUGGAAUCCUCGCUAGAG</td></tr>\n",
    " </tbody>\n",
    "</table>\n",
    "\n",
    "Then you could join these two tables together based on the common field \"RNA molecule\"."
   ]
  },
  {
   "cell_type": "code",
   "execution_count": null,
   "metadata": {
    "collapsed": true
   },
   "outputs": [],
   "source": [
    "rna_expressions = {\n",
    "    'hsa-miR-3200-3p': 12,\n",
    "    'hsa-let-7f-5p': 0,\n",
    "    'hsa-miR-4781-3p': 7\n",
    "}\n",
    "\n",
    "rna_details = {\n",
    "    'hsa-miR-3200-3p': { 'position': 'chr22:30731610-30731631', 'sequence': 'CACCUUGCGCUACUCAGGUCUG' },\n",
    "    'hsa-let-7f-5p':   { 'position': 'chrX:53557246-53557267', 'sequence': 'UGAGGUAGUAGAUUGUAUAGUU' },\n",
    "    'hsa-miR-4781-3p': { 'position': 'chr1:54054124-54054145', 'sequence': 'AAUGUUGGAAUCCUCGCUAGAG' }\n",
    "}\n",
    "\n",
    "# and now join these together:\n",
    "rna_in_more_detail = {}\n",
    "for rna, expression in rna_expressions.items():\n",
    "    details = rna_details[ rna ].copy() # we make a copy because we will make changes to the dictionary\n",
    "    details[ 'expression' ] = expression # dictionary[ key ] = value\n",
    "    rna_in_more_detail[ rna ] = details # put the dictionary `details` into the dictionary `rna_in_more_detail` using the key `rna`\n",
    "\n",
    "# let's print the new \"table\" in a more readable way:\n",
    "print( 'RNA name\\texpr.\\tnucleotide sequence\\tposition' ) # I renamed the headers a bit so that they print nicely\n",
    "for rna, details in rna_in_more_detail.items():\n",
    "    print( rna, end = \"\\t\" ) # print automatically outputs an end of line marker. To change this, use the `end` parameter \n",
    "    for key in [ 'expression', 'sequence', 'position' ]:\n",
    "        print( details[ key ], end = '\\t' )\n",
    "    print() # just output and end of line marker"
   ]
  },
  {
   "cell_type": "markdown",
   "metadata": {},
   "source": [
    "That was quiete a big example! And we also saw a new aspect of the `print` function: The `end` parameter. Normally, when you use `print` it will also print an end-of-line marker so that any further output will be shown on a new line. In the above example we need to output a table which means we do not want to have a new line whenever we print a variable. Instead, we want a new column and that is why we use `'\\t'` as the parameter to `end`.\n",
    "\n",
    "<span style=\"color:teal\">Task:</span> Remove the `copy` in the above example and run the whole code again. Then investigate the `rna_details` variable. What do you notice? Why could this be a bad thing?"
   ]
  },
  {
   "cell_type": "code",
   "execution_count": null,
   "metadata": {
    "collapsed": true
   },
   "outputs": [],
   "source": [
    "from IPython.display import display, HTML # in the next chapter you will learn what this line means\n",
    "\n",
    "#what is wrong here?\n",
    "\n",
    "chapter_links = {\n",
    "    'moduls': '<a href=\"11 Modules.ipynb\" target=\"_blank\">Time for the next chapter!</a>'\n",
    "}\n",
    "\n",
    "display( HTML( chapter_links[ 'modules' ] ) )"
   ]
  }
 ],
 "metadata": {
  "kernelspec": {
   "display_name": "Python 3",
   "language": "python",
   "name": "python3"
  },
  "language_info": {
   "codemirror_mode": {
    "name": "ipython",
    "version": 3
   },
   "file_extension": ".py",
   "mimetype": "text/x-python",
   "name": "python",
   "nbconvert_exporter": "python",
   "pygments_lexer": "ipython3",
   "version": "3.6.4"
  }
 },
 "nbformat": 4,
 "nbformat_minor": 2
}
