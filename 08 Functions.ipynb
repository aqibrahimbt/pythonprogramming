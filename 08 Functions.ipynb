{
 "cells": [
  {
   "cell_type": "markdown",
   "metadata": {},
   "source": [
    "# Functions"
   ]
  },
  {
   "cell_type": "markdown",
   "metadata": {},
   "source": [
    "We have encountered functions before: `print`, `input` and `range`. Python comes with a great number of Python functions that do various useful things. <a href=\"https://docs.python.org/3/library/functions.html\">Some are directly available to you</a> others first have to be explicitly activated (imported). But the neat thing about functions is that you can also define your own! In fact, writing your own functions is very important to writing larger programs because they help you to structure your program in a clearer way."
   ]
  },
  {
   "cell_type": "code",
   "execution_count": null,
   "metadata": {
    "collapsed": true
   },
   "outputs": [],
   "source": [
    "user = input( \"What is your name? \" )\n",
    "nick = input( \"What is your nickname? \" )\n",
    "\n",
    "print( \"Welcome to the greeting program!\" )\n",
    "\n",
    "def greet( name ):\n",
    "    print( \"It is nice to see you, \" + name + \"!\" )\n",
    "\n",
    "# functions don't do anything by themselves. They have to be called to become active\n",
    "    \n",
    "greet( user ) #first use of greet function\n",
    "print( \"Or should I rather say...\" )\n",
    "greet( nick ) #second use of greet function with a different parameter"
   ]
  },
  {
   "cell_type": "markdown",
   "metadata": {},
   "source": [
    "Just to make this example more interesting, the program first asks you two questions. Feel free to take them not too seriously if you do not have a nickname ;)\n",
    "\n",
    "Functions are defined with the keyword `def` which stands for \"define\". After the `def` you specify the name of the new function. In this case the name is `greet`. And then we need a pair of parentheses () for the *parameters* to the function. What are parameters? Basically, they are the input to functions. If you say \n",
    "\n",
    "```\n",
    "def my_function( a, b, c, d ):\n",
    "```\n",
    "\n",
    "you tell Python that this function wants 4 inputs and that these inputs will be named `a`, `b`, `c` and `d`. In the example above we see that the function `greet` takes one input and this input goes by the name `name`. Finally, after the parentheses you need a colon (:) to mark the beginning of a new code branch, because, as you can see, the code that follows is shifted to the right.\n",
    "\n",
    "So, what does a function do anyway? A function encloses a piece of code and it will only run this code when it is used elsewhere. And, what is also important: A function can be reused. The code above uses the `greet` function twice: One time with your name and one time with your nickname. Whenever you have some functionality that you need again and again, it makes a lot of sense to put that functionality in a function so that you can just use the function instead of writing the code again and again."
   ]
  },
  {
   "cell_type": "markdown",
   "metadata": {},
   "source": [
    "The `greet` function only serves one purpose: Show a message. But the way you should use functions about 96% of the time is to calculate a value. For example:"
   ]
  },
  {
   "cell_type": "code",
   "execution_count": null,
   "metadata": {
    "collapsed": true
   },
   "outputs": [],
   "source": [
    "def sum_to( number ):\n",
    "    total = number\n",
    "    for n in range( number ):\n",
    "        total = total + n\n",
    "    return total # the value of total is given to the caller of the function\n",
    "\n",
    "print( \"Sum of the first 10 numbers: \", sum_to( 10 ) )\n",
    "\n",
    "print( \"Sum of the first 100 numbers: \", sum_to( 100 ) )\n",
    "\n",
    "print( \"Sum of the first 1000 numbers: \", sum_to( 1000 ) )"
   ]
  },
  {
   "cell_type": "markdown",
   "metadata": {},
   "source": [
    "Notice the special word `return` in this example? Whenever there is a `return`, the function stops doing any further work and *returns* a value. In the above example it means that the `sum_to( 10 )` evaluates to 55 and this 55 is automatically inserted as a parameter to the `print` function.\n",
    "\n",
    "And now I can finally tell you that the return value of a function is automatically displayed as <span style=\"color:red\">Out[ ]</span> output in the Jupyter notebook."
   ]
  },
  {
   "cell_type": "code",
   "execution_count": null,
   "metadata": {
    "collapsed": true
   },
   "outputs": [],
   "source": [
    "sum_to( 15 )"
   ]
  },
  {
   "cell_type": "markdown",
   "metadata": {},
   "source": [
    "It might not be apparent to you right now, but functions are super useful to make it easier to understand your code in the future. Let's just take the above function `sum_to`. Now that you have defined the function `sum_to` you can just use it and you do not need to care about how it works *internally* because all you need to care about is the input and return value of the function. When you have a very large program, it is very helpful if you do not need to understand all of it. And when the function itself has a very clear name, you will probably also understand why the original author has used the function."
   ]
  },
  {
   "cell_type": "markdown",
   "metadata": {},
   "source": [
    "There is one more aspect that I want to talk about when it comes to *variables in functions*. When you define new variables in a function, these variables are *local* to the function. For example:"
   ]
  },
  {
   "cell_type": "code",
   "execution_count": null,
   "metadata": {
    "collapsed": true
   },
   "outputs": [],
   "source": [
    "a = 1 # a global variable\n",
    "\n",
    "def my_function():\n",
    "    a = 2 # a new local variable\n",
    "    print( a )\n",
    "\n",
    "print( a )\n",
    "my_function()\n",
    "print( a )"
   ]
  },
  {
   "cell_type": "markdown",
   "metadata": {},
   "source": [
    "This is actually a good thing because this allows you to reuse variable names. When you write a big program it would be bad if unrelated pieces of code code influenced each other unexpectedly. This would cause a lot of confusion."
   ]
  },
  {
   "cell_type": "markdown",
   "metadata": {},
   "source": [
    "<span style=\"color:teal\">Task:</span> Write the missing functions below so that each cell has a final value of `True`"
   ]
  },
  {
   "cell_type": "code",
   "execution_count": 8,
   "metadata": {
    "ExecuteTime": {
     "end_time": "2020-06-11T19:07:40.191826Z",
     "start_time": "2020-06-11T19:07:40.187199Z"
    }
   },
   "outputs": [
    {
     "data": {
      "text/plain": [
       "False"
      ]
     },
     "execution_count": 8,
     "metadata": {},
     "output_type": "execute_result"
    }
   ],
   "source": [
    "# write function definiton here\n",
    "\n",
    "def multiply(a, b):\n",
    "    times = a * b\n",
    "    return times\n",
    "\n",
    "\n",
    "multiply(5, 6) == 6"
   ]
  },
  {
   "cell_type": "code",
   "execution_count": 19,
   "metadata": {
    "ExecuteTime": {
     "end_time": "2020-06-11T19:17:14.429437Z",
     "start_time": "2020-06-11T19:17:14.423249Z"
    }
   },
   "outputs": [
    {
     "name": "stdout",
     "output_type": "stream",
     "text": [
      "John Doe \n"
     ]
    },
    {
     "data": {
      "text/plain": [
       "True"
      ]
     },
     "execution_count": 19,
     "metadata": {},
     "output_type": "execute_result"
    }
   ],
   "source": [
    "# write function definiton here\n",
    "\n",
    "def join_first_and_last_name(first_name, last_name):\n",
    "    full_name = first_name + ' ' + last_name + ' '\n",
    "    print(full_name)\n",
    "    return full_name\n",
    "\n",
    "\n",
    "# this function is used to concactenate strings \n",
    "def debbie(first_name, last_name):\n",
    "    full_name = first_name + ' ' + last_name + ' '\n",
    "    print(full_name)\n",
    "    return full_name\n",
    "\n",
    "join_first_and_last_name( \"John\", \"Doe\" ) == \"John Doe \"\n"
   ]
  },
  {
   "cell_type": "code",
   "execution_count": 18,
   "metadata": {
    "ExecuteTime": {
     "end_time": "2020-06-11T19:16:44.927766Z",
     "start_time": "2020-06-11T19:16:44.923691Z"
    }
   },
   "outputs": [
    {
     "data": {
      "text/plain": [
       "9"
      ]
     },
     "execution_count": 18,
     "metadata": {},
     "output_type": "execute_result"
    }
   ],
   "source": [
    "name = 'John Doe '\n",
    "len(name)"
   ]
  },
  {
   "cell_type": "code",
   "execution_count": null,
   "metadata": {
    "collapsed": true
   },
   "outputs": [],
   "source": [
    "# write function definiton here\n",
    "\n",
    "is_even_number( 10 ) and not is_even_number( 11 )"
   ]
  },
  {
   "cell_type": "code",
   "execution_count": null,
   "metadata": {
    "collapsed": true
   },
   "outputs": [],
   "source": [
    "# write function definiton here\n",
    "# hint: use the `in` keyword\n",
    "\n",
    "contains(\"functions are important\", \"port\")"
   ]
  },
  {
   "cell_type": "code",
   "execution_count": null,
   "metadata": {
    "collapsed": true
   },
   "outputs": [],
   "source": [
    "# write function definiton here\n",
    "\n",
    "complementary_base( 'A' ) == 'T' and complementary_base( 'C' ) == 'G' and complementary_base( 'G' ) == 'C' and complementary_base( 'T' ) == 'A' "
   ]
  },
  {
   "cell_type": "code",
   "execution_count": null,
   "metadata": {
    "collapsed": true
   },
   "outputs": [],
   "source": [
    "def create_link_to_next_chapter():\n",
    "    from IPython.display import display, HTML\n",
    "    display( HTML( '<a href=\"09 Lists.ipynb\" target=\"_blank\">And on we go</a>' ) )"
   ]
  }
 ],
 "metadata": {
  "kernelspec": {
   "display_name": "Python 3",
   "language": "python",
   "name": "python3"
  },
  "language_info": {
   "codemirror_mode": {
    "name": "ipython",
    "version": 3
   },
   "file_extension": ".py",
   "mimetype": "text/x-python",
   "name": "python",
   "nbconvert_exporter": "python",
   "pygments_lexer": "ipython3",
   "version": "3.7.6"
  },
  "toc": {
   "base_numbering": 1,
   "nav_menu": {},
   "number_sections": true,
   "sideBar": true,
   "skip_h1_title": false,
   "title_cell": "Table of Contents",
   "title_sidebar": "Contents",
   "toc_cell": false,
   "toc_position": {},
   "toc_section_display": true,
   "toc_window_display": false
  },
  "varInspector": {
   "cols": {
    "lenName": 16,
    "lenType": 16,
    "lenVar": 40
   },
   "kernels_config": {
    "python": {
     "delete_cmd_postfix": "",
     "delete_cmd_prefix": "del ",
     "library": "var_list.py",
     "varRefreshCmd": "print(var_dic_list())"
    },
    "r": {
     "delete_cmd_postfix": ") ",
     "delete_cmd_prefix": "rm(",
     "library": "var_list.r",
     "varRefreshCmd": "cat(var_dic_list()) "
    }
   },
   "types_to_exclude": [
    "module",
    "function",
    "builtin_function_or_method",
    "instance",
    "_Feature"
   ],
   "window_display": false
  }
 },
 "nbformat": 4,
 "nbformat_minor": 2
}