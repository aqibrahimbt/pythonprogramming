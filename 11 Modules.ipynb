{
 "cells": [
  {
   "cell_type": "markdown",
   "metadata": {},
   "source": [
    "# Modules"
   ]
  },
  {
   "cell_type": "markdown",
   "metadata": {
    "collapsed": true
   },
   "source": [
    "So far we have only worked with the things that are directly available to us in Python (with a few exceptions that I will soon explain). But there is a lot more that Python provides to us. And because it is so much, it is indeed better that we have to explicitly ask for it, because otherwise our programs would be filled with pre-defined variables for which we have no use.\n",
    "\n",
    "So, how do we get to these hidden pieces of functionality? We `import` them!"
   ]
  },
  {
   "cell_type": "code",
   "execution_count": null,
   "metadata": {
    "collapsed": true
   },
   "outputs": [],
   "source": [
    "from time import localtime #import the function localtime from the module time"
   ]
  },
  {
   "cell_type": "code",
   "execution_count": null,
   "metadata": {
    "collapsed": true
   },
   "outputs": [],
   "source": [
    "localtime() # the function localtime is now available to us"
   ]
  },
  {
   "cell_type": "markdown",
   "metadata": {
    "collapsed": true
   },
   "source": [
    "This gives up a pretty detailed view on the current point in time. We can also ask for some specific details:"
   ]
  },
  {
   "cell_type": "code",
   "execution_count": null,
   "metadata": {
    "collapsed": true
   },
   "outputs": [],
   "source": [
    "now = localtime()\n",
    "print( \"Today is the \" + str( now.tm_mday ) + \".\" + str( now.tm_mon ) +  \".\" + str( now.tm_year ) + \" \"\n",
    "       + \" It is now \" + str( now.tm_hour ) + \":\" + str( now.tm_min ) + \":\" + str( now.tm_sec ) )"
   ]
  },
  {
   "cell_type": "markdown",
   "metadata": {},
   "source": [
    "Because you can not simply glue a number to a string, you first have to convert the number to a string with `str`.\n",
    "\n",
    "Some modules like `time` come preinstaled with Python. They are part of the so-called *standard library*. To get an overview on the modules that are part of the Python standard libary you can go to the <a href=\"https://docs.python.org/3/library/index.html\" target=\"_blank\">official documentation</a>.\n",
    "\n",
    "But there are also further modules from third parties. For example, this Jupyter notebook is not part of the standard Python distribution. But you can install it after you have already installed Python. Or, alternatively you can also download an alternative Python distribution like <a href=\"https://www.anaconda.com/download/#linux\" target=\"_blank\">Anaconda</a> which contains much more than the default Python modules.\n",
    "\n",
    "One module that comes with Anaconda is the `IPython.display` module. This module provides facilities to display more advanced elements in a Jupyter notebook. For example, to display an image in the notebook you can use the following code:"
   ]
  },
  {
   "cell_type": "code",
   "execution_count": null,
   "metadata": {
    "collapsed": true
   },
   "outputs": [],
   "source": [
    "from IPython.display import display, Image\n",
    "Image( \"python.png\" ) #load this image from the current directory"
   ]
  },
  {
   "cell_type": "markdown",
   "metadata": {},
   "source": [
    "You can also define your own modules. All you have to do is to pick a name and then create a file `my_name.py` and put the file in a directory that is on the *Python module search path*. Now you might ask: Which directories are on the module search path? That is easy to find out:"
   ]
  },
  {
   "cell_type": "code",
   "execution_count": null,
   "metadata": {
    "collapsed": true
   },
   "outputs": [],
   "source": [
    "from sys import path\n",
    "path"
   ]
  },
  {
   "cell_type": "markdown",
   "metadata": {},
   "source": [
    "The empty string stands for the current directory. When you want to create your own module, you will usually have your own project directory and all your modules will be in that directory so that they can easily find each other when you import them.\n",
    "\n",
    "<span style=\"color:teal\">Last Task:</span> Go back to the <a href=\"..\" target=\"_blank\">chapters overview</a> and select `New` and then `Text File`. Click on `untitled.txt` and rename it to `my_module.py`. Then write a function named `last_words` that prints a string of your choice. Save the file. (`File` -> `Save`). Then run the next cell."
   ]
  },
  {
   "cell_type": "code",
   "execution_count": null,
   "metadata": {},
   "outputs": [],
   "source": [
    "#if you need to reload your module after you have made changes, the following lines can be helpful\n",
    "#import my_module\n",
    "#from importlib import reload\n",
    "#reload(my_module)\n",
    "\n",
    "from my_module import last_words\n",
    "last_words() #show one last message to conclude this tutorial on the Python basics"
   ]
  },
  {
   "cell_type": "code",
   "execution_count": null,
   "metadata": {
    "collapsed": true
   },
   "outputs": [],
   "source": []
  }
 ],
 "metadata": {
  "kernelspec": {
   "display_name": "Python 3",
   "language": "python",
   "name": "python3"
  },
  "language_info": {
   "codemirror_mode": {
    "name": "ipython",
    "version": 3
   },
   "file_extension": ".py",
   "mimetype": "text/x-python",
   "name": "python",
   "nbconvert_exporter": "python",
   "pygments_lexer": "ipython3",
   "version": "3.6.1"
  }
 },
 "nbformat": 4,
 "nbformat_minor": 2
}
