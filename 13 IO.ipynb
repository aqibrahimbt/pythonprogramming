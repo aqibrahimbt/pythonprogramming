{
 "cells": [
  {
   "cell_type": "markdown",
   "metadata": {},
   "source": [
    "# Reading and writing files (input and output)"
   ]
  },
  {
   "cell_type": "markdown",
   "metadata": {},
   "source": [
    "Files are a bit tricky to deal with. You basically have to follow a ceremony to work with them:\n",
    "\n",
    "1. Open the file and specify if you want to read or write to it\n",
    "2. Do what you want to do with the file's contents\n",
    "3. close the file\n",
    "\n",
    "Opening a file is not that difficult:"
   ]
  },
  {
   "cell_type": "code",
   "execution_count": null,
   "metadata": {
    "collapsed": true
   },
   "outputs": [],
   "source": [
    "file = open( \"data/masterkurs2018_n2a_differentiated_20180108_20180109_day1.csv\" )"
   ]
  },
  {
   "cell_type": "markdown",
   "metadata": {},
   "source": [
    "And if there is no error message then this worked.\n",
    "\n",
    "Now, for the next part. Let us just read the first line:"
   ]
  },
  {
   "cell_type": "code",
   "execution_count": null,
   "metadata": {
    "collapsed": true
   },
   "outputs": [],
   "source": [
    "file.readline()"
   ]
  },
  {
   "cell_type": "markdown",
   "metadata": {},
   "source": [
    "Do you recoginize this line? Also note the many `\\t`s? These are the tab symbol and they are meant to separate columns. We have a lot of empty columns.\n",
    "\n",
    "What happens when we call `readline` again?"
   ]
  },
  {
   "cell_type": "code",
   "execution_count": null,
   "metadata": {
    "collapsed": true
   },
   "outputs": [],
   "source": [
    "file.readline()"
   ]
  },
  {
   "cell_type": "markdown",
   "metadata": {},
   "source": [
    "We get the next line! That is nice. But calling `readline` again and again is tedious. And we want the computer to do the tedious work, right? So how about this?"
   ]
  },
  {
   "cell_type": "code",
   "execution_count": null,
   "metadata": {
    "collapsed": true
   },
   "outputs": [],
   "source": [
    "for line in file:\n",
    "    print( line, end = '' ) #each line already has an end of line marker. We do not want a double end of line"
   ]
  },
  {
   "cell_type": "markdown",
   "metadata": {},
   "source": [
    "And the for loop automatically stops when there are no more lines left. Even when you run the loop again it will print nothing more, because the file only cares about the lines that have not been read yet.\n",
    "\n",
    "Finally, it is very important to close the file when we are done with it, because any open file consumes some resources from the system. It's not much, but if you open thousands of files and never close them, the system might experience a shortage of resources. Closing a file is also not that difficult:"
   ]
  },
  {
   "cell_type": "code",
   "execution_count": null,
   "metadata": {
    "collapsed": true
   },
   "outputs": [],
   "source": [
    "file.close()"
   ]
  },
  {
   "cell_type": "markdown",
   "metadata": {},
   "source": [
    "There is a nice trick that you can use so that your files will always be closed when you are done with them:"
   ]
  },
  {
   "cell_type": "code",
   "execution_count": null,
   "metadata": {
    "collapsed": true
   },
   "outputs": [],
   "source": [
    "with open( \"data/masterkurs2018_n2a_differentiated_20180108_20180109_day1.csv\" ) as file:\n",
    "    first_line = file.readline()\n",
    "    print( first_line )\n",
    "\n",
    "print( \"The file should be closed now\" )\n",
    "\n",
    "#file.readline() #this line will cause an error because the file is already closed"
   ]
  },
  {
   "cell_type": "markdown",
   "metadata": {},
   "source": [
    "The `with` trick is nice. But if your file code spans several Jupyter cells it will not work.\n",
    "\n",
    "The `open` function has two parameters: The filename and the action. The action can be one of the following:\n",
    "\n",
    "* \"r\" read from the file. This is also the default if you do not specify the second parameter\n",
    "* \"w\" create a new file or overwrite an existing file\n",
    "* \"a\" append to an existing file\n",
    "\n",
    "So, if you want to write to a file you can do the following:"
   ]
  },
  {
   "cell_type": "code",
   "execution_count": null,
   "metadata": {
    "collapsed": true
   },
   "outputs": [],
   "source": [
    "with open( \"data/my_file\", \"w\" ) as out: #note the \"w\" here for \"write\". And our variable is called \"out\"\n",
    "    out.write( \"This is a message in a bottle\" )\n",
    "\n",
    "#let us retrieve the message again:\n",
    "with open( \"data/my_file\", \"r\" ) as file:\n",
    "    print( file.read() )"
   ]
  },
  {
   "cell_type": "markdown",
   "metadata": {},
   "source": [
    "This already covers most of the things that you need when working with files. Python assumes that whatever you read or write will be simple ASCII/UTF-8 text. If you need to read/write something else <a href=\"https://docs.python.org/3/library/functions.html#open\" target=\"_blank\">you have to specify \"rb\", \"wb\" or \"ab\"</a>."
   ]
  },
  {
   "cell_type": "markdown",
   "metadata": {},
   "source": [
    "When you read a file the lines in the file will still have their *new line marker*. The easiest way to get rid of it is to use the `rstrip` method on the line string:"
   ]
  },
  {
   "cell_type": "code",
   "execution_count": null,
   "metadata": {
    "collapsed": true
   },
   "outputs": [],
   "source": [
    "with open( \"data/masterkurs2018_n2a_differentiated_20180108_20180109_day1.csv\" ) as file:\n",
    "    for line in file:\n",
    "        print( line.rstrip( '\\n' ) ) # `\\n` is the new line marker that will create a new file.\n",
    "        #it is also possible to leave out the parameter to `rstrip` but this will also remove `\\t`s\n",
    "        #when you have empty columns at the end of the line. This will cause problems in practise."
   ]
  },
  {
   "cell_type": "markdown",
   "metadata": {},
   "source": [
    "Speaking of files, you can also use Python to ask about the file system. The `os` module provide several facilities for this:"
   ]
  },
  {
   "cell_type": "code",
   "execution_count": null,
   "metadata": {
    "collapsed": true
   },
   "outputs": [],
   "source": [
    "from os import getcwd, listdir\n",
    "print( \"We are currently in the directory {}\".format( getcwd() ) )\n",
    "print( \"And here we have the following files:\" )\n",
    "for filename in listdir():\n",
    "    print( filename )"
   ]
  },
  {
   "cell_type": "code",
   "execution_count": null,
   "metadata": {
    "collapsed": true
   },
   "outputs": [],
   "source": [
    "from IPython.display import display, HTML\n",
    "from os import listdir\n",
    "\n",
    "topic_of_next_chapter = 'plot stuff' #this does not seem right\n",
    "\n",
    "for filename in listdir():\n",
    "    if topic_of_next_chapter in filename:\n",
    "        display( HTML( '<a href=\"{}\" target=\"_blank\">Next up: Matplotlib!</a>'.format( filename ) ) )"
   ]
  }
 ],
 "metadata": {
  "kernelspec": {
   "display_name": "Python 3",
   "language": "python",
   "name": "python3"
  },
  "language_info": {
   "codemirror_mode": {
    "name": "ipython",
    "version": 3
   },
   "file_extension": ".py",
   "mimetype": "text/x-python",
   "name": "python",
   "nbconvert_exporter": "python",
   "pygments_lexer": "ipython3",
   "version": "3.6.4"
  }
 },
 "nbformat": 4,
 "nbformat_minor": 2
}
