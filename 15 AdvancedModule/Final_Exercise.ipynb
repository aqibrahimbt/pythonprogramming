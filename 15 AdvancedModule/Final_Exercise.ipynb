{
 "cells": [
  {
   "cell_type": "markdown",
   "metadata": {},
   "source": [
    "# Graphing - adult size vs. newborn size\n",
    "\n",
    "It makes sense that larger organisms have larger offspring, but what the mathematical form of this relationship should be is unclear. Let’s look at the problem empirically for mammals.\n",
    "\n",
    "Download [some mammal life history data](http://esapubs.org/archive/ecol/E084/093/Mammal_lifehistories_v2.txt\") from the web. You can do this either directly in the program using urllib or download the file to your computer using your browser and import it from there.\n",
    "\n",
    "Import the data into a Pandas data frame. There are some extra blank lines at the end of this file, so get rid of them by using the optional read_csv() argument, skip_footer=7.\n",
    "\n",
    "Missing data in this file is specified by -999 and -999.00. Tell Pandas that these are null values using the optional read_csv() argument, `na_values=[‘-999’, ‘-999.00’]. This will stop them from being plotted.\n",
    "\n",
    "    1. Graph adult mass vs. newborn mass. Label the axes.\n",
    "    2. Graph the log (base 10) of adult mass vs. the log (base 10) of newborn mass. Label the axes.\n",
    "    3. For data where order is Rodentia, graph the log (base 10) of adult mass vs. the log (base 10) of newborn mass. Label the axes.\n",
    "\n"
   ]
  },
  {
   "cell_type": "code",
   "execution_count": null,
   "metadata": {},
   "outputs": [],
   "source": []
  }
 ],
 "metadata": {
  "kernelspec": {
   "display_name": "Python 3",
   "language": "python",
   "name": "python3"
  },
  "language_info": {
   "codemirror_mode": {
    "name": "ipython",
    "version": 3
   },
   "file_extension": ".py",
   "mimetype": "text/x-python",
   "name": "python",
   "nbconvert_exporter": "python",
   "pygments_lexer": "ipython3",
   "version": "3.7.1"
  }
 },
 "nbformat": 4,
 "nbformat_minor": 2
}
