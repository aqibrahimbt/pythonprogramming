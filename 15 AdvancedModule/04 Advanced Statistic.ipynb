{
 "cells": [
  {
   "cell_type": "markdown",
   "metadata": {},
   "source": [
    "# Statistics in Python"
   ]
  },
  {
   "cell_type": "markdown",
   "metadata": {},
   "source": [
    "There are two major modules for doing statistical analyses in Python:\n",
    "\n",
    "* [Scipy](http://docs.scipy.org/doc/scipy/reference/stats.html) - basic statistics and distribution fitting\n",
    "* [Statsmodels](http://statsmodels.sourceforge.net/stable/index.html) - advanced statistical modeling focused on linear models\n",
    "(including ANOVA, multiple regression, generalized linear models, etc.)\n",
    "\n",
    "To see the full functionality of these modules you'll need to look through\n",
    "their pages, but here are a few examples to show you that a lot of the\n",
    "standard statistical tests and models you need to perform can be easily\n",
    "done using Python."
   ]
  },
  {
   "cell_type": "markdown",
   "metadata": {},
   "source": [
    "Imports\n",
    "-------\n",
    "You'll want the `stats` module from Scipy and the `api` and `formula.api`\n",
    "modulesfrom statsmodels. We'll also go ahead and import Numpy for use in\n",
    "generating data and Matplotlib for some graphing."
   ]
  },
  {
   "cell_type": "code",
   "execution_count": null,
   "metadata": {},
   "outputs": [],
   "source": [
    "!pip install scipy\n",
    "!pip install statsmodels\n",
    "!pip install numpy\n",
    "!pip install matplotlib\n",
    "!pip install pandas"
   ]
  },
  {
   "cell_type": "code",
   "execution_count": null,
   "metadata": {},
   "outputs": [],
   "source": [
    "import scipy.stats as stats\n",
    "import statsmodels.api as sm\n",
    "import statsmodels.formula.api as smf\n",
    "\n",
    "import numpy as np\n",
    "import matplotlib.pyplot as plt\n",
    "import pandas as pd\n",
    "\n",
    "%matplotlib inline"
   ]
  },
  {
   "cell_type": "markdown",
   "metadata": {},
   "source": [
    "## Descriptive Statistics"
   ]
  },
  {
   "cell_type": "markdown",
   "metadata": {},
   "source": [
    "`stats.describe()` gives basic descriptive statistics on any list of numbers. It returns (in the following order) the size of the data, it's min and max, the mean, the variance, skewness, and kurtosis."
   ]
  },
  {
   "cell_type": "code",
   "execution_count": null,
   "metadata": {},
   "outputs": [],
   "source": [
    "x = [1, 2, 3, 4, 5]\n",
    "stats.describe(x)"
   ]
  },
  {
   "cell_type": "markdown",
   "metadata": {},
   "source": [
    "We can also get this kind of information for columns in a DataFrame using the `.describe()` method."
   ]
  },
  {
   "cell_type": "code",
   "execution_count": null,
   "metadata": {},
   "outputs": [],
   "source": [
    "data = pd.DataFrame([[1, 2, 3.5], [2, 2.4, 3.1], [3, 1.8, 2.5]], columns=['a', 'b', 'c'])\n",
    "print (data)\n",
    "data.describe()"
   ]
  },
  {
   "cell_type": "markdown",
   "metadata": {},
   "source": [
    "## T-tests"
   ]
  },
  {
   "cell_type": "markdown",
   "metadata": {},
   "source": [
    "Standard 1-sample and 2-sample t-tests (as well as many other basic statistical tests) are available in `scipy.stats`.\n",
    "T-tests return two values, the t-statistic and the p-value. First, let's generate some data that is normally distributed around zero."
   ]
  },
  {
   "cell_type": "code",
   "execution_count": null,
   "metadata": {},
   "outputs": [],
   "source": [
    "x1 = np.random.randn(100, 1)\n",
    "x2 = np.random.randn(100, 1)"
   ]
  },
  {
   "cell_type": "markdown",
   "metadata": {},
   "source": [
    "### One-sample t-test"
   ]
  },
  {
   "cell_type": "markdown",
   "metadata": {},
   "source": [
    "To determine if the mean of `x1` is different from some number use a one-sample t-test.\n",
    "We'll compare the mean of `x1` to both 0 (which it shouldn't be different from) and to 1 (which it should be different from)."
   ]
  },
  {
   "cell_type": "code",
   "execution_count": null,
   "metadata": {},
   "outputs": [],
   "source": [
    "tstat, pval = stats.ttest_1samp(x1, 0)\n",
    "print (\"Comparison of the mean of x1 to 0.\\nT-statistic = %s; P-value = %s.\" % (tstat, pval))\n",
    "\n",
    "tstat, pval = stats.ttest_1samp(x1, 1)\n",
    "print (\"Comparison of the mean of x1 to 5.\\nT-statistic = %s; P-value = %s.\" % (tstat, pval))"
   ]
  },
  {
   "cell_type": "markdown",
   "metadata": {},
   "source": [
    "### Two-sample t-test"
   ]
  },
  {
   "cell_type": "markdown",
   "metadata": {},
   "source": [
    "To determine if the mean of two different sets of numbers are different from one another wuse a two-sample t-test. We'll compare the means of `x1` and `x2`, which should be different from one another since they should both be about zero."
   ]
  },
  {
   "cell_type": "code",
   "execution_count": null,
   "metadata": {},
   "outputs": [],
   "source": [
    "tstat, pval = stats.ttest_ind(x1, x2)\n",
    "print (\"Comparison of the means of x1 and x2.\\nT-statistic = %s; P-value = %s.\" % (tstat, pval))"
   ]
  },
  {
   "cell_type": "markdown",
   "metadata": {},
   "source": [
    "## Distribution fitting and analysis"
   ]
  },
  {
   "cell_type": "markdown",
   "metadata": {},
   "source": [
    "`scipy.stats` also includes a powerful general system for working with statistical distribution.\n",
    "Let's generate some random normally distributed numbers to analyze."
   ]
  },
  {
   "cell_type": "code",
   "execution_count": null,
   "metadata": {},
   "outputs": [],
   "source": [
    "u, sigma = 4, 2\n",
    "random_numbers = stats.norm.rvs(u, sigma, size=50)\n",
    "random_numbers"
   ]
  },
  {
   "cell_type": "markdown",
   "metadata": {},
   "source": [
    "We can then fit distributions to this data."
   ]
  },
  {
   "cell_type": "code",
   "execution_count": null,
   "metadata": {},
   "outputs": [],
   "source": [
    "stats.norm.fit(random_numbers)"
   ]
  },
  {
   "cell_type": "markdown",
   "metadata": {},
   "source": [
    "## Regression"
   ]
  },
  {
   "cell_type": "markdown",
   "metadata": {},
   "source": [
    "You can do simple univariate OLS regression in Scipy,\n",
    "but for anything more complicated you'll need statsmodels,\n",
    "so we'll just do the basics in statsmodels as well.\n",
    "\n",
    "First, we'll generate some data and plot it."
   ]
  },
  {
   "cell_type": "code",
   "execution_count": null,
   "metadata": {},
   "outputs": [],
   "source": [
    "#generate some data\n",
    "x = np.array(range(20))\n",
    "y = 3 + 0.5 * x + 2 * np.random.randn(20)\n",
    "data = pd.DataFrame(list(zip(x, y)), columns=['x', 'y'])\n",
    "\n",
    "#plot the data\n",
    "plt.plot(data['x'], data['y'], 'bo')\n",
    "plt.show()"
   ]
  },
  {
   "cell_type": "markdown",
   "metadata": {},
   "source": [
    "Now let's do a regression. We'll use formulas to specify regression models.\n",
    "This allows us to write our code in simple and intuitive ways,\n",
    "and means the we don't have to remember how to create design matrices for more complicated models.\n",
    "To do this we'll need to be using Pandas to manage the data.\n",
    "The regression function is name `ols` for \"ordinary least-squares\" the standard approach to regression.\n",
    "It takes two arguments. The first is a formula describing the regression we want to fit.\n",
    "In this case we just want to model the effect of `x` on `y` so we use `y ~ x`,\n",
    "where `x` and `y` are the names of columns in a data frame.\n",
    "The second argument is the name of the data frame that contains the columns `x` and `y`."
   ]
  },
  {
   "cell_type": "code",
   "execution_count": null,
   "metadata": {},
   "outputs": [],
   "source": [
    "results = smf.ols('y ~ x', data).fit()\n",
    "print (results.summary())"
   ]
  },
  {
   "cell_type": "markdown",
   "metadata": {},
   "source": [
    "So, ``.summary()`` presents us with most of the information we would want about the regression.\n",
    "We can also pull this information out in individual pieces. For example,"
   ]
  },
  {
   "cell_type": "code",
   "execution_count": null,
   "metadata": {},
   "outputs": [],
   "source": [
    "intercept, slope = results.params\n",
    "r2 = results.rsquared\n",
    "print (slope, intercept, r2)"
   ]
  },
  {
   "cell_type": "markdown",
   "metadata": {},
   "source": [
    "This makes it easy to store the key results of large numbers of analyses, or present\n",
    "the results in alternative ways, like graphs."
   ]
  },
  {
   "cell_type": "code",
   "execution_count": null,
   "metadata": {},
   "outputs": [],
   "source": [
    "plt.plot(data['x'], data['y'], 'bo')\n",
    "x = np.array([min(x), max(x)])\n",
    "y = intercept + slope * x\n",
    "plt.plot(x, y, 'r-')\n",
    "plt.show()"
   ]
  },
  {
   "cell_type": "markdown",
   "metadata": {},
   "source": [
    "You'll notice that in order to plot the regression line what we actually do is\n",
    "plot a line with the appropriate slope and intercept by:\n",
    "\n",
    "1. taking the minimum and maximum values of x\n",
    "2. calculating their values of y based on the regression results\n",
    "3. and plotting those two points with a straight line connecting them and no symbols"
   ]
  },
  {
   "cell_type": "markdown",
   "metadata": {},
   "source": [
    "### Multiple-regression"
   ]
  },
  {
   "cell_type": "markdown",
   "metadata": {},
   "source": [
    "Multiple-regression works the same way, but with additional terms in the formula."
   ]
  },
  {
   "cell_type": "code",
   "execution_count": null,
   "metadata": {},
   "outputs": [],
   "source": [
    "import pandas as pd\n",
    "\n",
    "#generate some data\n",
    "x = np.random.randn(50)\n",
    "z = np.random.randn(50)\n",
    "noise = np.random.randn(50)\n",
    "y = 3 + 0.5 * x + 1.5 * z + noise\n",
    "\n",
    "data = pd.DataFrame(list(zip(x, y, z)), columns=['x', 'y', 'z'])\n",
    "results = smf.ols('y ~ x + z', data).fit()\n",
    "print (results.summary())"
   ]
  },
  {
   "cell_type": "markdown",
   "metadata": {},
   "source": [
    "This makes it easy to do more complicated designs, including interactions."
   ]
  },
  {
   "cell_type": "code",
   "execution_count": null,
   "metadata": {},
   "outputs": [],
   "source": [
    "results = smf.ols('y ~ x + z + x*z', data).fit()\n",
    "print (results.summary())"
   ]
  },
  {
   "cell_type": "markdown",
   "metadata": {},
   "source": [
    "We can also include transformations in formulas using functions from Numpy."
   ]
  },
  {
   "cell_type": "code",
   "execution_count": null,
   "metadata": {},
   "outputs": [],
   "source": [
    "results = smf.ols('y ~ x + np.log10(z)', data).fit()\n",
    "print (results.summary())"
   ]
  },
  {
   "cell_type": "markdown",
   "metadata": {},
   "source": [
    "### ANOVA\n",
    "Using formulas also makes it easy to conduct statistical tests that are based on linear models.\n",
    "ANOVA is simply a linear model with appropriate dummy variables set up for each factor.\n",
    "To do this in statsmodels we simply use ``C()`` to tell the module that the\n",
    "variable of interest is categorical.\n",
    "\n",
    "This time, let's start by grabbing some data from the web."
   ]
  },
  {
   "cell_type": "code",
   "execution_count": null,
   "metadata": {},
   "outputs": [],
   "source": [
    "url = 'http://stats191.stanford.edu/data/rehab.csv'\n",
    "rehab_table = pd.read_table(url, delimiter=\",\")\n",
    "rehab_table"
   ]
  },
  {
   "cell_type": "markdown",
   "metadata": {},
   "source": [
    "To see if the time to rehabilitate an injury is related to the fitness category we do the same as above,\n",
    "but wrapping the predictor in ``C()``."
   ]
  },
  {
   "cell_type": "code",
   "execution_count": null,
   "metadata": {},
   "outputs": [],
   "source": [
    "results = smf.ols('Time ~ C(Fitness)', rehab_table).fit()\n",
    "print (results.summary())"
   ]
  },
  {
   "cell_type": "markdown",
   "metadata": {},
   "source": [
    "While all of the information that we want is technically present in this table,\n",
    "we typically want it presented in more standard fashion for ANOVA.\n",
    "We can do this using the ``anova_lm`` function."
   ]
  },
  {
   "cell_type": "code",
   "execution_count": null,
   "metadata": {},
   "outputs": [],
   "source": [
    "from statsmodels.stats.anova import anova_lm\n",
    "\n",
    "anova_lm(results)"
   ]
  },
  {
   "cell_type": "markdown",
   "metadata": {},
   "source": [
    "### And lots more\n",
    "\n",
    "Statsmodels includes much more advanced functionality including:\n",
    "\n",
    "* Generalized Least Squares (i.e., correlated error structures such as for spatial and comparative analysis)\n",
    "* Generalized Linear Models (i.e., non-normal error)\n",
    "* Robust Linear Models\n",
    "* Regression with Discrete Dependent Variable (e.g., logistic regression)\n",
    "* Time Series analysis"
   ]
  }
 ],
 "metadata": {
  "kernelspec": {
   "display_name": "Python 3",
   "language": "python",
   "name": "python3"
  },
  "language_info": {
   "codemirror_mode": {
    "name": "ipython",
    "version": 3
   },
   "file_extension": ".py",
   "mimetype": "text/x-python",
   "name": "python",
   "nbconvert_exporter": "python",
   "pygments_lexer": "ipython3",
   "version": "3.7.1"
  }
 },
 "nbformat": 4,
 "nbformat_minor": 1
}
