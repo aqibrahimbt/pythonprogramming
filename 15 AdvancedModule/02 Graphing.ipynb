{
 "cells": [
  {
   "cell_type": "markdown",
   "metadata": {},
   "source": [
    "## An Introduction to Graphing in Python\n",
    "The core plotting library in Python is [matplotlib](http://matplotlib.sourceforge.net/). The [matplotlib gallery](http://matplotlib.sourceforge.net/gallery.html) is a great way to figure out how to make the kind of plots you want. Just look for a plot of the right basic style and click on the image to see the code that generated it.\n",
    "\n",
    "Two things that may differ a bit from other graphing programs that you are used to:\n",
    "\n",
    "* Making a plot will return a plot object. If you assign this to something you can use it to modify the figure later. This is why in some of the examples below you will see some output before the figure.\n",
    "* In some Python interpreters you will need to explicitly tell Python to display the figures. This is done using the ``show()`` function. Several examples of using ``show()`` are included below."
   ]
  },
  {
   "cell_type": "code",
   "execution_count": null,
   "metadata": {},
   "outputs": [],
   "source": [
    "!pip install matplotlib\n",
    "!pip install numpy"
   ]
  },
  {
   "cell_type": "markdown",
   "metadata": {},
   "source": [
    "Basic plots of two variables\n",
    "----------------------------\n",
    "Generating basic bivariate plots is done using the plot() function."
   ]
  },
  {
   "cell_type": "code",
   "execution_count": null,
   "metadata": {},
   "outputs": [],
   "source": [
    "import matplotlib.pyplot as plt\n",
    "import numpy as np\n",
    "\n",
    "#generate some data\n",
    "x = np.array(range(20))\n",
    "y = 3 + 0.5 * x + np.random.randn(20)\n",
    "\n",
    "#plot the data\n",
    "plt.plot(x, y, 'bo')\n",
    "plt.show()"
   ]
  },
  {
   "cell_type": "markdown",
   "metadata": {},
   "source": [
    "We can also scale any of the axes logarithmically."
   ]
  },
  {
   "cell_type": "code",
   "execution_count": null,
   "metadata": {},
   "outputs": [],
   "source": [
    "fig = plt.loglog(x, y, 'rs')"
   ]
  },
  {
   "cell_type": "code",
   "execution_count": null,
   "metadata": {},
   "outputs": [],
   "source": [
    "fig = plt.semilogx(x, y, 'g^')"
   ]
  },
  {
   "cell_type": "markdown",
   "metadata": {},
   "source": [
    "Histograms\n",
    "----------\n",
    "Histograms are made using the hist() function."
   ]
  },
  {
   "cell_type": "code",
   "execution_count": null,
   "metadata": {},
   "outputs": [],
   "source": [
    "#generate some random numbers from a normal distribution\n",
    "data = 100 + np.random.randn(500)\n",
    "\n",
    "#make a histogram with 20 bins\n",
    "plt.hist(data, 20)\n",
    "plt.show()"
   ]
  },
  {
   "cell_type": "markdown",
   "metadata": {},
   "source": [
    "Labels\n",
    "------\n",
    "We can add axis labels to a figure using the xlabel() and ylabel() functions."
   ]
  },
  {
   "cell_type": "code",
   "execution_count": null,
   "metadata": {},
   "outputs": [],
   "source": [
    "plt.hist(data, 20)\n",
    "plt.xlabel('Body Mass (g)', fontsize=20)\n",
    "plt.ylabel('Number of Individuals', fontsize= 20)"
   ]
  },
  {
   "cell_type": "markdown",
   "metadata": {},
   "source": [
    "Axis Limits\n",
    "-----------\n",
    "Axis limits are changed using the ``axis([xmin, xmax, ymin, ymax])`` function."
   ]
  },
  {
   "cell_type": "code",
   "execution_count": null,
   "metadata": {},
   "outputs": [],
   "source": [
    "plt.hist(data, 20)\n",
    "plt.axis([90, 110, 0, 100])"
   ]
  },
  {
   "cell_type": "markdown",
   "metadata": {},
   "source": [
    "Plotting multiple sets of data together\n",
    "---------------------------------------\n",
    "To plot multiple datasets together we tell Python not to overwrite the previous data using ``hold(True)``. Running ``hold(False)`` will cause Python to start overwriting the figure again."
   ]
  },
  {
   "cell_type": "code",
   "execution_count": null,
   "metadata": {},
   "outputs": [],
   "source": [
    "x = np.array(range(20))\n",
    "y = 3 + 0.5 * x + np.random.randn(20)\n",
    "z = 2 + 0.9 * x + np.random.randn(20)\n",
    "\n",
    "#plot the data\n",
    "plt.plot(x, y, 'bo')\n",
    "plt.plot(x, z, 'r^')\n",
    "plt.show()"
   ]
  },
  {
   "cell_type": "markdown",
   "metadata": {},
   "source": [
    "Subplots\n",
    "--------\n",
    "Subplots are generated using ``subplot(#ofRows, #ofCols, Position)``."
   ]
  },
  {
   "cell_type": "code",
   "execution_count": null,
   "metadata": {},
   "outputs": [],
   "source": [
    "plt.subplot(1, 2, 1)\n",
    "plt.plot(x, y, 'rs')\n",
    "plt.subplot(1, 2, 2)\n",
    "plt.hist(data, 10)\n",
    "plt.show()"
   ]
  },
  {
   "cell_type": "markdown",
   "metadata": {},
   "source": [
    "New Figures\n",
    "-----------\n",
    "Plotting multiple figures in the same script requires that we create new figures, which is done using ``figure()``. In this example the two figures are different figures rather than subplots of a single figure."
   ]
  },
  {
   "cell_type": "code",
   "execution_count": null,
   "metadata": {},
   "outputs": [],
   "source": [
    "plt.plot(z, x, 'go')\n",
    "plt.figure()\n",
    "plt.plot(z, y, 'rs')"
   ]
  },
  {
   "cell_type": "markdown",
   "metadata": {},
   "source": [
    "Want to know more?\n",
    "------------------\n",
    "Matplotlib is very powerful and there are lots of functions and arugments to create different kinds of figures and modify them as much as you would like.\n",
    "Check out the [website](http://matplotlib.sourceforge.net/) or the [gallery](http://matplotlib.sourceforge.net/gallery.html) to learn more."
   ]
  }
 ],
 "metadata": {
  "kernelspec": {
   "display_name": "Python 3",
   "language": "python",
   "name": "python3"
  },
  "language_info": {
   "codemirror_mode": {
    "name": "ipython",
    "version": 3
   },
   "file_extension": ".py",
   "mimetype": "text/x-python",
   "name": "python",
   "nbconvert_exporter": "python",
   "pygments_lexer": "ipython3",
   "version": "3.7.1"
  }
 },
 "nbformat": 4,
 "nbformat_minor": 1
}
