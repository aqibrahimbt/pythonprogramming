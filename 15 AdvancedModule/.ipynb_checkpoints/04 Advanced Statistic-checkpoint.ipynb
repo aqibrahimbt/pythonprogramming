{
 "cells": [
  {
   "cell_type": "markdown",
   "metadata": {},
   "source": [
    "# Statistics in Python"
   ]
  },
  {
   "cell_type": "markdown",
   "metadata": {},
   "source": [
    "There are two major modules for doing statistical analyses in Python:\n",
    "\n",
    "* [Scipy](http://docs.scipy.org/doc/scipy/reference/stats.html) - basic statistics and distribution fitting\n",
    "* [Statsmodels](http://statsmodels.sourceforge.net/stable/index.html) - advanced statistical modeling focused on linear models\n",
    "(including ANOVA, multiple regression, generalized linear models, etc.)\n",
    "\n",
    "To see the full functionality of these modules you'll need to look through\n",
    "their pages, but here are a few examples to show you that a lot of the\n",
    "standard statistical tests and models you need to perform can be easily\n",
    "done using Python."
   ]
  },
  {
   "cell_type": "markdown",
   "metadata": {},
   "source": [
    "Imports\n",
    "-------\n",
    "You'll want the `stats` module from Scipy and the `api` and `formula.api`\n",
    "modulesfrom statsmodels. We'll also go ahead and import Numpy for use in\n",
    "generating data and Matplotlib for some graphing."
   ]
  },
  {
   "cell_type": "code",
   "execution_count": null,
   "metadata": {},
   "outputs": [],
   "source": [
    "!pip install scipy\n",
    "!pip install statsmodels\n",
    "!pip install numpy\n",
    "!pip install matplotlib\n",
    "!pip install pandas"
   ]
  },
  {
   "cell_type": "code",
   "execution_count": 1,
   "metadata": {},
   "outputs": [],
   "source": [
    "import scipy.stats as stats\n",
    "import statsmodels.api as sm\n",
    "import statsmodels.formula.api as smf\n",
    "\n",
    "import numpy as np\n",
    "import matplotlib.pyplot as plt\n",
    "import pandas as pd\n",
    "\n",
    "%matplotlib inline"
   ]
  },
  {
   "cell_type": "markdown",
   "metadata": {},
   "source": [
    "## Descriptive Statistics"
   ]
  },
  {
   "cell_type": "markdown",
   "metadata": {},
   "source": [
    "`stats.describe()` gives basic descriptive statistics on any list of numbers. It returns (in the following order) the size of the data, it's min and max, the mean, the variance, skewness, and kurtosis."
   ]
  },
  {
   "cell_type": "code",
   "execution_count": 2,
   "metadata": {},
   "outputs": [
    {
     "data": {
      "text/plain": [
       "DescribeResult(nobs=5, minmax=(1, 5), mean=3.0, variance=2.5, skewness=0.0, kurtosis=-1.3)"
      ]
     },
     "execution_count": 2,
     "metadata": {},
     "output_type": "execute_result"
    }
   ],
   "source": [
    "x = [1, 2, 3, 4, 5]\n",
    "stats.describe(x)"
   ]
  },
  {
   "cell_type": "markdown",
   "metadata": {},
   "source": [
    "We can also get this kind of information for columns in a DataFrame using the `.describe()` method."
   ]
  },
  {
   "cell_type": "code",
   "execution_count": 3,
   "metadata": {},
   "outputs": [
    {
     "name": "stdout",
     "output_type": "stream",
     "text": [
      "   a    b    c\n",
      "0  1  2.0  3.5\n",
      "1  2  2.4  3.1\n",
      "2  3  1.8  2.5\n"
     ]
    },
    {
     "data": {
      "text/html": [
       "<div>\n",
       "<style scoped>\n",
       "    .dataframe tbody tr th:only-of-type {\n",
       "        vertical-align: middle;\n",
       "    }\n",
       "\n",
       "    .dataframe tbody tr th {\n",
       "        vertical-align: top;\n",
       "    }\n",
       "\n",
       "    .dataframe thead th {\n",
       "        text-align: right;\n",
       "    }\n",
       "</style>\n",
       "<table border=\"1\" class=\"dataframe\">\n",
       "  <thead>\n",
       "    <tr style=\"text-align: right;\">\n",
       "      <th></th>\n",
       "      <th>a</th>\n",
       "      <th>b</th>\n",
       "      <th>c</th>\n",
       "    </tr>\n",
       "  </thead>\n",
       "  <tbody>\n",
       "    <tr>\n",
       "      <th>count</th>\n",
       "      <td>3.0</td>\n",
       "      <td>3.000000</td>\n",
       "      <td>3.000000</td>\n",
       "    </tr>\n",
       "    <tr>\n",
       "      <th>mean</th>\n",
       "      <td>2.0</td>\n",
       "      <td>2.066667</td>\n",
       "      <td>3.033333</td>\n",
       "    </tr>\n",
       "    <tr>\n",
       "      <th>std</th>\n",
       "      <td>1.0</td>\n",
       "      <td>0.305505</td>\n",
       "      <td>0.503322</td>\n",
       "    </tr>\n",
       "    <tr>\n",
       "      <th>min</th>\n",
       "      <td>1.0</td>\n",
       "      <td>1.800000</td>\n",
       "      <td>2.500000</td>\n",
       "    </tr>\n",
       "    <tr>\n",
       "      <th>25%</th>\n",
       "      <td>1.5</td>\n",
       "      <td>1.900000</td>\n",
       "      <td>2.800000</td>\n",
       "    </tr>\n",
       "    <tr>\n",
       "      <th>50%</th>\n",
       "      <td>2.0</td>\n",
       "      <td>2.000000</td>\n",
       "      <td>3.100000</td>\n",
       "    </tr>\n",
       "    <tr>\n",
       "      <th>75%</th>\n",
       "      <td>2.5</td>\n",
       "      <td>2.200000</td>\n",
       "      <td>3.300000</td>\n",
       "    </tr>\n",
       "    <tr>\n",
       "      <th>max</th>\n",
       "      <td>3.0</td>\n",
       "      <td>2.400000</td>\n",
       "      <td>3.500000</td>\n",
       "    </tr>\n",
       "  </tbody>\n",
       "</table>\n",
       "</div>"
      ],
      "text/plain": [
       "         a         b         c\n",
       "count  3.0  3.000000  3.000000\n",
       "mean   2.0  2.066667  3.033333\n",
       "std    1.0  0.305505  0.503322\n",
       "min    1.0  1.800000  2.500000\n",
       "25%    1.5  1.900000  2.800000\n",
       "50%    2.0  2.000000  3.100000\n",
       "75%    2.5  2.200000  3.300000\n",
       "max    3.0  2.400000  3.500000"
      ]
     },
     "execution_count": 3,
     "metadata": {},
     "output_type": "execute_result"
    }
   ],
   "source": [
    "data = pd.DataFrame([[1, 2, 3.5], [2, 2.4, 3.1], [3, 1.8, 2.5]], columns=['a', 'b', 'c'])\n",
    "print (data)\n",
    "data.describe()"
   ]
  },
  {
   "cell_type": "markdown",
   "metadata": {},
   "source": [
    "## T-tests"
   ]
  },
  {
   "cell_type": "markdown",
   "metadata": {},
   "source": [
    "Standard 1-sample and 2-sample t-tests (as well as many other basic statistical tests) are available in `scipy.stats`.\n",
    "T-tests return two values, the t-statistic and the p-value. First, let's generate some data that is normally distributed around zero."
   ]
  },
  {
   "cell_type": "code",
   "execution_count": 4,
   "metadata": {},
   "outputs": [],
   "source": [
    "x1 = np.random.randn(100, 1)\n",
    "x2 = np.random.randn(100, 1)"
   ]
  },
  {
   "cell_type": "markdown",
   "metadata": {},
   "source": [
    "### One-sample t-test"
   ]
  },
  {
   "cell_type": "markdown",
   "metadata": {},
   "source": [
    "To determine if the mean of `x1` is different from some number use a one-sample t-test.\n",
    "We'll compare the mean of `x1` to both 0 (which it shouldn't be different from) and to 1 (which it should be different from)."
   ]
  },
  {
   "cell_type": "code",
   "execution_count": 5,
   "metadata": {},
   "outputs": [
    {
     "name": "stdout",
     "output_type": "stream",
     "text": [
      "Comparison of the mean of x1 to 0.\n",
      "T-statistic = [-0.46914401]; P-value = [0.63999824].\n",
      "Comparison of the mean of x1 to 5.\n",
      "T-statistic = [-9.47373461]; P-value = [1.53878258e-15].\n"
     ]
    }
   ],
   "source": [
    "tstat, pval = stats.ttest_1samp(x1, 0)\n",
    "print (\"Comparison of the mean of x1 to 0.\\nT-statistic = %s; P-value = %s.\" % (tstat, pval))\n",
    "\n",
    "tstat, pval = stats.ttest_1samp(x1, 1)\n",
    "print (\"Comparison of the mean of x1 to 5.\\nT-statistic = %s; P-value = %s.\" % (tstat, pval))"
   ]
  },
  {
   "cell_type": "markdown",
   "metadata": {},
   "source": [
    "### Two-sample t-test"
   ]
  },
  {
   "cell_type": "markdown",
   "metadata": {},
   "source": [
    "To determine if the mean of two different sets of numbers are different from one another wuse a two-sample t-test. We'll compare the means of `x1` and `x2`, which should be different from one another since they should both be about zero."
   ]
  },
  {
   "cell_type": "code",
   "execution_count": 6,
   "metadata": {},
   "outputs": [
    {
     "name": "stdout",
     "output_type": "stream",
     "text": [
      "Comparison of the means of x1 and x2.\n",
      "T-statistic = [-0.08711235]; P-value = [0.93067024].\n"
     ]
    }
   ],
   "source": [
    "tstat, pval = stats.ttest_ind(x1, x2)\n",
    "print (\"Comparison of the means of x1 and x2.\\nT-statistic = %s; P-value = %s.\" % (tstat, pval))"
   ]
  },
  {
   "cell_type": "markdown",
   "metadata": {},
   "source": [
    "## Distribution fitting and analysis"
   ]
  },
  {
   "cell_type": "markdown",
   "metadata": {},
   "source": [
    "`scipy.stats` also includes a powerful general system for working with statistical distribution.\n",
    "Let's generate some random normally distributed numbers to analyze."
   ]
  },
  {
   "cell_type": "code",
   "execution_count": 7,
   "metadata": {},
   "outputs": [
    {
     "data": {
      "text/plain": [
       "array([7.69590067, 4.36587254, 5.34956152, 2.2894425 , 1.62810805,\n",
       "       4.4740839 , 5.5409593 , 2.71495582, 3.83310226, 0.74045742,\n",
       "       3.04957101, 6.43070504, 2.83052518, 1.36136932, 4.70020257,\n",
       "       3.42642121, 6.58832628, 3.41565003, 2.53240333, 9.88115831,\n",
       "       2.31437366, 7.06224518, 4.99538193, 4.40264703, 5.98959982,\n",
       "       5.60758441, 1.08156577, 3.66077   , 5.44712115, 4.13156436,\n",
       "       1.50926272, 4.11646962, 7.80584805, 2.0498804 , 2.58601762,\n",
       "       3.37552228, 5.27193486, 2.33716839, 2.13100227, 1.24186097,\n",
       "       4.52436397, 4.97726248, 6.38611547, 0.51626091, 1.5456718 ,\n",
       "       4.43132451, 4.27285957, 4.70767848, 5.85473322, 4.08833756])"
      ]
     },
     "execution_count": 7,
     "metadata": {},
     "output_type": "execute_result"
    }
   ],
   "source": [
    "u, sigma = 4, 2\n",
    "random_numbers = stats.norm.rvs(u, sigma, size=50)\n",
    "random_numbers"
   ]
  },
  {
   "cell_type": "markdown",
   "metadata": {},
   "source": [
    "We can then fit distributions to this data."
   ]
  },
  {
   "cell_type": "code",
   "execution_count": 8,
   "metadata": {},
   "outputs": [
    {
     "data": {
      "text/plain": [
       "(4.025424094591832, 2.0055411271703805)"
      ]
     },
     "execution_count": 8,
     "metadata": {},
     "output_type": "execute_result"
    }
   ],
   "source": [
    "stats.norm.fit(random_numbers)"
   ]
  },
  {
   "cell_type": "markdown",
   "metadata": {},
   "source": [
    "## Regression"
   ]
  },
  {
   "cell_type": "markdown",
   "metadata": {},
   "source": [
    "You can do simple univariate OLS regression in Scipy,\n",
    "but for anything more complicated you'll need statsmodels,\n",
    "so we'll just do the basics in statsmodels as well.\n",
    "\n",
    "First, we'll generate some data and plot it."
   ]
  },
  {
   "cell_type": "code",
   "execution_count": 9,
   "metadata": {},
   "outputs": [
    {
     "ename": "TypeError",
     "evalue": "data argument can't be an iterator",
     "output_type": "error",
     "traceback": [
      "\u001b[0;31m---------------------------------------------------------------------------\u001b[0m",
      "\u001b[0;31mTypeError\u001b[0m                                 Traceback (most recent call last)",
      "\u001b[0;32m<ipython-input-9-af1bfce9a5ce>\u001b[0m in \u001b[0;36m<module>\u001b[0;34m\u001b[0m\n\u001b[1;32m      2\u001b[0m \u001b[0mx\u001b[0m \u001b[0;34m=\u001b[0m \u001b[0mnp\u001b[0m\u001b[0;34m.\u001b[0m\u001b[0marray\u001b[0m\u001b[0;34m(\u001b[0m\u001b[0mrange\u001b[0m\u001b[0;34m(\u001b[0m\u001b[0;36m20\u001b[0m\u001b[0;34m)\u001b[0m\u001b[0;34m)\u001b[0m\u001b[0;34m\u001b[0m\u001b[0;34m\u001b[0m\u001b[0m\n\u001b[1;32m      3\u001b[0m \u001b[0my\u001b[0m \u001b[0;34m=\u001b[0m \u001b[0;36m3\u001b[0m \u001b[0;34m+\u001b[0m \u001b[0;36m0.5\u001b[0m \u001b[0;34m*\u001b[0m \u001b[0mx\u001b[0m \u001b[0;34m+\u001b[0m \u001b[0;36m2\u001b[0m \u001b[0;34m*\u001b[0m \u001b[0mnp\u001b[0m\u001b[0;34m.\u001b[0m\u001b[0mrandom\u001b[0m\u001b[0;34m.\u001b[0m\u001b[0mrandn\u001b[0m\u001b[0;34m(\u001b[0m\u001b[0;36m20\u001b[0m\u001b[0;34m)\u001b[0m\u001b[0;34m\u001b[0m\u001b[0;34m\u001b[0m\u001b[0m\n\u001b[0;32m----> 4\u001b[0;31m \u001b[0mdata\u001b[0m \u001b[0;34m=\u001b[0m \u001b[0mpd\u001b[0m\u001b[0;34m.\u001b[0m\u001b[0mDataFrame\u001b[0m\u001b[0;34m(\u001b[0m\u001b[0mzip\u001b[0m\u001b[0;34m(\u001b[0m\u001b[0mx\u001b[0m\u001b[0;34m,\u001b[0m \u001b[0my\u001b[0m\u001b[0;34m)\u001b[0m\u001b[0;34m,\u001b[0m \u001b[0mcolumns\u001b[0m\u001b[0;34m=\u001b[0m\u001b[0;34m[\u001b[0m\u001b[0;34m'x'\u001b[0m\u001b[0;34m,\u001b[0m \u001b[0;34m'y'\u001b[0m\u001b[0;34m]\u001b[0m\u001b[0;34m)\u001b[0m\u001b[0;34m\u001b[0m\u001b[0;34m\u001b[0m\u001b[0m\n\u001b[0m\u001b[1;32m      5\u001b[0m \u001b[0;34m\u001b[0m\u001b[0m\n\u001b[1;32m      6\u001b[0m \u001b[0;31m#plot the data\u001b[0m\u001b[0;34m\u001b[0m\u001b[0;34m\u001b[0m\u001b[0;34m\u001b[0m\u001b[0m\n",
      "\u001b[0;32m~/anaconda3/lib/python3.7/site-packages/pandas/core/frame.py\u001b[0m in \u001b[0;36m__init__\u001b[0;34m(self, data, index, columns, dtype, copy)\u001b[0m\n\u001b[1;32m    405\u001b[0m                 \u001b[0mmgr\u001b[0m \u001b[0;34m=\u001b[0m \u001b[0mself\u001b[0m\u001b[0;34m.\u001b[0m\u001b[0m_init_dict\u001b[0m\u001b[0;34m(\u001b[0m\u001b[0;34m{\u001b[0m\u001b[0;34m}\u001b[0m\u001b[0;34m,\u001b[0m \u001b[0mindex\u001b[0m\u001b[0;34m,\u001b[0m \u001b[0mcolumns\u001b[0m\u001b[0;34m,\u001b[0m \u001b[0mdtype\u001b[0m\u001b[0;34m=\u001b[0m\u001b[0mdtype\u001b[0m\u001b[0;34m)\u001b[0m\u001b[0;34m\u001b[0m\u001b[0;34m\u001b[0m\u001b[0m\n\u001b[1;32m    406\u001b[0m         \u001b[0;32melif\u001b[0m \u001b[0misinstance\u001b[0m\u001b[0;34m(\u001b[0m\u001b[0mdata\u001b[0m\u001b[0;34m,\u001b[0m \u001b[0mcollections\u001b[0m\u001b[0;34m.\u001b[0m\u001b[0mIterator\u001b[0m\u001b[0;34m)\u001b[0m\u001b[0;34m:\u001b[0m\u001b[0;34m\u001b[0m\u001b[0;34m\u001b[0m\u001b[0m\n\u001b[0;32m--> 407\u001b[0;31m             \u001b[0;32mraise\u001b[0m \u001b[0mTypeError\u001b[0m\u001b[0;34m(\u001b[0m\u001b[0;34m\"data argument can't be an iterator\"\u001b[0m\u001b[0;34m)\u001b[0m\u001b[0;34m\u001b[0m\u001b[0;34m\u001b[0m\u001b[0m\n\u001b[0m\u001b[1;32m    408\u001b[0m         \u001b[0;32melse\u001b[0m\u001b[0;34m:\u001b[0m\u001b[0;34m\u001b[0m\u001b[0;34m\u001b[0m\u001b[0m\n\u001b[1;32m    409\u001b[0m             \u001b[0;32mtry\u001b[0m\u001b[0;34m:\u001b[0m\u001b[0;34m\u001b[0m\u001b[0;34m\u001b[0m\u001b[0m\n",
      "\u001b[0;31mTypeError\u001b[0m: data argument can't be an iterator"
     ]
    }
   ],
   "source": [
    "#generate some data\n",
    "x = np.array(range(20))\n",
    "y = 3 + 0.5 * x + 2 * np.random.randn(20)\n",
    "data = pd.DataFrame(listzip(x, y), columns=['x', 'y'])\n",
    "\n",
    "#plot the data\n",
    "plt.plot(data['x'], data['y'], 'bo')\n",
    "plt.show()"
   ]
  },
  {
   "cell_type": "markdown",
   "metadata": {},
   "source": [
    "Now let's do a regression. We'll use formulas to specify regression models.\n",
    "This allows us to write our code in simple and intuitive ways,\n",
    "and means the we don't have to remember how to create design matrices for more complicated models.\n",
    "To do this we'll need to be using Pandas to manage the data.\n",
    "The regression function is name `ols` for \"ordinary least-squares\" the standard approach to regression.\n",
    "It takes two arguments. The first is a formula describing the regression we want to fit.\n",
    "In this case we just want to model the effect of `x` on `y` so we use `y ~ x`,\n",
    "where `x` and `y` are the names of columns in a data frame.\n",
    "The second argument is the name of the data frame that contains the columns `x` and `y`."
   ]
  },
  {
   "cell_type": "code",
   "execution_count": 10,
   "metadata": {},
   "outputs": [
    {
     "name": "stdout",
     "output_type": "stream",
     "text": [
      "                            OLS Regression Results                            \n",
      "==============================================================================\n",
      "Dep. Variable:                      y   R-squared:                       0.785\n",
      "Model:                            OLS   Adj. R-squared:                  0.773\n",
      "Method:                 Least Squares   F-statistic:                     65.84\n",
      "Date:                Sat, 04 Oct 2014   Prob (F-statistic):           2.00e-07\n",
      "Time:                        11:41:12   Log-Likelihood:                -40.471\n",
      "No. Observations:                  20   AIC:                             84.94\n",
      "Df Residuals:                      18   BIC:                             86.93\n",
      "Df Model:                           1                                         \n",
      "==============================================================================\n",
      "                 coef    std err          t      P>|t|      [95.0% Conf. Int.]\n",
      "------------------------------------------------------------------------------\n",
      "Intercept      2.2481      0.832      2.704      0.015         0.501     3.995\n",
      "x              0.6071      0.075      8.114      0.000         0.450     0.764\n",
      "==============================================================================\n",
      "Omnibus:                        1.724   Durbin-Watson:                   2.053\n",
      "Prob(Omnibus):                  0.422   Jarque-Bera (JB):                1.008\n",
      "Skew:                          -0.549   Prob(JB):                        0.604\n",
      "Kurtosis:                       2.940   Cond. No.                         21.5\n",
      "==============================================================================\n"
     ]
    }
   ],
   "source": [
    "results = smf.ols('y ~ x', data).fit()\n",
    "print results.summary()"
   ]
  },
  {
   "cell_type": "markdown",
   "metadata": {},
   "source": [
    "So, ``.summary()`` presents us with most of the information we would want about the regression.\n",
    "We can also pull this information out in individual pieces. For example,"
   ]
  },
  {
   "cell_type": "code",
   "execution_count": 11,
   "metadata": {},
   "outputs": [
    {
     "name": "stdout",
     "output_type": "stream",
     "text": [
      "0.607133890043 2.24811810288 0.78529268393\n"
     ]
    }
   ],
   "source": [
    "intercept, slope = results.params\n",
    "r2 = results.rsquared\n",
    "print slope, intercept, r2"
   ]
  },
  {
   "cell_type": "markdown",
   "metadata": {},
   "source": [
    "This makes it easy to store the key results of large numbers of analyses, or present\n",
    "the results in alternative ways, like graphs."
   ]
  },
  {
   "cell_type": "code",
   "execution_count": 12,
   "metadata": {},
   "outputs": [
    {
     "data": {
      "image/png": "[encoded data removed]",
      "text/plain": [
       "<matplotlib.figure.Figure at 0x7fba39f6f0d0>"
      ]
     },
     "metadata": {},
     "output_type": "display_data"
    }
   ],
   "source": [
    "plt.plot(data['x'], data['y'], 'bo')\n",
    "plt.hold(True)\n",
    "x = np.array([min(x), max(x)])\n",
    "y = intercept + slope * x\n",
    "plt.plot(x, y, 'r-')\n",
    "plt.show()"
   ]
  },
  {
   "cell_type": "markdown",
   "metadata": {},
   "source": [
    "You'll notice that in order to plot the regression line what we actually do is\n",
    "plot a line with the appropriate slope and intercept by:\n",
    "\n",
    "1. taking the minimum and maximum values of x\n",
    "2. calculating their values of y based on the regression results\n",
    "3. and plotting those two points with a straight line connecting them and no symbols"
   ]
  },
  {
   "cell_type": "markdown",
   "metadata": {},
   "source": [
    "### Multiple-regression"
   ]
  },
  {
   "cell_type": "markdown",
   "metadata": {},
   "source": [
    "Multiple-regression works the same way, but with additional terms in the formula."
   ]
  },
  {
   "cell_type": "code",
   "execution_count": 13,
   "metadata": {},
   "outputs": [
    {
     "name": "stdout",
     "output_type": "stream",
     "text": [
      "                            OLS Regression Results                            \n",
      "==============================================================================\n",
      "Dep. Variable:                      y   R-squared:                       0.765\n",
      "Model:                            OLS   Adj. R-squared:                  0.755\n",
      "Method:                 Least Squares   F-statistic:                     76.36\n",
      "Date:                Sat, 04 Oct 2014   Prob (F-statistic):           1.72e-15\n",
      "Time:                        11:41:12   Log-Likelihood:                -65.717\n",
      "No. Observations:                  50   AIC:                             137.4\n",
      "Df Residuals:                      47   BIC:                             143.2\n",
      "Df Model:                           2                                         \n",
      "==============================================================================\n",
      "                 coef    std err          t      P>|t|      [95.0% Conf. Int.]\n",
      "------------------------------------------------------------------------------\n",
      "Intercept      2.8254      0.133     21.294      0.000         2.558     3.092\n",
      "x              0.5812      0.124      4.699      0.000         0.332     0.830\n",
      "z              1.4573      0.123     11.868      0.000         1.210     1.704\n",
      "==============================================================================\n",
      "Omnibus:                        2.028   Durbin-Watson:                   1.739\n",
      "Prob(Omnibus):                  0.363   Jarque-Bera (JB):                1.936\n",
      "Skew:                           0.452   Prob(JB):                        0.380\n",
      "Kurtosis:                       2.663   Cond. No.                         1.20\n",
      "==============================================================================\n"
     ]
    }
   ],
   "source": [
    "import pandas as pd\n",
    "\n",
    "#generate some data\n",
    "x = np.random.randn(50)\n",
    "z = np.random.randn(50)\n",
    "noise = np.random.randn(50)\n",
    "y = 3 + 0.5 * x + 1.5 * z + noise\n",
    "\n",
    "data = pd.DataFrame(zip(x, y, z), columns=['x', 'y', 'z'])\n",
    "results = smf.ols('y ~ x + z', data).fit()\n",
    "print results.summary()"
   ]
  },
  {
   "cell_type": "markdown",
   "metadata": {},
   "source": [
    "This makes it easy to do more complicated designs, including interactions."
   ]
  },
  {
   "cell_type": "code",
   "execution_count": 14,
   "metadata": {},
   "outputs": [
    {
     "name": "stdout",
     "output_type": "stream",
     "text": [
      "                            OLS Regression Results                            \n",
      "==============================================================================\n",
      "Dep. Variable:                      y   R-squared:                       0.766\n",
      "Model:                            OLS   Adj. R-squared:                  0.751\n",
      "Method:                 Least Squares   F-statistic:                     50.17\n",
      "Date:                Sat, 04 Oct 2014   Prob (F-statistic):           1.52e-14\n",
      "Time:                        11:41:12   Log-Likelihood:                -65.585\n",
      "No. Observations:                  50   AIC:                             139.2\n",
      "Df Residuals:                      46   BIC:                             146.8\n",
      "Df Model:                           3                                         \n",
      "==============================================================================\n",
      "                 coef    std err          t      P>|t|      [95.0% Conf. Int.]\n",
      "------------------------------------------------------------------------------\n",
      "Intercept      2.8336      0.135     21.021      0.000         2.562     3.105\n",
      "x              0.5671      0.128      4.432      0.000         0.310     0.825\n",
      "z              1.4522      0.124     11.690      0.000         1.202     1.702\n",
      "x:z            0.0541      0.110      0.493      0.624        -0.167     0.275\n",
      "==============================================================================\n",
      "Omnibus:                        1.898   Durbin-Watson:                   1.788\n",
      "Prob(Omnibus):                  0.387   Jarque-Bera (JB):                1.844\n",
      "Skew:                           0.425   Prob(JB):                        0.398\n",
      "Kurtosis:                       2.596   Cond. No.                         1.46\n",
      "==============================================================================\n"
     ]
    }
   ],
   "source": [
    "results = smf.ols('y ~ x + z + x*z', data).fit()\n",
    "print results.summary()"
   ]
  },
  {
   "cell_type": "markdown",
   "metadata": {},
   "source": [
    "We can also include transformations in formulas using functions from Numpy."
   ]
  },
  {
   "cell_type": "code",
   "execution_count": 15,
   "metadata": {},
   "outputs": [
    {
     "name": "stdout",
     "output_type": "stream",
     "text": [
      "                            OLS Regression Results                            \n",
      "==============================================================================\n",
      "Dep. Variable:                      y   R-squared:                       0.336\n",
      "Model:                            OLS   Adj. R-squared:                  0.278\n",
      "Method:                 Least Squares   F-statistic:                     5.825\n",
      "Date:                Sat, 04 Oct 2014   Prob (F-statistic):            0.00898\n",
      "Time:                        11:41:12   Log-Likelihood:                -41.444\n",
      "No. Observations:                  26   AIC:                             88.89\n",
      "Df Residuals:                      23   BIC:                             92.66\n",
      "Df Model:                           2                                         \n",
      "===============================================================================\n",
      "                  coef    std err          t      P>|t|      [95.0% Conf. Int.]\n",
      "-------------------------------------------------------------------------------\n",
      "Intercept       4.5062      0.261     17.288      0.000         3.967     5.045\n",
      "x               0.6071      0.232      2.616      0.015         0.127     1.087\n",
      "np.log10(z)     2.2221      0.786      2.826      0.010         0.596     3.849\n",
      "==============================================================================\n",
      "Omnibus:                        2.703   Durbin-Watson:                   1.307\n",
      "Prob(Omnibus):                  0.259   Jarque-Bera (JB):                1.915\n",
      "Skew:                           0.664   Prob(JB):                        0.384\n",
      "Kurtosis:                       2.960   Cond. No.                         3.64\n",
      "==============================================================================\n"
     ]
    }
   ],
   "source": [
    "results = smf.ols('y ~ x + np.log10(z)', data).fit()\n",
    "print results.summary()"
   ]
  },
  {
   "cell_type": "markdown",
   "metadata": {},
   "source": [
    "### ANOVA\n",
    "Using formulas also makes it easy to conduct statistical tests that are based on linear models.\n",
    "ANOVA is simply a linear model with appropriate dummy variables set up for each factor.\n",
    "To do this in statsmodels we simply use ``C()`` to tell the module that the\n",
    "variable of interest is categorical.\n",
    "\n",
    "This time, let's start by grabbing some data from the web."
   ]
  },
  {
   "cell_type": "code",
   "execution_count": 16,
   "metadata": {},
   "outputs": [
    {
     "data": {
      "text/html": [
       "<div style=\"max-height:1000px;max-width:1500px;overflow:auto;\">\n",
       "<table border=\"1\" class=\"dataframe\">\n",
       "  <thead>\n",
       "    <tr style=\"text-align: right;\">\n",
       "      <th></th>\n",
       "      <th>Fitness</th>\n",
       "      <th>Time</th>\n",
       "    </tr>\n",
       "  </thead>\n",
       "  <tbody>\n",
       "    <tr>\n",
       "      <th>0 </th>\n",
       "      <td> 1</td>\n",
       "      <td> 29</td>\n",
       "    </tr>\n",
       "    <tr>\n",
       "      <th>1 </th>\n",
       "      <td> 1</td>\n",
       "      <td> 42</td>\n",
       "    </tr>\n",
       "    <tr>\n",
       "      <th>2 </th>\n",
       "      <td> 1</td>\n",
       "      <td> 38</td>\n",
       "    </tr>\n",
       "    <tr>\n",
       "      <th>3 </th>\n",
       "      <td> 1</td>\n",
       "      <td> 40</td>\n",
       "    </tr>\n",
       "    <tr>\n",
       "      <th>4 </th>\n",
       "      <td> 1</td>\n",
       "      <td> 43</td>\n",
       "    </tr>\n",
       "    <tr>\n",
       "      <th>5 </th>\n",
       "      <td> 1</td>\n",
       "      <td> 40</td>\n",
       "    </tr>\n",
       "    <tr>\n",
       "      <th>6 </th>\n",
       "      <td> 1</td>\n",
       "      <td> 30</td>\n",
       "    </tr>\n",
       "    <tr>\n",
       "      <th>7 </th>\n",
       "      <td> 1</td>\n",
       "      <td> 42</td>\n",
       "    </tr>\n",
       "    <tr>\n",
       "      <th>8 </th>\n",
       "      <td> 2</td>\n",
       "      <td> 30</td>\n",
       "    </tr>\n",
       "    <tr>\n",
       "      <th>9 </th>\n",
       "      <td> 2</td>\n",
       "      <td> 35</td>\n",
       "    </tr>\n",
       "    <tr>\n",
       "      <th>10</th>\n",
       "      <td> 2</td>\n",
       "      <td> 39</td>\n",
       "    </tr>\n",
       "    <tr>\n",
       "      <th>11</th>\n",
       "      <td> 2</td>\n",
       "      <td> 28</td>\n",
       "    </tr>\n",
       "    <tr>\n",
       "      <th>12</th>\n",
       "      <td> 2</td>\n",
       "      <td> 31</td>\n",
       "    </tr>\n",
       "    <tr>\n",
       "      <th>13</th>\n",
       "      <td> 2</td>\n",
       "      <td> 31</td>\n",
       "    </tr>\n",
       "    <tr>\n",
       "      <th>14</th>\n",
       "      <td> 2</td>\n",
       "      <td> 29</td>\n",
       "    </tr>\n",
       "    <tr>\n",
       "      <th>15</th>\n",
       "      <td> 2</td>\n",
       "      <td> 35</td>\n",
       "    </tr>\n",
       "    <tr>\n",
       "      <th>16</th>\n",
       "      <td> 2</td>\n",
       "      <td> 29</td>\n",
       "    </tr>\n",
       "    <tr>\n",
       "      <th>17</th>\n",
       "      <td> 2</td>\n",
       "      <td> 33</td>\n",
       "    </tr>\n",
       "    <tr>\n",
       "      <th>18</th>\n",
       "      <td> 3</td>\n",
       "      <td> 26</td>\n",
       "    </tr>\n",
       "    <tr>\n",
       "      <th>19</th>\n",
       "      <td> 3</td>\n",
       "      <td> 32</td>\n",
       "    </tr>\n",
       "    <tr>\n",
       "      <th>20</th>\n",
       "      <td> 3</td>\n",
       "      <td> 21</td>\n",
       "    </tr>\n",
       "    <tr>\n",
       "      <th>21</th>\n",
       "      <td> 3</td>\n",
       "      <td> 20</td>\n",
       "    </tr>\n",
       "    <tr>\n",
       "      <th>22</th>\n",
       "      <td> 3</td>\n",
       "      <td> 23</td>\n",
       "    </tr>\n",
       "    <tr>\n",
       "      <th>23</th>\n",
       "      <td> 3</td>\n",
       "      <td> 22</td>\n",
       "    </tr>\n",
       "  </tbody>\n",
       "</table>\n",
       "<p>24 rows × 2 columns</p>\n",
       "</div>"
      ],
      "text/plain": [
       "    Fitness  Time\n",
       "0         1    29\n",
       "1         1    42\n",
       "2         1    38\n",
       "3         1    40\n",
       "4         1    43\n",
       "5         1    40\n",
       "6         1    30\n",
       "7         1    42\n",
       "8         2    30\n",
       "9         2    35\n",
       "10        2    39\n",
       "11        2    28\n",
       "12        2    31\n",
       "13        2    31\n",
       "14        2    29\n",
       "15        2    35\n",
       "16        2    29\n",
       "17        2    33\n",
       "18        3    26\n",
       "19        3    32\n",
       "20        3    21\n",
       "21        3    20\n",
       "22        3    23\n",
       "23        3    22\n",
       "\n",
       "[24 rows x 2 columns]"
      ]
     },
     "execution_count": 16,
     "metadata": {},
     "output_type": "execute_result"
    }
   ],
   "source": [
    "url = 'http://stats191.stanford.edu/data/rehab.csv'\n",
    "rehab_table = pd.read_table(url, delimiter=\",\")\n",
    "rehab_table"
   ]
  },
  {
   "cell_type": "markdown",
   "metadata": {},
   "source": [
    "To see if the time to rehabilitate an injury is related to the fitness category we do the same as above,\n",
    "but wrapping the predictor in ``C()``."
   ]
  },
  {
   "cell_type": "code",
   "execution_count": 17,
   "metadata": {},
   "outputs": [
    {
     "name": "stdout",
     "output_type": "stream",
     "text": [
      "                            OLS Regression Results                            \n",
      "==============================================================================\n",
      "Dep. Variable:                   Time   R-squared:                       0.618\n",
      "Model:                            OLS   Adj. R-squared:                  0.581\n",
      "Method:                 Least Squares   F-statistic:                     16.96\n",
      "Date:                Sat, 04 Oct 2014   Prob (F-statistic):           4.13e-05\n",
      "Time:                        11:41:13   Log-Likelihood:                -68.286\n",
      "No. Observations:                  24   AIC:                             142.6\n",
      "Df Residuals:                      21   BIC:                             146.1\n",
      "Df Model:                           2                                         \n",
      "===================================================================================\n",
      "                      coef    std err          t      P>|t|      [95.0% Conf. Int.]\n",
      "-----------------------------------------------------------------------------------\n",
      "Intercept          38.0000      1.574     24.149      0.000        34.728    41.272\n",
      "C(Fitness)[T.2]    -6.0000      2.111     -2.842      0.010       -10.390    -1.610\n",
      "C(Fitness)[T.3]   -14.0000      2.404     -5.824      0.000       -18.999    -9.001\n",
      "==============================================================================\n",
      "Omnibus:                        0.163   Durbin-Watson:                   2.209\n",
      "Prob(Omnibus):                  0.922   Jarque-Bera (JB):                0.211\n",
      "Skew:                          -0.163   Prob(JB):                        0.900\n",
      "Kurtosis:                       2.675   Cond. No.                         3.80\n",
      "==============================================================================\n"
     ]
    }
   ],
   "source": [
    "results = smf.ols('Time ~ C(Fitness)', rehab_table).fit()\n",
    "print results.summary()"
   ]
  },
  {
   "cell_type": "markdown",
   "metadata": {},
   "source": [
    "While all of the information that we want is technically present in this table,\n",
    "we typically want it presented in more standard fashion for ANOVA.\n",
    "We can do this using the ``anova_lm`` function."
   ]
  },
  {
   "cell_type": "code",
   "execution_count": 18,
   "metadata": {},
   "outputs": [
    {
     "data": {
      "text/html": [
       "<div style=\"max-height:1000px;max-width:1500px;overflow:auto;\">\n",
       "<table border=\"1\" class=\"dataframe\">\n",
       "  <thead>\n",
       "    <tr style=\"text-align: right;\">\n",
       "      <th></th>\n",
       "      <th>df</th>\n",
       "      <th>sum_sq</th>\n",
       "      <th>mean_sq</th>\n",
       "      <th>F</th>\n",
       "      <th>PR(&gt;F)</th>\n",
       "    </tr>\n",
       "  </thead>\n",
       "  <tbody>\n",
       "    <tr>\n",
       "      <th>C(Fitness)</th>\n",
       "      <td>  2</td>\n",
       "      <td> 672</td>\n",
       "      <td> 336.000000</td>\n",
       "      <td> 16.961538</td>\n",
       "      <td> 0.000041</td>\n",
       "    </tr>\n",
       "    <tr>\n",
       "      <th>Residual</th>\n",
       "      <td> 21</td>\n",
       "      <td> 416</td>\n",
       "      <td>  19.809524</td>\n",
       "      <td>       NaN</td>\n",
       "      <td>      NaN</td>\n",
       "    </tr>\n",
       "  </tbody>\n",
       "</table>\n",
       "<p>2 rows × 5 columns</p>\n",
       "</div>"
      ],
      "text/plain": [
       "            df  sum_sq     mean_sq          F    PR(>F)\n",
       "C(Fitness)   2     672  336.000000  16.961538  0.000041\n",
       "Residual    21     416   19.809524        NaN       NaN\n",
       "\n",
       "[2 rows x 5 columns]"
      ]
     },
     "execution_count": 18,
     "metadata": {},
     "output_type": "execute_result"
    }
   ],
   "source": [
    "from statsmodels.stats.anova import anova_lm\n",
    "\n",
    "anova_lm(results)"
   ]
  },
  {
   "cell_type": "markdown",
   "metadata": {},
   "source": [
    "### And lots more\n",
    "\n",
    "Statsmodels includes much more advanced functionality including:\n",
    "\n",
    "* Generalized Least Squares (i.e., correlated error structures such as for spatial and comparative analysis)\n",
    "* Generalized Linear Models (i.e., non-normal error)\n",
    "* Robust Linear Models\n",
    "* Regression with Discrete Dependent Variable (e.g., logistic regression)\n",
    "* Time Series analysis"
   ]
  }
 ],
 "metadata": {
  "kernelspec": {
   "display_name": "Python 3",
   "language": "python",
   "name": "python3"
  },
  "language_info": {
   "codemirror_mode": {
    "name": "ipython",
    "version": 3
   },
   "file_extension": ".py",
   "mimetype": "text/x-python",
   "name": "python",
   "nbconvert_exporter": "python",
   "pygments_lexer": "ipython3",
   "version": "3.7.1"
  }
 },
 "nbformat": 4,
 "nbformat_minor": 1
}
