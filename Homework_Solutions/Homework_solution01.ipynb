{
 "cells": [
  {
   "cell_type": "markdown",
   "metadata": {},
   "source": [
    "### Question 2"
   ]
  },
  {
   "cell_type": "code",
   "execution_count": 1,
   "metadata": {
    "ExecuteTime": {
     "end_time": "2020-06-15T17:36:19.802271Z",
     "start_time": "2020-06-15T17:36:19.798075Z"
    }
   },
   "outputs": [
    {
     "name": "stdout",
     "output_type": "stream",
     "text": [
      "largest number =  178\n",
      "smallest number =  3\n"
     ]
    }
   ],
   "source": [
    "x = [3, 5,6 ,8,10, 34, 56, 178, 56, 67, 89, 20,59]\n",
    "print('largest number = ', max(x))\n",
    "print('smallest number = ', min(x))"
   ]
  },
  {
   "cell_type": "markdown",
   "metadata": {},
   "source": [
    "### Question 2"
   ]
  },
  {
   "cell_type": "code",
   "execution_count": 5,
   "metadata": {
    "ExecuteTime": {
     "end_time": "2020-06-15T17:56:01.226889Z",
     "start_time": "2020-06-15T17:56:01.221130Z"
    }
   },
   "outputs": [
    {
     "name": "stdout",
     "output_type": "stream",
     "text": [
      "[6, 8, 10, 34, 56, 178, 56, 20]\n",
      "[3, 5, 67, 89, 59]\n"
     ]
    }
   ],
   "source": [
    "list = [3, 5, 6 ,8, 10, 34, 56, 178, 56, 67, 89, 20,59]\n",
    "\n",
    "even_numbers = []\n",
    "odd_numbers= []\n",
    "\n",
    "for x in list:\n",
    "    if x%2 != 0:\n",
    "        odd_numbers.append(x)\n",
    "        #print(x , 'is an even number')\n",
    "    else:\n",
    "        even_numbers.append(x)\n",
    "        #print(x, 'is an odd number')\n",
    "        \n",
    "print(even_numbers)\n",
    "print(odd_numbers)"
   ]
  },
  {
   "cell_type": "markdown",
   "metadata": {},
   "source": [
    "### Question 7"
   ]
  },
  {
   "cell_type": "code",
   "execution_count": 8,
   "metadata": {
    "ExecuteTime": {
     "end_time": "2020-06-15T18:06:15.925652Z",
     "start_time": "2020-06-15T18:06:15.921140Z"
    }
   },
   "outputs": [
    {
     "name": "stdout",
     "output_type": "stream",
     "text": [
      "Sorry, try again next time\n",
      "congrats: you passed the exams\n",
      "congrats: you passed the exams\n",
      "congrats: you passed the exams\n",
      "congrats: you passed the exams\n",
      "Sorry, try again next time\n",
      "Sorry, try again next time\n",
      "Sorry, try again next time\n",
      "Sorry, try again next time\n"
     ]
    }
   ],
   "source": [
    "scores = [23, 45, 56, 67, 575, 1, 0, 4 , 4]\n",
    "pass_mark = 35\n",
    "\n",
    "for score in scores:\n",
    "    if int(score) > pass_mark:\n",
    "        print('congrats: you passed the exams')\n",
    "    else:\n",
    "        print('Sorry, try again next time')"
   ]
  },
  {
   "cell_type": "markdown",
   "metadata": {},
   "source": [
    "### Help Function"
   ]
  },
  {
   "cell_type": "code",
   "execution_count": 22,
   "metadata": {
    "ExecuteTime": {
     "end_time": "2020-06-15T18:33:01.884397Z",
     "start_time": "2020-06-15T18:33:01.878961Z"
    }
   },
   "outputs": [
    {
     "name": "stdout",
     "output_type": "stream",
     "text": [
      "[8, 14, 6, 19, 16, 12, 5, 17, 10, 15, 4, 11, 3, 18, 2]\n",
      "[2, 8, 14, 6, 19, 16, 12, 5, 17, 10, 15, 4, 11, 3, 18]\n"
     ]
    }
   ],
   "source": [
    "### Generate a list containing 1000 random numbers\n",
    "\n",
    "import random\n",
    "\n",
    "my_list = random.sample(range(1, 20), 15)\n",
    " \n",
    "def shift(newlist):\n",
    "    l = []\n",
    "    n = len(newlist)\n",
    "    l.append(newlist[-1])\n",
    "    num = newlist[:n-1]\n",
    "    for x in num:\n",
    "        l.append(x)\n",
    "    return l\n",
    "    \n",
    "print(my_list)\n",
    "print(shift(my_list))"
   ]
  },
  {
   "cell_type": "markdown",
   "metadata": {},
   "source": [
    "### Question 1"
   ]
  },
  {
   "cell_type": "code",
   "execution_count": 38,
   "metadata": {
    "ExecuteTime": {
     "end_time": "2020-06-15T19:02:19.690864Z",
     "start_time": "2020-06-15T19:02:19.683102Z"
    }
   },
   "outputs": [
    {
     "name": "stdout",
     "output_type": "stream",
     "text": [
      "[8, 11, 10, 3, 5, 17, 4, 18, 19, 9, 6, 2, 15, 7, 14]\n",
      "count of positive numbers:  15\n",
      "count of negative numbers:  0\n",
      "count of odd numbers:  8\n",
      "count of even numbers: 7\n",
      "count of zeros:  0\n"
     ]
    }
   ],
   "source": [
    "import random\n",
    "\n",
    "my_list = random.sample(range(1, 20), 15)\n",
    "print(my_list)\n",
    "\n",
    "count_positive_numbers = 0\n",
    "#count_negative_numbers = 0\n",
    "#count_odd_numbers = 0\n",
    "count_even_numbers = 0\n",
    "count_zeros = 0\n",
    "\n",
    "for num in my_list:\n",
    "    if num > 0:\n",
    "        #print(num, 'number is positive')\n",
    "        count_positive_numbers += 1\n",
    "    #else:\n",
    "        #print(num, 'number is negative')\n",
    "        #count_negative_numbers += 1\n",
    "        \n",
    "    if num%2 == 0:\n",
    "        #print(num, 'number is even')\n",
    "        count_even_numbers += 1\n",
    "    #else:\n",
    "        #print(num, 'number is odd')\n",
    "        #count_odd_numbers += 1\n",
    "    \n",
    "    if num == 0:\n",
    "        #print(num, 'number is zero')\n",
    "        count_zeros += 1\n",
    "        \n",
    "print('count of positive numbers: ', count_positive_numbers)\n",
    "print('count of negative numbers: ', len(my_list) - count_positive_numbers)\n",
    "print('count of odd numbers: ', len(my_list) - count_even_numbers)\n",
    "print('count of even numbers:', count_even_numbers)\n",
    "print('count of zeros: ', count_zeros)\n"
   ]
  },
  {
   "cell_type": "markdown",
   "metadata": {},
   "source": [
    "### Question 4\n",
    "\n",
    "\n",
    "Take a list of length n where all the numbers are non-negative and\n",
    "unique. Find the element in the list possessing the highest value. Split\n",
    "the element into two parts where first part contains the next highest\n",
    "value in the list and second part hold the required additive entity to get\n",
    "the highest value. Print the list where the highest value get splitted into\n",
    "those two parts.\n",
    "Sample input: 4 8 6 3 2\n",
    "Sample output: 4 6 2 6 3 2"
   ]
  },
  {
   "cell_type": "code",
   "execution_count": 45,
   "metadata": {
    "ExecuteTime": {
     "end_time": "2020-06-15T19:22:10.745671Z",
     "start_time": "2020-06-15T19:22:10.739208Z"
    }
   },
   "outputs": [
    {
     "name": "stdout",
     "output_type": "stream",
     "text": [
      "8\n",
      "1\n",
      "2\n",
      "[4, 6, 2, 6, 3, 2]\n"
     ]
    }
   ],
   "source": [
    "my_list = [4, 8, 6, 3, 2]\n",
    "i = 0\n",
    "largest = my_list[0]  #4\n",
    "\n",
    "while i < len(my_list):\n",
    "    if largest < my_list[i]:\n",
    "        largest = my_list[i]\n",
    "        largest_index = i\n",
    "    i = i + 1\n",
    "\n",
    "print(largest) # 8\n",
    "print(largest_index)\n",
    "\n",
    "sec_largest = my_list[0] # 4\n",
    "\n",
    "i=0\n",
    "while i < len(my_list):\n",
    "    if largest != my_list[i] and sec_largest < my_list[i]:\n",
    "        sec_largest = my_list[i]\n",
    "    i = i + 1\n",
    "    \n",
    "difference = largest - sec_largest\n",
    "print(difference)\n",
    "\n",
    "print(my_list[:largest_index] + [sec_largest, difference] + my_list[largest_index + 1:])"
   ]
  },
  {
   "cell_type": "code",
   "execution_count": null,
   "metadata": {},
   "outputs": [],
   "source": []
  }
 ],
 "metadata": {
  "kernelspec": {
   "display_name": "Python 3",
   "language": "python",
   "name": "python3"
  },
  "language_info": {
   "codemirror_mode": {
    "name": "ipython",
    "version": 3
   },
   "file_extension": ".py",
   "mimetype": "text/x-python",
   "name": "python",
   "nbconvert_exporter": "python",
   "pygments_lexer": "ipython3",
   "version": "3.7.6"
  },
  "toc": {
   "base_numbering": 1,
   "nav_menu": {},
   "number_sections": true,
   "sideBar": true,
   "skip_h1_title": false,
   "title_cell": "Table of Contents",
   "title_sidebar": "Contents",
   "toc_cell": false,
   "toc_position": {},
   "toc_section_display": true,
   "toc_window_display": false
  },
  "varInspector": {
   "cols": {
    "lenName": 16,
    "lenType": 16,
    "lenVar": 40
   },
   "kernels_config": {
    "python": {
     "delete_cmd_postfix": "",
     "delete_cmd_prefix": "del ",
     "library": "var_list.py",
     "varRefreshCmd": "print(var_dic_list())"
    },
    "r": {
     "delete_cmd_postfix": ") ",
     "delete_cmd_prefix": "rm(",
     "library": "var_list.r",
     "varRefreshCmd": "cat(var_dic_list()) "
    }
   },
   "types_to_exclude": [
    "module",
    "function",
    "builtin_function_or_method",
    "instance",
    "_Feature"
   ],
   "window_display": true
  }
 },
 "nbformat": 4,
 "nbformat_minor": 2
}
